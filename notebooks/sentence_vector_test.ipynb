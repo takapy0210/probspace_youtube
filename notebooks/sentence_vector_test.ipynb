{
 "cells": [
  {
   "cell_type": "code",
   "execution_count": 16,
   "metadata": {},
   "outputs": [],
   "source": [
    "import pandas as pd\n",
    "import numpy as np\n",
    "from bert_sentence_vectorizer import BertSequenceVectorizer"
   ]
  },
  {
   "cell_type": "code",
   "execution_count": 4,
   "metadata": {},
   "outputs": [],
   "source": [
    "def cos_sim_matrix(matrix):\n",
    "    \"\"\"\n",
    "    item-feature 行列が与えられた際に\n",
    "    item 間コサイン類似度行列を求める関数\n",
    "    \"\"\"\n",
    "    d = matrix @ matrix.T  # item-vector 同士の内積を要素とする行列\n",
    "\n",
    "    # コサイン類似度の分母に入れるための、各 item-vector の大きさの平方根\n",
    "    norm = (matrix * matrix).sum(axis=1, keepdims=True) ** .5\n",
    "\n",
    "    # それぞれの item の大きさの平方根で割っている（なんだかスマート！）\n",
    "    return d / norm / norm.T"
   ]
  },
  {
   "cell_type": "code",
   "execution_count": 5,
   "metadata": {},
   "outputs": [],
   "source": [
    "sentence_list = [\n",
    "    '１歳半の娘です。生まれた時からずっと薄毛で😂、ドライヤーを使ったことがなかったのですが、さっき私がドライヤーしてるとこに寄ってきたので、娘にも当ててみたらめちゃくちゃ怖がってました😭多分今まで慣れてないからだとは思いますが、異様な怖がり方だったので、びっくりしてしまいました💦同じような感じだった方いらっしゃいますか？',\n",
    "    '1歳半くらいのお子さんがいらっしゃる方!!お子さんは寝るとき枕使ってますか？今まで使っていなかったんですが、最近寝るとき娘が私の枕で寝るようになって…しばらくすると動くから落ちるんですが、枕がある方が寝やすいなら自分用の枕を買ってあげた方がいいかな？と考え中です😳枕使っている方はどんな枕かも教えていただけたら嬉しいです‼️',\n",
    "    '授乳で寝かしつけていて、夜間断乳した方にお聞きします。夜間断乳のときは抱っこしましたか？抱っこしたら抱っこじゃないと寝れなくなりますか？息子が1歳になる頃にしようと思っていますが、最近夜頻繁に起きるので気になりました💦娘はもともと寝る方で卒乳しました。',\n",
    "    '人と会う時くらいしか化粧しないっていう方いますか？私は基本的に誰にも会わない日はすっぴんで買い物とかでもすっぴんマスクで出掛けちゃいます😂💦💦自粛の時なんて本当に1ヶ月とか全然化粧してなくて😭そしたら、最近なんですけど自粛が明けて少しずつ友達とも遊ぶ日が増えたんですけど2日連続で化粧した日にお風呂に入ると顔がヒリヒリして痛いです😭😭😭💦',\n",
    "    'スキンケア用品どこまで揃えてますか？今化粧水と乳液しか揃えておらずもうすぐ25歳になるのでもうちょっとお肌気にした方がいいのかなって思ってます!!そこでなんですが皆さんは化粧水､乳液､クリーム､美容液どこまでしてるのか気になりました🤔色んな方の意見が聞きたいです!!よろしくお願いします😌✨',\n",
    "    'アイメイクのクレンジングについてお聞きしたいです。お湯で落ちるマスカラ、アイシャドー 、アイライナーを使っています。この場合、①普通のクレンジングで良いんでしょうか？アイメイク専用のクレンジングで落とすべきですか？またクレンジングが目に染みて次の日まで、目が痛かったり赤くなったり涙が出たりする時があるんですが、、②プチプラ で染みないおすすめってありますか？できたらオイルよりジェルクレンジングが好きです。',\n",
    "    'キッチンの排水口の受け？やいろいろな所にミートソースやキムチのようなオレンジ色が付いてキッチンハイターをしても取れません💦何か良い方法はありますか？？・お風呂のパッキンやキッチンのパッキンの黒カビ・キッチンの換気扇の油汚れもそれぞれしっかり取れる方法がありましたら教えて頂きたいです！よろしくお願いします！'\n",
    "]"
   ]
  },
  {
   "cell_type": "code",
   "execution_count": 7,
   "metadata": {},
   "outputs": [],
   "source": [
    "sample_df = pd.DataFrame(sentence_list, columns=['text'])"
   ]
  },
  {
   "cell_type": "code",
   "execution_count": 8,
   "metadata": {},
   "outputs": [
    {
     "data": {
      "text/html": [
       "<div>\n",
       "<style scoped>\n",
       "    .dataframe tbody tr th:only-of-type {\n",
       "        vertical-align: middle;\n",
       "    }\n",
       "\n",
       "    .dataframe tbody tr th {\n",
       "        vertical-align: top;\n",
       "    }\n",
       "\n",
       "    .dataframe thead th {\n",
       "        text-align: right;\n",
       "    }\n",
       "</style>\n",
       "<table border=\"1\" class=\"dataframe\">\n",
       "  <thead>\n",
       "    <tr style=\"text-align: right;\">\n",
       "      <th></th>\n",
       "      <th>text</th>\n",
       "    </tr>\n",
       "  </thead>\n",
       "  <tbody>\n",
       "    <tr>\n",
       "      <th>0</th>\n",
       "      <td>１歳半の娘です。生まれた時からずっと薄毛で😂、ドライヤーを使ったことがなかったのですが、さっ...</td>\n",
       "    </tr>\n",
       "    <tr>\n",
       "      <th>1</th>\n",
       "      <td>1歳半くらいのお子さんがいらっしゃる方!!お子さんは寝るとき枕使ってますか？今まで使っていな...</td>\n",
       "    </tr>\n",
       "    <tr>\n",
       "      <th>2</th>\n",
       "      <td>授乳で寝かしつけていて、夜間断乳した方にお聞きします。夜間断乳のときは抱っこしましたか？抱っ...</td>\n",
       "    </tr>\n",
       "    <tr>\n",
       "      <th>3</th>\n",
       "      <td>人と会う時くらいしか化粧しないっていう方いますか？私は基本的に誰にも会わない日はすっぴんで買...</td>\n",
       "    </tr>\n",
       "    <tr>\n",
       "      <th>4</th>\n",
       "      <td>スキンケア用品どこまで揃えてますか？今化粧水と乳液しか揃えておらずもうすぐ25歳になるのでも...</td>\n",
       "    </tr>\n",
       "    <tr>\n",
       "      <th>5</th>\n",
       "      <td>アイメイクのクレンジングについてお聞きしたいです。お湯で落ちるマスカラ、アイシャドー 、アイ...</td>\n",
       "    </tr>\n",
       "    <tr>\n",
       "      <th>6</th>\n",
       "      <td>キッチンの排水口の受け？やいろいろな所にミートソースやキムチのようなオレンジ色が付いてキッチ...</td>\n",
       "    </tr>\n",
       "  </tbody>\n",
       "</table>\n",
       "</div>"
      ],
      "text/plain": [
       "                                                text\n",
       "0  １歳半の娘です。生まれた時からずっと薄毛で😂、ドライヤーを使ったことがなかったのですが、さっ...\n",
       "1  1歳半くらいのお子さんがいらっしゃる方!!お子さんは寝るとき枕使ってますか？今まで使っていな...\n",
       "2  授乳で寝かしつけていて、夜間断乳した方にお聞きします。夜間断乳のときは抱っこしましたか？抱っ...\n",
       "3  人と会う時くらいしか化粧しないっていう方いますか？私は基本的に誰にも会わない日はすっぴんで買...\n",
       "4  スキンケア用品どこまで揃えてますか？今化粧水と乳液しか揃えておらずもうすぐ25歳になるのでも...\n",
       "5  アイメイクのクレンジングについてお聞きしたいです。お湯で落ちるマスカラ、アイシャドー 、アイ...\n",
       "6  キッチンの排水口の受け？やいろいろな所にミートソースやキムチのようなオレンジ色が付いてキッチ..."
      ]
     },
     "execution_count": 8,
     "metadata": {},
     "output_type": "execute_result"
    }
   ],
   "source": [
    "sample_df"
   ]
  },
  {
   "cell_type": "code",
   "execution_count": 10,
   "metadata": {},
   "outputs": [
    {
     "name": "stderr",
     "output_type": "stream",
     "text": [
      "I0621 21:04:00.251028 4362603968 filelock.py:274] Lock 5463765568 acquired on /Users/takapy/.cache/torch/transformers/72ee6ecba54b20bba483760db4f23b836f27a6afda54ede38c488e8514bb3705.5fac9da4d8565963664ed9744688dc7008ff5ec4045f604e9515896f9fe46d9c.lock\n",
      "I0621 21:04:00.253644 4362603968 file_utils.py:437] https://s3.amazonaws.com/models.huggingface.co/bert/cl-tohoku/bert-base-japanese-whole-word-masking/vocab.txt not found in cache or force_download set to True, downloading to /Users/takapy/.cache/torch/transformers/tmprrn_7vmd\n"
     ]
    },
    {
     "data": {
      "application/vnd.jupyter.widget-view+json": {
       "model_id": "51ecfd6269634aac93ef40d75949fef6",
       "version_major": 2,
       "version_minor": 0
      },
      "text/plain": [
       "HBox(children=(FloatProgress(value=0.0, description='Downloading', max=257706.0, style=ProgressStyle(descripti…"
      ]
     },
     "metadata": {},
     "output_type": "display_data"
    },
    {
     "name": "stderr",
     "output_type": "stream",
     "text": [
      "I0621 21:04:07.386223 4362603968 file_utils.py:441] storing https://s3.amazonaws.com/models.huggingface.co/bert/cl-tohoku/bert-base-japanese-whole-word-masking/vocab.txt in cache at /Users/takapy/.cache/torch/transformers/72ee6ecba54b20bba483760db4f23b836f27a6afda54ede38c488e8514bb3705.5fac9da4d8565963664ed9744688dc7008ff5ec4045f604e9515896f9fe46d9c\n",
      "I0621 21:04:07.387229 4362603968 file_utils.py:444] creating metadata file for /Users/takapy/.cache/torch/transformers/72ee6ecba54b20bba483760db4f23b836f27a6afda54ede38c488e8514bb3705.5fac9da4d8565963664ed9744688dc7008ff5ec4045f604e9515896f9fe46d9c\n",
      "I0621 21:04:07.389166 4362603968 filelock.py:318] Lock 5463765568 released on /Users/takapy/.cache/torch/transformers/72ee6ecba54b20bba483760db4f23b836f27a6afda54ede38c488e8514bb3705.5fac9da4d8565963664ed9744688dc7008ff5ec4045f604e9515896f9fe46d9c.lock\n",
      "I0621 21:04:07.389930 4362603968 tokenization_utils.py:1022] loading file https://s3.amazonaws.com/models.huggingface.co/bert/cl-tohoku/bert-base-japanese-whole-word-masking/vocab.txt from cache at /Users/takapy/.cache/torch/transformers/72ee6ecba54b20bba483760db4f23b836f27a6afda54ede38c488e8514bb3705.5fac9da4d8565963664ed9744688dc7008ff5ec4045f604e9515896f9fe46d9c\n"
     ]
    },
    {
     "name": "stdout",
     "output_type": "stream",
     "text": [
      "\n"
     ]
    },
    {
     "name": "stderr",
     "output_type": "stream",
     "text": [
      "I0621 21:04:08.312525 4362603968 filelock.py:274] Lock 5464005152 acquired on /Users/takapy/.cache/torch/transformers/c96f5e731b9f4dc2e8263336947ec74b6f93917c0b9db6e9cf974a8a945dd313.48bc8d0b377948cc990335b8cccbcce084039c1b792bea3d0da671abfc6a3fe5.lock\n",
      "I0621 21:04:08.313818 4362603968 file_utils.py:437] https://s3.amazonaws.com/models.huggingface.co/bert/cl-tohoku/bert-base-japanese-whole-word-masking/config.json not found in cache or force_download set to True, downloading to /Users/takapy/.cache/torch/transformers/tmpgopi6b9y\n"
     ]
    },
    {
     "data": {
      "application/vnd.jupyter.widget-view+json": {
       "model_id": "2d8631f454df49d7aa6ee89589dcf466",
       "version_major": 2,
       "version_minor": 0
      },
      "text/plain": [
       "HBox(children=(FloatProgress(value=0.0, description='Downloading', max=433.0, style=ProgressStyle(description_…"
      ]
     },
     "metadata": {},
     "output_type": "display_data"
    },
    {
     "name": "stderr",
     "output_type": "stream",
     "text": [
      "I0621 21:04:09.103325 4362603968 file_utils.py:441] storing https://s3.amazonaws.com/models.huggingface.co/bert/cl-tohoku/bert-base-japanese-whole-word-masking/config.json in cache at /Users/takapy/.cache/torch/transformers/c96f5e731b9f4dc2e8263336947ec74b6f93917c0b9db6e9cf974a8a945dd313.48bc8d0b377948cc990335b8cccbcce084039c1b792bea3d0da671abfc6a3fe5\n",
      "I0621 21:04:09.104532 4362603968 file_utils.py:444] creating metadata file for /Users/takapy/.cache/torch/transformers/c96f5e731b9f4dc2e8263336947ec74b6f93917c0b9db6e9cf974a8a945dd313.48bc8d0b377948cc990335b8cccbcce084039c1b792bea3d0da671abfc6a3fe5\n",
      "I0621 21:04:09.111129 4362603968 filelock.py:318] Lock 5464005152 released on /Users/takapy/.cache/torch/transformers/c96f5e731b9f4dc2e8263336947ec74b6f93917c0b9db6e9cf974a8a945dd313.48bc8d0b377948cc990335b8cccbcce084039c1b792bea3d0da671abfc6a3fe5.lock\n",
      "I0621 21:04:09.113207 4362603968 configuration_utils.py:265] loading configuration file https://s3.amazonaws.com/models.huggingface.co/bert/cl-tohoku/bert-base-japanese-whole-word-masking/config.json from cache at /Users/takapy/.cache/torch/transformers/c96f5e731b9f4dc2e8263336947ec74b6f93917c0b9db6e9cf974a8a945dd313.48bc8d0b377948cc990335b8cccbcce084039c1b792bea3d0da671abfc6a3fe5\n",
      "I0621 21:04:09.114181 4362603968 configuration_utils.py:301] Model config BertConfig {\n",
      "  \"architectures\": [\n",
      "    \"BertForMaskedLM\"\n",
      "  ],\n",
      "  \"attention_probs_dropout_prob\": 0.1,\n",
      "  \"hidden_act\": \"gelu\",\n",
      "  \"hidden_dropout_prob\": 0.1,\n",
      "  \"hidden_size\": 768,\n",
      "  \"initializer_range\": 0.02,\n",
      "  \"intermediate_size\": 3072,\n",
      "  \"layer_norm_eps\": 1e-12,\n",
      "  \"max_position_embeddings\": 512,\n",
      "  \"model_type\": \"bert\",\n",
      "  \"num_attention_heads\": 12,\n",
      "  \"num_hidden_layers\": 12,\n",
      "  \"pad_token_id\": 0,\n",
      "  \"type_vocab_size\": 2,\n",
      "  \"vocab_size\": 32000\n",
      "}\n",
      "\n"
     ]
    },
    {
     "name": "stdout",
     "output_type": "stream",
     "text": [
      "\n"
     ]
    },
    {
     "name": "stderr",
     "output_type": "stream",
     "text": [
      "I0621 21:04:09.557604 4362603968 filelock.py:274] Lock 5463765176 acquired on /Users/takapy/.cache/torch/transformers/4801b91bfd2de0a4478e02e4a2404e982bd3d6773bc2935eea468f9c644fb593.fbee186ac33c194356f35147fe415d5392623f762cc279e97cecc31b90238cb3.lock\n",
      "I0621 21:04:09.558951 4362603968 file_utils.py:437] https://cdn.huggingface.co/cl-tohoku/bert-base-japanese-whole-word-masking/pytorch_model.bin not found in cache or force_download set to True, downloading to /Users/takapy/.cache/torch/transformers/tmp_srvdhoo\n"
     ]
    },
    {
     "data": {
      "application/vnd.jupyter.widget-view+json": {
       "model_id": "c4611308134d40d6a2f88a9fbdcc8d7a",
       "version_major": 2,
       "version_minor": 0
      },
      "text/plain": [
       "HBox(children=(FloatProgress(value=0.0, description='Downloading', max=445021143.0, style=ProgressStyle(descri…"
      ]
     },
     "metadata": {},
     "output_type": "display_data"
    },
    {
     "name": "stderr",
     "output_type": "stream",
     "text": [
      "I0621 21:08:03.151986 4362603968 file_utils.py:441] storing https://cdn.huggingface.co/cl-tohoku/bert-base-japanese-whole-word-masking/pytorch_model.bin in cache at /Users/takapy/.cache/torch/transformers/4801b91bfd2de0a4478e02e4a2404e982bd3d6773bc2935eea468f9c644fb593.fbee186ac33c194356f35147fe415d5392623f762cc279e97cecc31b90238cb3\n",
      "I0621 21:08:03.152641 4362603968 file_utils.py:444] creating metadata file for /Users/takapy/.cache/torch/transformers/4801b91bfd2de0a4478e02e4a2404e982bd3d6773bc2935eea468f9c644fb593.fbee186ac33c194356f35147fe415d5392623f762cc279e97cecc31b90238cb3\n",
      "I0621 21:08:03.154159 4362603968 filelock.py:318] Lock 5463765176 released on /Users/takapy/.cache/torch/transformers/4801b91bfd2de0a4478e02e4a2404e982bd3d6773bc2935eea468f9c644fb593.fbee186ac33c194356f35147fe415d5392623f762cc279e97cecc31b90238cb3.lock\n",
      "I0621 21:08:03.154794 4362603968 modeling_utils.py:650] loading weights file https://cdn.huggingface.co/cl-tohoku/bert-base-japanese-whole-word-masking/pytorch_model.bin from cache at /Users/takapy/.cache/torch/transformers/4801b91bfd2de0a4478e02e4a2404e982bd3d6773bc2935eea468f9c644fb593.fbee186ac33c194356f35147fe415d5392623f762cc279e97cecc31b90238cb3\n"
     ]
    },
    {
     "name": "stdout",
     "output_type": "stream",
     "text": [
      "\n"
     ]
    }
   ],
   "source": [
    "BSV = BertSequenceVectorizer()"
   ]
  },
  {
   "cell_type": "code",
   "execution_count": 11,
   "metadata": {},
   "outputs": [
    {
     "name": "stderr",
     "output_type": "stream",
     "text": [
      "100%|██████████| 7/7 [00:01<00:00,  5.86it/s]\n"
     ]
    }
   ],
   "source": [
    "sample_df['text_feature'] = sample_df['text'].progress_apply(lambda x: BSV.vectorize(x))"
   ]
  },
  {
   "cell_type": "code",
   "execution_count": 14,
   "metadata": {},
   "outputs": [
    {
     "data": {
      "text/html": [
       "<div>\n",
       "<style scoped>\n",
       "    .dataframe tbody tr th:only-of-type {\n",
       "        vertical-align: middle;\n",
       "    }\n",
       "\n",
       "    .dataframe tbody tr th {\n",
       "        vertical-align: top;\n",
       "    }\n",
       "\n",
       "    .dataframe thead th {\n",
       "        text-align: right;\n",
       "    }\n",
       "</style>\n",
       "<table border=\"1\" class=\"dataframe\">\n",
       "  <thead>\n",
       "    <tr style=\"text-align: right;\">\n",
       "      <th></th>\n",
       "      <th>text</th>\n",
       "      <th>text_feature</th>\n",
       "    </tr>\n",
       "  </thead>\n",
       "  <tbody>\n",
       "    <tr>\n",
       "      <th>0</th>\n",
       "      <td>１歳半の娘です。生まれた時からずっと薄毛で😂、ドライヤーを使ったことがなかったのですが、さっ...</td>\n",
       "      <td>[-0.021460552, 0.30303147, -0.12749693, 0.1753...</td>\n",
       "    </tr>\n",
       "    <tr>\n",
       "      <th>1</th>\n",
       "      <td>1歳半くらいのお子さんがいらっしゃる方!!お子さんは寝るとき枕使ってますか？今まで使っていな...</td>\n",
       "      <td>[-0.069932744, 0.11948739, -0.04204552, -0.108...</td>\n",
       "    </tr>\n",
       "    <tr>\n",
       "      <th>2</th>\n",
       "      <td>授乳で寝かしつけていて、夜間断乳した方にお聞きします。夜間断乳のときは抱っこしましたか？抱っ...</td>\n",
       "      <td>[-0.2662936, 0.21221945, 0.08961815, 0.0774610...</td>\n",
       "    </tr>\n",
       "    <tr>\n",
       "      <th>3</th>\n",
       "      <td>人と会う時くらいしか化粧しないっていう方いますか？私は基本的に誰にも会わない日はすっぴんで買...</td>\n",
       "      <td>[-0.09743934, 0.27060923, -0.17178386, 0.08004...</td>\n",
       "    </tr>\n",
       "    <tr>\n",
       "      <th>4</th>\n",
       "      <td>スキンケア用品どこまで揃えてますか？今化粧水と乳液しか揃えておらずもうすぐ25歳になるのでも...</td>\n",
       "      <td>[0.01331817, 0.04344788, 0.010665417, 0.208267...</td>\n",
       "    </tr>\n",
       "    <tr>\n",
       "      <th>5</th>\n",
       "      <td>アイメイクのクレンジングについてお聞きしたいです。お湯で落ちるマスカラ、アイシャドー 、アイ...</td>\n",
       "      <td>[-0.11380669, 0.33065057, -0.36607894, -0.1105...</td>\n",
       "    </tr>\n",
       "    <tr>\n",
       "      <th>6</th>\n",
       "      <td>キッチンの排水口の受け？やいろいろな所にミートソースやキムチのようなオレンジ色が付いてキッチ...</td>\n",
       "      <td>[-0.16103196, 0.053492606, -0.35443515, 0.0959...</td>\n",
       "    </tr>\n",
       "  </tbody>\n",
       "</table>\n",
       "</div>"
      ],
      "text/plain": [
       "                                                text  \\\n",
       "0  １歳半の娘です。生まれた時からずっと薄毛で😂、ドライヤーを使ったことがなかったのですが、さっ...   \n",
       "1  1歳半くらいのお子さんがいらっしゃる方!!お子さんは寝るとき枕使ってますか？今まで使っていな...   \n",
       "2  授乳で寝かしつけていて、夜間断乳した方にお聞きします。夜間断乳のときは抱っこしましたか？抱っ...   \n",
       "3  人と会う時くらいしか化粧しないっていう方いますか？私は基本的に誰にも会わない日はすっぴんで買...   \n",
       "4  スキンケア用品どこまで揃えてますか？今化粧水と乳液しか揃えておらずもうすぐ25歳になるのでも...   \n",
       "5  アイメイクのクレンジングについてお聞きしたいです。お湯で落ちるマスカラ、アイシャドー 、アイ...   \n",
       "6  キッチンの排水口の受け？やいろいろな所にミートソースやキムチのようなオレンジ色が付いてキッチ...   \n",
       "\n",
       "                                        text_feature  \n",
       "0  [-0.021460552, 0.30303147, -0.12749693, 0.1753...  \n",
       "1  [-0.069932744, 0.11948739, -0.04204552, -0.108...  \n",
       "2  [-0.2662936, 0.21221945, 0.08961815, 0.0774610...  \n",
       "3  [-0.09743934, 0.27060923, -0.17178386, 0.08004...  \n",
       "4  [0.01331817, 0.04344788, 0.010665417, 0.208267...  \n",
       "5  [-0.11380669, 0.33065057, -0.36607894, -0.1105...  \n",
       "6  [-0.16103196, 0.053492606, -0.35443515, 0.0959...  "
      ]
     },
     "execution_count": 14,
     "metadata": {},
     "output_type": "execute_result"
    }
   ],
   "source": [
    "sample_df"
   ]
  },
  {
   "cell_type": "code",
   "execution_count": 18,
   "metadata": {},
   "outputs": [
    {
     "data": {
      "text/plain": [
       "array([[0.99999976, 0.92722017, 0.92761713, 0.9139992 , 0.900075  ,\n",
       "        0.8401929 , 0.8696355 ],\n",
       "       [0.92722017, 1.0000001 , 0.90876406, 0.9202554 , 0.9299897 ,\n",
       "        0.83542097, 0.89427304],\n",
       "       [0.9276172 , 0.90876406, 1.0000002 , 0.8942462 , 0.88968563,\n",
       "        0.8625388 , 0.87859946],\n",
       "       [0.9139992 , 0.9202554 , 0.8942463 , 1.        , 0.9049536 ,\n",
       "        0.831751  , 0.8663539 ],\n",
       "       [0.90007496, 0.92998964, 0.88968563, 0.9049536 , 1.0000001 ,\n",
       "        0.86300206, 0.9193553 ],\n",
       "       [0.8401929 , 0.83542097, 0.8625388 , 0.83175105, 0.86300206,\n",
       "        0.9999998 , 0.8784146 ],\n",
       "       [0.8696355 , 0.89427304, 0.8785995 , 0.86635387, 0.9193553 ,\n",
       "        0.87841463, 1.0000002 ]], dtype=float32)"
      ]
     },
     "execution_count": 18,
     "metadata": {},
     "output_type": "execute_result"
    }
   ],
   "source": [
    "cos_sim_matrix(np.stack(sample_df.text_feature))"
   ]
  },
  {
   "cell_type": "code",
   "execution_count": null,
   "metadata": {},
   "outputs": [],
   "source": []
  }
 ],
 "metadata": {
  "kernelspec": {
   "display_name": "Python 3",
   "language": "python",
   "name": "python3"
  },
  "language_info": {
   "codemirror_mode": {
    "name": "ipython",
    "version": 3
   },
   "file_extension": ".py",
   "mimetype": "text/x-python",
   "name": "python",
   "nbconvert_exporter": "python",
   "pygments_lexer": "ipython3",
   "version": "3.7.2"
  }
 },
 "nbformat": 4,
 "nbformat_minor": 4
}
