{
 "cells": [
  {
   "cell_type": "code",
   "execution_count": 5,
   "metadata": {},
   "outputs": [
    {
     "name": "stderr",
     "output_type": "stream",
     "text": [
      "/Users/takapy/.pyenv/versions/3.7.2/lib/python3.7/site-packages/lightgbm/__init__.py:46: UserWarning:\n",
      "\n",
      "Starting from version 2.2.1, the library file in distribution wheels for macOS is built by the Apple Clang (Xcode_8.3.3) compiler.\n",
      "This means that in case of installing LightGBM from PyPI via the ``pip install lightgbm`` command, you don't need to install the gcc compiler anymore.\n",
      "Instead of that, you need to install the OpenMP library, which is required for running LightGBM on the system with the Apple Clang compiler.\n",
      "You can install the OpenMP library by the following command: ``brew install libomp``.\n",
      "\n"
     ]
    }
   ],
   "source": [
    "import pandas as pd\n",
    "import optuna.integration.lightgbm as lgb"
   ]
  },
  {
   "cell_type": "code",
   "execution_count": 2,
   "metadata": {},
   "outputs": [],
   "source": [
    "features = [\n",
    "        'exc_wl',\n",
    "        'distance',\n",
    "        'pos_x',\n",
    "        'params0',\n",
    "        'params1',\n",
    "        'params2',\n",
    "        'params3',\n",
    "        'params4',\n",
    "        'params5',\n",
    "        'params6',\n",
    "]"
   ]
  },
  {
   "cell_type": "code",
   "execution_count": 6,
   "metadata": {},
   "outputs": [],
   "source": [
    "file_path = '../data/features/'"
   ]
  },
  {
   "cell_type": "code",
   "execution_count": 7,
   "metadata": {},
   "outputs": [],
   "source": [
    "X_train = pd.read_pickle(file_path + 'X_train.pkl')[features]\n",
    "X_test = pd.read_pickle(file_path + 'X_test.pkl')[features]\n",
    "y_train = pd.read_pickle(file_path + 'y_train.pkl')['target']"
   ]
  },
  {
   "cell_type": "code",
   "execution_count": 8,
   "metadata": {},
   "outputs": [
    {
     "data": {
      "text/html": [
       "<div>\n",
       "<style scoped>\n",
       "    .dataframe tbody tr th:only-of-type {\n",
       "        vertical-align: middle;\n",
       "    }\n",
       "\n",
       "    .dataframe tbody tr th {\n",
       "        vertical-align: top;\n",
       "    }\n",
       "\n",
       "    .dataframe thead th {\n",
       "        text-align: right;\n",
       "    }\n",
       "</style>\n",
       "<table border=\"1\" class=\"dataframe\">\n",
       "  <thead>\n",
       "    <tr style=\"text-align: right;\">\n",
       "      <th></th>\n",
       "      <th>exc_wl</th>\n",
       "      <th>distance</th>\n",
       "      <th>pos_x</th>\n",
       "      <th>params0</th>\n",
       "      <th>params1</th>\n",
       "      <th>params2</th>\n",
       "      <th>params3</th>\n",
       "      <th>params4</th>\n",
       "      <th>params5</th>\n",
       "      <th>params6</th>\n",
       "      <th>...</th>\n",
       "      <th>em_ev</th>\n",
       "      <th>ex_ev</th>\n",
       "      <th>ev_diff</th>\n",
       "      <th>ev_ratio</th>\n",
       "      <th>num_peak</th>\n",
       "      <th>num_strong_peak</th>\n",
       "      <th>peak_wave_length2</th>\n",
       "      <th>peak_intensity2</th>\n",
       "      <th>peak_ratio</th>\n",
       "      <th>peak_ratio2</th>\n",
       "    </tr>\n",
       "  </thead>\n",
       "  <tbody>\n",
       "    <tr>\n",
       "      <th>0</th>\n",
       "      <td>1</td>\n",
       "      <td>45.607017</td>\n",
       "      <td>1313.0810</td>\n",
       "      <td>30.808589</td>\n",
       "      <td>5.811802e+02</td>\n",
       "      <td>1037.714752</td>\n",
       "      <td>1.531423</td>\n",
       "      <td>22469.651641</td>\n",
       "      <td>1032.317268</td>\n",
       "      <td>8.295610</td>\n",
       "      <td>...</td>\n",
       "      <td>1.200578</td>\n",
       "      <td>1.458824</td>\n",
       "      <td>-0.258246</td>\n",
       "      <td>0.822977</td>\n",
       "      <td>5.0</td>\n",
       "      <td>0.0</td>\n",
       "      <td>0.0</td>\n",
       "      <td>0.0</td>\n",
       "      <td>43.456948</td>\n",
       "      <td>0.0</td>\n",
       "    </tr>\n",
       "    <tr>\n",
       "      <th>1</th>\n",
       "      <td>2</td>\n",
       "      <td>75.894664</td>\n",
       "      <td>159.4150</td>\n",
       "      <td>91.300897</td>\n",
       "      <td>1.740582e+04</td>\n",
       "      <td>1080.510452</td>\n",
       "      <td>4.766233</td>\n",
       "      <td>33257.123175</td>\n",
       "      <td>1077.468855</td>\n",
       "      <td>8.018225</td>\n",
       "      <td>...</td>\n",
       "      <td>1.149204</td>\n",
       "      <td>1.589744</td>\n",
       "      <td>-0.440540</td>\n",
       "      <td>0.722886</td>\n",
       "      <td>4.0</td>\n",
       "      <td>1.0</td>\n",
       "      <td>0.0</td>\n",
       "      <td>0.0</td>\n",
       "      <td>25.269679</td>\n",
       "      <td>0.0</td>\n",
       "    </tr>\n",
       "    <tr>\n",
       "      <th>2</th>\n",
       "      <td>2</td>\n",
       "      <td>67.742158</td>\n",
       "      <td>-610.7688</td>\n",
       "      <td>106.642946</td>\n",
       "      <td>1.000000e-10</td>\n",
       "      <td>1119.464438</td>\n",
       "      <td>2.000000</td>\n",
       "      <td>42579.867913</td>\n",
       "      <td>1378.883338</td>\n",
       "      <td>11.687417</td>\n",
       "      <td>...</td>\n",
       "      <td>0.898169</td>\n",
       "      <td>1.589744</td>\n",
       "      <td>-0.691574</td>\n",
       "      <td>0.564977</td>\n",
       "      <td>4.0</td>\n",
       "      <td>1.0</td>\n",
       "      <td>0.0</td>\n",
       "      <td>0.0</td>\n",
       "      <td>15.912632</td>\n",
       "      <td>0.0</td>\n",
       "    </tr>\n",
       "    <tr>\n",
       "      <th>3</th>\n",
       "      <td>2</td>\n",
       "      <td>43.737855</td>\n",
       "      <td>1214.6180</td>\n",
       "      <td>306.933674</td>\n",
       "      <td>1.099486e+04</td>\n",
       "      <td>1139.855067</td>\n",
       "      <td>5.198692</td>\n",
       "      <td>39349.741703</td>\n",
       "      <td>1145.212849</td>\n",
       "      <td>9.445029</td>\n",
       "      <td>...</td>\n",
       "      <td>1.081982</td>\n",
       "      <td>1.589744</td>\n",
       "      <td>-0.507762</td>\n",
       "      <td>0.680602</td>\n",
       "      <td>3.0</td>\n",
       "      <td>1.0</td>\n",
       "      <td>0.0</td>\n",
       "      <td>0.0</td>\n",
       "      <td>6.134806</td>\n",
       "      <td>0.0</td>\n",
       "    </tr>\n",
       "    <tr>\n",
       "      <th>4</th>\n",
       "      <td>2</td>\n",
       "      <td>23.706539</td>\n",
       "      <td>-257.6161</td>\n",
       "      <td>46.133256</td>\n",
       "      <td>2.227622e+04</td>\n",
       "      <td>1120.918337</td>\n",
       "      <td>5.668012</td>\n",
       "      <td>31054.928673</td>\n",
       "      <td>1117.107782</td>\n",
       "      <td>7.658710</td>\n",
       "      <td>...</td>\n",
       "      <td>1.107265</td>\n",
       "      <td>1.589744</td>\n",
       "      <td>-0.482478</td>\n",
       "      <td>0.696506</td>\n",
       "      <td>6.0</td>\n",
       "      <td>1.0</td>\n",
       "      <td>0.0</td>\n",
       "      <td>0.0</td>\n",
       "      <td>28.931660</td>\n",
       "      <td>0.0</td>\n",
       "    </tr>\n",
       "  </tbody>\n",
       "</table>\n",
       "<p>5 rows × 607 columns</p>\n",
       "</div>"
      ],
      "text/plain": [
       "   exc_wl   distance      pos_x     params0       params1      params2  \\\n",
       "0       1  45.607017  1313.0810   30.808589  5.811802e+02  1037.714752   \n",
       "1       2  75.894664   159.4150   91.300897  1.740582e+04  1080.510452   \n",
       "2       2  67.742158  -610.7688  106.642946  1.000000e-10  1119.464438   \n",
       "3       2  43.737855  1214.6180  306.933674  1.099486e+04  1139.855067   \n",
       "4       2  23.706539  -257.6161   46.133256  2.227622e+04  1120.918337   \n",
       "\n",
       "    params3       params4      params5    params6  ...     em_ev     ex_ev  \\\n",
       "0  1.531423  22469.651641  1032.317268   8.295610  ...  1.200578  1.458824   \n",
       "1  4.766233  33257.123175  1077.468855   8.018225  ...  1.149204  1.589744   \n",
       "2  2.000000  42579.867913  1378.883338  11.687417  ...  0.898169  1.589744   \n",
       "3  5.198692  39349.741703  1145.212849   9.445029  ...  1.081982  1.589744   \n",
       "4  5.668012  31054.928673  1117.107782   7.658710  ...  1.107265  1.589744   \n",
       "\n",
       "    ev_diff  ev_ratio  num_peak  num_strong_peak  peak_wave_length2  \\\n",
       "0 -0.258246  0.822977       5.0              0.0                0.0   \n",
       "1 -0.440540  0.722886       4.0              1.0                0.0   \n",
       "2 -0.691574  0.564977       4.0              1.0                0.0   \n",
       "3 -0.507762  0.680602       3.0              1.0                0.0   \n",
       "4 -0.482478  0.696506       6.0              1.0                0.0   \n",
       "\n",
       "   peak_intensity2  peak_ratio  peak_ratio2  \n",
       "0              0.0   43.456948          0.0  \n",
       "1              0.0   25.269679          0.0  \n",
       "2              0.0   15.912632          0.0  \n",
       "3              0.0    6.134806          0.0  \n",
       "4              0.0   28.931660          0.0  \n",
       "\n",
       "[5 rows x 607 columns]"
      ]
     },
     "metadata": {},
     "output_type": "display_data"
    },
    {
     "data": {
      "text/plain": [
       "(7436, 607)"
      ]
     },
     "metadata": {},
     "output_type": "display_data"
    },
    {
     "data": {
      "text/html": [
       "<div>\n",
       "<style scoped>\n",
       "    .dataframe tbody tr th:only-of-type {\n",
       "        vertical-align: middle;\n",
       "    }\n",
       "\n",
       "    .dataframe tbody tr th {\n",
       "        vertical-align: top;\n",
       "    }\n",
       "\n",
       "    .dataframe thead th {\n",
       "        text-align: right;\n",
       "    }\n",
       "</style>\n",
       "<table border=\"1\" class=\"dataframe\">\n",
       "  <thead>\n",
       "    <tr style=\"text-align: right;\">\n",
       "      <th></th>\n",
       "      <th>exc_wl</th>\n",
       "      <th>distance</th>\n",
       "      <th>pos_x</th>\n",
       "      <th>params0</th>\n",
       "      <th>params1</th>\n",
       "      <th>params2</th>\n",
       "      <th>params3</th>\n",
       "      <th>params4</th>\n",
       "      <th>params5</th>\n",
       "      <th>params6</th>\n",
       "      <th>...</th>\n",
       "      <th>em_ev</th>\n",
       "      <th>ex_ev</th>\n",
       "      <th>ev_diff</th>\n",
       "      <th>ev_ratio</th>\n",
       "      <th>num_peak</th>\n",
       "      <th>num_strong_peak</th>\n",
       "      <th>peak_wave_length2</th>\n",
       "      <th>peak_intensity2</th>\n",
       "      <th>peak_ratio</th>\n",
       "      <th>peak_ratio2</th>\n",
       "    </tr>\n",
       "  </thead>\n",
       "  <tbody>\n",
       "    <tr>\n",
       "      <th>7436</th>\n",
       "      <td>2</td>\n",
       "      <td>91.214034</td>\n",
       "      <td>189.6556</td>\n",
       "      <td>-0.200403</td>\n",
       "      <td>26861.147936</td>\n",
       "      <td>1377.632654</td>\n",
       "      <td>12.273408</td>\n",
       "      <td>4.999833e-13</td>\n",
       "      <td>1000.000005</td>\n",
       "      <td>44730.274402</td>\n",
       "      <td>...</td>\n",
       "      <td>0.900880</td>\n",
       "      <td>1.589744</td>\n",
       "      <td>-0.688864</td>\n",
       "      <td>0.566683</td>\n",
       "      <td>4.0</td>\n",
       "      <td>1.0</td>\n",
       "      <td>0.000</td>\n",
       "      <td>0.0</td>\n",
       "      <td>24.461780</td>\n",
       "      <td>0.000000</td>\n",
       "    </tr>\n",
       "    <tr>\n",
       "      <th>7437</th>\n",
       "      <td>2</td>\n",
       "      <td>94.366308</td>\n",
       "      <td>-256.4733</td>\n",
       "      <td>308.514851</td>\n",
       "      <td>26886.386343</td>\n",
       "      <td>1277.465325</td>\n",
       "      <td>9.919383</td>\n",
       "      <td>5.096237e-13</td>\n",
       "      <td>1001.383038</td>\n",
       "      <td>26753.813871</td>\n",
       "      <td>...</td>\n",
       "      <td>0.971313</td>\n",
       "      <td>1.589744</td>\n",
       "      <td>-0.618431</td>\n",
       "      <td>0.610987</td>\n",
       "      <td>4.0</td>\n",
       "      <td>1.0</td>\n",
       "      <td>0.000</td>\n",
       "      <td>0.0</td>\n",
       "      <td>8.526922</td>\n",
       "      <td>0.000000</td>\n",
       "    </tr>\n",
       "    <tr>\n",
       "      <th>7438</th>\n",
       "      <td>1</td>\n",
       "      <td>43.829214</td>\n",
       "      <td>-291.3372</td>\n",
       "      <td>48.078481</td>\n",
       "      <td>18270.435476</td>\n",
       "      <td>1497.343413</td>\n",
       "      <td>10.583315</td>\n",
       "      <td>1.037360e+04</td>\n",
       "      <td>1490.660842</td>\n",
       "      <td>11.663950</td>\n",
       "      <td>...</td>\n",
       "      <td>0.828712</td>\n",
       "      <td>1.458824</td>\n",
       "      <td>-0.630112</td>\n",
       "      <td>0.568069</td>\n",
       "      <td>6.0</td>\n",
       "      <td>1.0</td>\n",
       "      <td>0.000</td>\n",
       "      <td>0.0</td>\n",
       "      <td>8.822853</td>\n",
       "      <td>0.000000</td>\n",
       "    </tr>\n",
       "    <tr>\n",
       "      <th>7439</th>\n",
       "      <td>1</td>\n",
       "      <td>45.044423</td>\n",
       "      <td>-863.9271</td>\n",
       "      <td>179.052601</td>\n",
       "      <td>7646.843080</td>\n",
       "      <td>1498.851981</td>\n",
       "      <td>5.851480</td>\n",
       "      <td>1.899570e+04</td>\n",
       "      <td>1491.204735</td>\n",
       "      <td>13.616758</td>\n",
       "      <td>...</td>\n",
       "      <td>0.827569</td>\n",
       "      <td>1.458824</td>\n",
       "      <td>-0.631254</td>\n",
       "      <td>0.567285</td>\n",
       "      <td>3.0</td>\n",
       "      <td>2.0</td>\n",
       "      <td>1362.785</td>\n",
       "      <td>914.0</td>\n",
       "      <td>4.866763</td>\n",
       "      <td>3.095492</td>\n",
       "    </tr>\n",
       "    <tr>\n",
       "      <th>7440</th>\n",
       "      <td>2</td>\n",
       "      <td>32.557641</td>\n",
       "      <td>737.2772</td>\n",
       "      <td>-7414.835134</td>\n",
       "      <td>77855.568427</td>\n",
       "      <td>1172.532492</td>\n",
       "      <td>10.794408</td>\n",
       "      <td>2.827082e+07</td>\n",
       "      <td>1179.643483</td>\n",
       "      <td>2400.602334</td>\n",
       "      <td>...</td>\n",
       "      <td>1.056592</td>\n",
       "      <td>1.589744</td>\n",
       "      <td>-0.533152</td>\n",
       "      <td>0.664630</td>\n",
       "      <td>5.0</td>\n",
       "      <td>1.0</td>\n",
       "      <td>0.000</td>\n",
       "      <td>0.0</td>\n",
       "      <td>20.873492</td>\n",
       "      <td>0.000000</td>\n",
       "    </tr>\n",
       "  </tbody>\n",
       "</table>\n",
       "<p>5 rows × 607 columns</p>\n",
       "</div>"
      ],
      "text/plain": [
       "      exc_wl   distance     pos_x      params0       params1      params2  \\\n",
       "7436       2  91.214034  189.6556    -0.200403  26861.147936  1377.632654   \n",
       "7437       2  94.366308 -256.4733   308.514851  26886.386343  1277.465325   \n",
       "7438       1  43.829214 -291.3372    48.078481  18270.435476  1497.343413   \n",
       "7439       1  45.044423 -863.9271   179.052601   7646.843080  1498.851981   \n",
       "7440       2  32.557641  737.2772 -7414.835134  77855.568427  1172.532492   \n",
       "\n",
       "        params3       params4      params5       params6  ...     em_ev  \\\n",
       "7436  12.273408  4.999833e-13  1000.000005  44730.274402  ...  0.900880   \n",
       "7437   9.919383  5.096237e-13  1001.383038  26753.813871  ...  0.971313   \n",
       "7438  10.583315  1.037360e+04  1490.660842     11.663950  ...  0.828712   \n",
       "7439   5.851480  1.899570e+04  1491.204735     13.616758  ...  0.827569   \n",
       "7440  10.794408  2.827082e+07  1179.643483   2400.602334  ...  1.056592   \n",
       "\n",
       "         ex_ev   ev_diff  ev_ratio  num_peak  num_strong_peak  \\\n",
       "7436  1.589744 -0.688864  0.566683       4.0              1.0   \n",
       "7437  1.589744 -0.618431  0.610987       4.0              1.0   \n",
       "7438  1.458824 -0.630112  0.568069       6.0              1.0   \n",
       "7439  1.458824 -0.631254  0.567285       3.0              2.0   \n",
       "7440  1.589744 -0.533152  0.664630       5.0              1.0   \n",
       "\n",
       "      peak_wave_length2  peak_intensity2  peak_ratio  peak_ratio2  \n",
       "7436              0.000              0.0   24.461780     0.000000  \n",
       "7437              0.000              0.0    8.526922     0.000000  \n",
       "7438              0.000              0.0    8.822853     0.000000  \n",
       "7439           1362.785            914.0    4.866763     3.095492  \n",
       "7440              0.000              0.0   20.873492     0.000000  \n",
       "\n",
       "[5 rows x 607 columns]"
      ]
     },
     "metadata": {},
     "output_type": "display_data"
    },
    {
     "data": {
      "text/plain": [
       "(6952, 607)"
      ]
     },
     "metadata": {},
     "output_type": "display_data"
    },
    {
     "data": {
      "text/plain": [
       "0    0\n",
       "1    0\n",
       "2    0\n",
       "3    0\n",
       "4    0\n",
       "Name: target, dtype: int64"
      ]
     },
     "metadata": {},
     "output_type": "display_data"
    },
    {
     "data": {
      "text/plain": [
       "(7436,)"
      ]
     },
     "metadata": {},
     "output_type": "display_data"
    }
   ],
   "source": [
    "display(\n",
    "    X_train.head(), X_train.shape,\n",
    "    X_test.head(), X_test.shape,\n",
    "    y_train.head(), y_train.shape\n",
    ")"
   ]
  },
  {
   "cell_type": "code",
   "execution_count": 9,
   "metadata": {},
   "outputs": [],
   "source": [
    "from sklearn.metrics import average_precision_score\n",
    "from sklearn.model_selection import KFold, StratifiedKFold\n",
    "from sklearn.model_selection import train_test_split\n",
    "def pr_auc(preds, data):\n",
    "    y_true = data.get_label()\n",
    "    score = average_precision_score(y_true, preds)\n",
    "    return \"pr_auc\", score, True"
   ]
  },
  {
   "cell_type": "code",
   "execution_count": 10,
   "metadata": {},
   "outputs": [],
   "source": [
    "params = {\n",
    "    'objective': 'binary',\n",
    "    'metric': 'binary_logloss',\n",
    "    'boosting': 'gbdt',\n",
    "}"
   ]
  },
  {
   "cell_type": "code",
   "execution_count": 11,
   "metadata": {},
   "outputs": [],
   "source": [
    "tr_x, va_x, tr_y, va_y = train_test_split(X_train, y_train, test_size=0.3, shuffle=True, random_state=0, stratify=y_train)"
   ]
  },
  {
   "cell_type": "code",
   "execution_count": 12,
   "metadata": {},
   "outputs": [
    {
     "data": {
      "text/html": [
       "<div>\n",
       "<style scoped>\n",
       "    .dataframe tbody tr th:only-of-type {\n",
       "        vertical-align: middle;\n",
       "    }\n",
       "\n",
       "    .dataframe tbody tr th {\n",
       "        vertical-align: top;\n",
       "    }\n",
       "\n",
       "    .dataframe thead th {\n",
       "        text-align: right;\n",
       "    }\n",
       "</style>\n",
       "<table border=\"1\" class=\"dataframe\">\n",
       "  <thead>\n",
       "    <tr style=\"text-align: right;\">\n",
       "      <th></th>\n",
       "      <th>exc_wl</th>\n",
       "      <th>distance</th>\n",
       "      <th>pos_x</th>\n",
       "      <th>params0</th>\n",
       "      <th>params1</th>\n",
       "      <th>params2</th>\n",
       "      <th>params3</th>\n",
       "      <th>params4</th>\n",
       "      <th>params5</th>\n",
       "      <th>params6</th>\n",
       "      <th>...</th>\n",
       "      <th>em_ev</th>\n",
       "      <th>ex_ev</th>\n",
       "      <th>ev_diff</th>\n",
       "      <th>ev_ratio</th>\n",
       "      <th>num_peak</th>\n",
       "      <th>num_strong_peak</th>\n",
       "      <th>peak_wave_length2</th>\n",
       "      <th>peak_intensity2</th>\n",
       "      <th>peak_ratio</th>\n",
       "      <th>peak_ratio2</th>\n",
       "    </tr>\n",
       "  </thead>\n",
       "  <tbody>\n",
       "    <tr>\n",
       "      <th>6071</th>\n",
       "      <td>1</td>\n",
       "      <td>36.674242</td>\n",
       "      <td>412.8994</td>\n",
       "      <td>70.491372</td>\n",
       "      <td>65.209318</td>\n",
       "      <td>1466.663865</td>\n",
       "      <td>0.534087</td>\n",
       "      <td>29489.588633</td>\n",
       "      <td>1445.773552</td>\n",
       "      <td>10.683801</td>\n",
       "      <td>...</td>\n",
       "      <td>0.858189</td>\n",
       "      <td>1.458824</td>\n",
       "      <td>-0.600634</td>\n",
       "      <td>0.588275</td>\n",
       "      <td>5.0</td>\n",
       "      <td>2.0</td>\n",
       "      <td>1211.895</td>\n",
       "      <td>1179.0</td>\n",
       "      <td>11.169737</td>\n",
       "      <td>6.993691</td>\n",
       "    </tr>\n",
       "    <tr>\n",
       "      <th>5588</th>\n",
       "      <td>1</td>\n",
       "      <td>16.763055</td>\n",
       "      <td>1471.3180</td>\n",
       "      <td>378.998337</td>\n",
       "      <td>13772.035338</td>\n",
       "      <td>1410.170178</td>\n",
       "      <td>5.172881</td>\n",
       "      <td>2880.620258</td>\n",
       "      <td>1420.450501</td>\n",
       "      <td>5.748881</td>\n",
       "      <td>...</td>\n",
       "      <td>0.879652</td>\n",
       "      <td>1.458824</td>\n",
       "      <td>-0.579172</td>\n",
       "      <td>0.602987</td>\n",
       "      <td>5.0</td>\n",
       "      <td>1.0</td>\n",
       "      <td>0.000</td>\n",
       "      <td>0.0</td>\n",
       "      <td>8.624902</td>\n",
       "      <td>0.000000</td>\n",
       "    </tr>\n",
       "    <tr>\n",
       "      <th>3029</th>\n",
       "      <td>2</td>\n",
       "      <td>78.587531</td>\n",
       "      <td>-287.6901</td>\n",
       "      <td>87.881073</td>\n",
       "      <td>7.114627</td>\n",
       "      <td>1151.256442</td>\n",
       "      <td>0.978902</td>\n",
       "      <td>34403.958884</td>\n",
       "      <td>1170.363511</td>\n",
       "      <td>9.373946</td>\n",
       "      <td>...</td>\n",
       "      <td>1.059737</td>\n",
       "      <td>1.589744</td>\n",
       "      <td>-0.530007</td>\n",
       "      <td>0.666609</td>\n",
       "      <td>4.0</td>\n",
       "      <td>1.0</td>\n",
       "      <td>0.000</td>\n",
       "      <td>0.0</td>\n",
       "      <td>15.387290</td>\n",
       "      <td>0.000000</td>\n",
       "    </tr>\n",
       "    <tr>\n",
       "      <th>5171</th>\n",
       "      <td>1</td>\n",
       "      <td>55.226805</td>\n",
       "      <td>-1086.4150</td>\n",
       "      <td>202.719271</td>\n",
       "      <td>5243.961568</td>\n",
       "      <td>1096.053205</td>\n",
       "      <td>3.730720</td>\n",
       "      <td>13501.667449</td>\n",
       "      <td>1093.925574</td>\n",
       "      <td>7.062014</td>\n",
       "      <td>...</td>\n",
       "      <td>1.131614</td>\n",
       "      <td>1.458824</td>\n",
       "      <td>-0.327210</td>\n",
       "      <td>0.775703</td>\n",
       "      <td>6.0</td>\n",
       "      <td>1.0</td>\n",
       "      <td>0.000</td>\n",
       "      <td>0.0</td>\n",
       "      <td>7.172835</td>\n",
       "      <td>0.000000</td>\n",
       "    </tr>\n",
       "    <tr>\n",
       "      <th>4199</th>\n",
       "      <td>2</td>\n",
       "      <td>90.005555</td>\n",
       "      <td>-961.7723</td>\n",
       "      <td>13.976079</td>\n",
       "      <td>544.681501</td>\n",
       "      <td>1164.830531</td>\n",
       "      <td>1.474276</td>\n",
       "      <td>21801.714519</td>\n",
       "      <td>1163.589804</td>\n",
       "      <td>10.054806</td>\n",
       "      <td>...</td>\n",
       "      <td>1.064493</td>\n",
       "      <td>1.589744</td>\n",
       "      <td>-0.525251</td>\n",
       "      <td>0.669600</td>\n",
       "      <td>6.0</td>\n",
       "      <td>1.0</td>\n",
       "      <td>0.000</td>\n",
       "      <td>0.0</td>\n",
       "      <td>26.492349</td>\n",
       "      <td>0.000000</td>\n",
       "    </tr>\n",
       "  </tbody>\n",
       "</table>\n",
       "<p>5 rows × 607 columns</p>\n",
       "</div>"
      ],
      "text/plain": [
       "      exc_wl   distance      pos_x     params0       params1      params2  \\\n",
       "6071       1  36.674242   412.8994   70.491372     65.209318  1466.663865   \n",
       "5588       1  16.763055  1471.3180  378.998337  13772.035338  1410.170178   \n",
       "3029       2  78.587531  -287.6901   87.881073      7.114627  1151.256442   \n",
       "5171       1  55.226805 -1086.4150  202.719271   5243.961568  1096.053205   \n",
       "4199       2  90.005555  -961.7723   13.976079    544.681501  1164.830531   \n",
       "\n",
       "       params3       params4      params5    params6  ...     em_ev     ex_ev  \\\n",
       "6071  0.534087  29489.588633  1445.773552  10.683801  ...  0.858189  1.458824   \n",
       "5588  5.172881   2880.620258  1420.450501   5.748881  ...  0.879652  1.458824   \n",
       "3029  0.978902  34403.958884  1170.363511   9.373946  ...  1.059737  1.589744   \n",
       "5171  3.730720  13501.667449  1093.925574   7.062014  ...  1.131614  1.458824   \n",
       "4199  1.474276  21801.714519  1163.589804  10.054806  ...  1.064493  1.589744   \n",
       "\n",
       "       ev_diff  ev_ratio  num_peak  num_strong_peak  peak_wave_length2  \\\n",
       "6071 -0.600634  0.588275       5.0              2.0           1211.895   \n",
       "5588 -0.579172  0.602987       5.0              1.0              0.000   \n",
       "3029 -0.530007  0.666609       4.0              1.0              0.000   \n",
       "5171 -0.327210  0.775703       6.0              1.0              0.000   \n",
       "4199 -0.525251  0.669600       6.0              1.0              0.000   \n",
       "\n",
       "      peak_intensity2  peak_ratio  peak_ratio2  \n",
       "6071           1179.0   11.169737     6.993691  \n",
       "5588              0.0    8.624902     0.000000  \n",
       "3029              0.0   15.387290     0.000000  \n",
       "5171              0.0    7.172835     0.000000  \n",
       "4199              0.0   26.492349     0.000000  \n",
       "\n",
       "[5 rows x 607 columns]"
      ]
     },
     "metadata": {},
     "output_type": "display_data"
    },
    {
     "data": {
      "text/plain": [
       "(5205, 607)"
      ]
     },
     "metadata": {},
     "output_type": "display_data"
    },
    {
     "data": {
      "text/html": [
       "<div>\n",
       "<style scoped>\n",
       "    .dataframe tbody tr th:only-of-type {\n",
       "        vertical-align: middle;\n",
       "    }\n",
       "\n",
       "    .dataframe tbody tr th {\n",
       "        vertical-align: top;\n",
       "    }\n",
       "\n",
       "    .dataframe thead th {\n",
       "        text-align: right;\n",
       "    }\n",
       "</style>\n",
       "<table border=\"1\" class=\"dataframe\">\n",
       "  <thead>\n",
       "    <tr style=\"text-align: right;\">\n",
       "      <th></th>\n",
       "      <th>exc_wl</th>\n",
       "      <th>distance</th>\n",
       "      <th>pos_x</th>\n",
       "      <th>params0</th>\n",
       "      <th>params1</th>\n",
       "      <th>params2</th>\n",
       "      <th>params3</th>\n",
       "      <th>params4</th>\n",
       "      <th>params5</th>\n",
       "      <th>params6</th>\n",
       "      <th>...</th>\n",
       "      <th>em_ev</th>\n",
       "      <th>ex_ev</th>\n",
       "      <th>ev_diff</th>\n",
       "      <th>ev_ratio</th>\n",
       "      <th>num_peak</th>\n",
       "      <th>num_strong_peak</th>\n",
       "      <th>peak_wave_length2</th>\n",
       "      <th>peak_intensity2</th>\n",
       "      <th>peak_ratio</th>\n",
       "      <th>peak_ratio2</th>\n",
       "    </tr>\n",
       "  </thead>\n",
       "  <tbody>\n",
       "    <tr>\n",
       "      <th>3830</th>\n",
       "      <td>1</td>\n",
       "      <td>92.541882</td>\n",
       "      <td>608.3837</td>\n",
       "      <td>94.662811</td>\n",
       "      <td>12510.459614</td>\n",
       "      <td>1312.715387</td>\n",
       "      <td>1.503035</td>\n",
       "      <td>3.712007e+04</td>\n",
       "      <td>1320.005654</td>\n",
       "      <td>15.952679</td>\n",
       "      <td>...</td>\n",
       "      <td>0.944394</td>\n",
       "      <td>1.458824</td>\n",
       "      <td>-0.514430</td>\n",
       "      <td>0.647367</td>\n",
       "      <td>4.0</td>\n",
       "      <td>1.0</td>\n",
       "      <td>0.0</td>\n",
       "      <td>0.0</td>\n",
       "      <td>36.066906</td>\n",
       "      <td>0.0</td>\n",
       "    </tr>\n",
       "    <tr>\n",
       "      <th>1350</th>\n",
       "      <td>1</td>\n",
       "      <td>51.865210</td>\n",
       "      <td>-1479.9370</td>\n",
       "      <td>41.651094</td>\n",
       "      <td>51930.786126</td>\n",
       "      <td>1276.489808</td>\n",
       "      <td>10.028332</td>\n",
       "      <td>5.005090e-13</td>\n",
       "      <td>1597.000002</td>\n",
       "      <td>51672.972747</td>\n",
       "      <td>...</td>\n",
       "      <td>0.972150</td>\n",
       "      <td>1.458824</td>\n",
       "      <td>-0.486673</td>\n",
       "      <td>0.666393</td>\n",
       "      <td>5.0</td>\n",
       "      <td>1.0</td>\n",
       "      <td>0.0</td>\n",
       "      <td>0.0</td>\n",
       "      <td>24.546740</td>\n",
       "      <td>0.0</td>\n",
       "    </tr>\n",
       "    <tr>\n",
       "      <th>6135</th>\n",
       "      <td>1</td>\n",
       "      <td>48.083261</td>\n",
       "      <td>478.4027</td>\n",
       "      <td>-2600.426114</td>\n",
       "      <td>29920.681609</td>\n",
       "      <td>1094.386451</td>\n",
       "      <td>13.555428</td>\n",
       "      <td>1.257228e+07</td>\n",
       "      <td>1599.999996</td>\n",
       "      <td>2418.910752</td>\n",
       "      <td>...</td>\n",
       "      <td>1.131614</td>\n",
       "      <td>1.458824</td>\n",
       "      <td>-0.327210</td>\n",
       "      <td>0.775703</td>\n",
       "      <td>5.0</td>\n",
       "      <td>1.0</td>\n",
       "      <td>0.0</td>\n",
       "      <td>0.0</td>\n",
       "      <td>5.776248</td>\n",
       "      <td>0.0</td>\n",
       "    </tr>\n",
       "    <tr>\n",
       "      <th>1730</th>\n",
       "      <td>1</td>\n",
       "      <td>73.437048</td>\n",
       "      <td>-674.3403</td>\n",
       "      <td>194.922771</td>\n",
       "      <td>7466.146416</td>\n",
       "      <td>1359.675777</td>\n",
       "      <td>5.798357</td>\n",
       "      <td>1.261177e+04</td>\n",
       "      <td>1355.040340</td>\n",
       "      <td>9.521707</td>\n",
       "      <td>...</td>\n",
       "      <td>0.912589</td>\n",
       "      <td>1.458824</td>\n",
       "      <td>-0.546234</td>\n",
       "      <td>0.625565</td>\n",
       "      <td>4.0</td>\n",
       "      <td>1.0</td>\n",
       "      <td>0.0</td>\n",
       "      <td>0.0</td>\n",
       "      <td>7.003423</td>\n",
       "      <td>0.0</td>\n",
       "    </tr>\n",
       "    <tr>\n",
       "      <th>3034</th>\n",
       "      <td>1</td>\n",
       "      <td>86.023253</td>\n",
       "      <td>-991.6271</td>\n",
       "      <td>15.195474</td>\n",
       "      <td>659.931379</td>\n",
       "      <td>1038.057799</td>\n",
       "      <td>2.874518</td>\n",
       "      <td>4.101887e+04</td>\n",
       "      <td>1085.663139</td>\n",
       "      <td>10.451509</td>\n",
       "      <td>...</td>\n",
       "      <td>1.142543</td>\n",
       "      <td>1.458824</td>\n",
       "      <td>-0.316280</td>\n",
       "      <td>0.783195</td>\n",
       "      <td>5.0</td>\n",
       "      <td>1.0</td>\n",
       "      <td>0.0</td>\n",
       "      <td>0.0</td>\n",
       "      <td>29.178450</td>\n",
       "      <td>0.0</td>\n",
       "    </tr>\n",
       "  </tbody>\n",
       "</table>\n",
       "<p>5 rows × 607 columns</p>\n",
       "</div>"
      ],
      "text/plain": [
       "      exc_wl   distance      pos_x      params0       params1      params2  \\\n",
       "3830       1  92.541882   608.3837    94.662811  12510.459614  1312.715387   \n",
       "1350       1  51.865210 -1479.9370    41.651094  51930.786126  1276.489808   \n",
       "6135       1  48.083261   478.4027 -2600.426114  29920.681609  1094.386451   \n",
       "1730       1  73.437048  -674.3403   194.922771   7466.146416  1359.675777   \n",
       "3034       1  86.023253  -991.6271    15.195474    659.931379  1038.057799   \n",
       "\n",
       "        params3       params4      params5       params6  ...     em_ev  \\\n",
       "3830   1.503035  3.712007e+04  1320.005654     15.952679  ...  0.944394   \n",
       "1350  10.028332  5.005090e-13  1597.000002  51672.972747  ...  0.972150   \n",
       "6135  13.555428  1.257228e+07  1599.999996   2418.910752  ...  1.131614   \n",
       "1730   5.798357  1.261177e+04  1355.040340      9.521707  ...  0.912589   \n",
       "3034   2.874518  4.101887e+04  1085.663139     10.451509  ...  1.142543   \n",
       "\n",
       "         ex_ev   ev_diff  ev_ratio  num_peak  num_strong_peak  \\\n",
       "3830  1.458824 -0.514430  0.647367       4.0              1.0   \n",
       "1350  1.458824 -0.486673  0.666393       5.0              1.0   \n",
       "6135  1.458824 -0.327210  0.775703       5.0              1.0   \n",
       "1730  1.458824 -0.546234  0.625565       4.0              1.0   \n",
       "3034  1.458824 -0.316280  0.783195       5.0              1.0   \n",
       "\n",
       "      peak_wave_length2  peak_intensity2  peak_ratio  peak_ratio2  \n",
       "3830                0.0              0.0   36.066906          0.0  \n",
       "1350                0.0              0.0   24.546740          0.0  \n",
       "6135                0.0              0.0    5.776248          0.0  \n",
       "1730                0.0              0.0    7.003423          0.0  \n",
       "3034                0.0              0.0   29.178450          0.0  \n",
       "\n",
       "[5 rows x 607 columns]"
      ]
     },
     "metadata": {},
     "output_type": "display_data"
    },
    {
     "data": {
      "text/plain": [
       "(2231, 607)"
      ]
     },
     "metadata": {},
     "output_type": "display_data"
    },
    {
     "data": {
      "text/plain": [
       "6071    0\n",
       "5588    0\n",
       "3029    0\n",
       "5171    0\n",
       "4199    0\n",
       "Name: target, dtype: int64"
      ]
     },
     "metadata": {},
     "output_type": "display_data"
    },
    {
     "data": {
      "text/plain": [
       "(5205,)"
      ]
     },
     "metadata": {},
     "output_type": "display_data"
    },
    {
     "data": {
      "text/plain": [
       "3830    1\n",
       "1350    0\n",
       "6135    0\n",
       "1730    0\n",
       "3034    0\n",
       "Name: target, dtype: int64"
      ]
     },
     "metadata": {},
     "output_type": "display_data"
    },
    {
     "data": {
      "text/plain": [
       "(2231,)"
      ]
     },
     "metadata": {},
     "output_type": "display_data"
    }
   ],
   "source": [
    "display(\n",
    "    tr_x.head(), tr_x.shape,\n",
    "    va_x.head(), va_x.shape,\n",
    "    tr_y.head(), tr_y.shape,\n",
    "    va_y.head(), va_y.shape\n",
    ")"
   ]
  },
  {
   "cell_type": "code",
   "execution_count": 13,
   "metadata": {},
   "outputs": [],
   "source": [
    "dtrain = lgb.Dataset(tr_x, tr_y)\n",
    "dvalid = lgb.Dataset(va_x, va_y)"
   ]
  },
  {
   "cell_type": "code",
   "execution_count": 14,
   "metadata": {
    "scrolled": true
   },
   "outputs": [
    {
     "name": "stderr",
     "output_type": "stream",
     "text": [
      "/Users/takapy/.pyenv/versions/3.7.2/lib/python3.7/site-packages/optuna/_experimental.py:61: ExperimentalWarning:\n",
      "\n",
      "train is experimental (supported from v0.18.0). The interface can change in the future.\n",
      "\n",
      "/Users/takapy/.pyenv/versions/3.7.2/lib/python3.7/site-packages/optuna/_experimental.py:83: ExperimentalWarning:\n",
      "\n",
      "LightGBMTuner is experimental (supported from v1.5.0). The interface can change in the future.\n",
      "\n",
      "feature_fraction, val_score: 0.065949:  14%|#4        | 1/7 [00:05<00:31,  5.18s/it][I 2020-06-02 10:34:57,429] Finished trial#0 with value: 0.06594910761599546 with parameters: {'feature_fraction': 0.8999999999999999}. Best is trial#0 with value: 0.06594910761599546.\n",
      "feature_fraction, val_score: 0.063236:  29%|##8       | 2/7 [00:09<00:25,  5.05s/it][I 2020-06-02 10:35:02,180] Finished trial#1 with value: 0.06323621679971686 with parameters: {'feature_fraction': 0.8}. Best is trial#1 with value: 0.06323621679971686.\n",
      "feature_fraction, val_score: 0.063236:  43%|####2     | 3/7 [00:14<00:19,  4.81s/it][I 2020-06-02 10:35:06,424] Finished trial#2 with value: 0.06588672002620939 with parameters: {'feature_fraction': 0.7}. Best is trial#1 with value: 0.06323621679971686.\n",
      "feature_fraction, val_score: 0.063236:  57%|#####7    | 4/7 [00:19<00:15,  5.07s/it][I 2020-06-02 10:35:12,111] Finished trial#3 with value: 0.06904368769403128 with parameters: {'feature_fraction': 1.0}. Best is trial#1 with value: 0.06323621679971686.\n",
      "feature_fraction, val_score: 0.063236:  71%|#######1  | 5/7 [00:23<00:09,  4.71s/it][I 2020-06-02 10:35:15,986] Finished trial#4 with value: 0.06694213623410662 with parameters: {'feature_fraction': 0.5}. Best is trial#1 with value: 0.06323621679971686.\n",
      "feature_fraction, val_score: 0.063236:  86%|########5 | 6/7 [00:26<00:04,  4.21s/it][I 2020-06-02 10:35:19,034] Finished trial#5 with value: 0.0677843598024901 with parameters: {'feature_fraction': 0.4}. Best is trial#1 with value: 0.06323621679971686.\n",
      "feature_fraction, val_score: 0.063236: 100%|##########| 7/7 [00:31<00:00,  4.34s/it][I 2020-06-02 10:35:23,688] Finished trial#6 with value: 0.06601707018304669 with parameters: {'feature_fraction': 0.6}. Best is trial#1 with value: 0.06323621679971686.\n",
      "feature_fraction, val_score: 0.063236: 100%|##########| 7/7 [00:31<00:00,  4.50s/it]\n",
      "num_leaves, val_score: 0.063236:   5%|5         | 1/20 [00:15<04:55, 15.53s/it][I 2020-06-02 10:35:39,287] Finished trial#7 with value: 0.0657756994177101 with parameters: {'num_leaves': 254}. Best is trial#7 with value: 0.0657756994177101.\n",
      "num_leaves, val_score: 0.063236:  10%|#         | 2/20 [00:30<04:34, 15.24s/it][I 2020-06-02 10:35:53,850] Finished trial#8 with value: 0.0657756994177101 with parameters: {'num_leaves': 250}. Best is trial#7 with value: 0.0657756994177101.\n",
      "num_leaves, val_score: 0.063236:  15%|#5        | 3/20 [00:39<03:48, 13.46s/it][I 2020-06-02 10:36:03,143] Finished trial#9 with value: 0.06465302636234073 with parameters: {'num_leaves': 106}. Best is trial#9 with value: 0.06465302636234073.\n",
      "num_leaves, val_score: 0.063236:  20%|##        | 4/20 [00:46<03:04, 11.52s/it][I 2020-06-02 10:36:10,141] Finished trial#10 with value: 0.06468270847781421 with parameters: {'num_leaves': 63}. Best is trial#9 with value: 0.06465302636234073.\n",
      "num_leaves, val_score: 0.063236:  25%|##5       | 5/20 [00:54<02:37, 10.48s/it][I 2020-06-02 10:36:18,188] Finished trial#11 with value: 0.06736945884664416 with parameters: {'num_leaves': 78}. Best is trial#9 with value: 0.06465302636234073.\n",
      "num_leaves, val_score: 0.063236:  30%|###       | 6/20 [01:02<02:15,  9.69s/it][I 2020-06-02 10:36:26,044] Finished trial#12 with value: 0.06517562413166852 with parameters: {'num_leaves': 60}. Best is trial#9 with value: 0.06465302636234073.\n",
      "num_leaves, val_score: 0.063236:  35%|###5      | 7/20 [01:11<02:04,  9.56s/it][I 2020-06-02 10:36:35,308] Finished trial#13 with value: 0.06648534210241788 with parameters: {'num_leaves': 79}. Best is trial#9 with value: 0.06465302636234073.\n",
      "num_leaves, val_score: 0.063236:  40%|####      | 8/20 [01:24<02:07, 10.59s/it][I 2020-06-02 10:36:48,284] Finished trial#14 with value: 0.06581520261988055 with parameters: {'num_leaves': 176}. Best is trial#9 with value: 0.06465302636234073.\n",
      "num_leaves, val_score: 0.063236:  45%|####5     | 9/20 [01:34<01:54, 10.37s/it][I 2020-06-02 10:36:58,147] Finished trial#15 with value: 0.06659723060848936 with parameters: {'num_leaves': 83}. Best is trial#9 with value: 0.06465302636234073.\n",
      "num_leaves, val_score: 0.063236:  50%|#####     | 10/20 [01:46<01:49, 10.94s/it][I 2020-06-02 10:37:10,437] Finished trial#16 with value: 0.06437802976073712 with parameters: {'num_leaves': 163}. Best is trial#16 with value: 0.06437802976073712.\n",
      "num_leaves, val_score: 0.063236:  55%|#####5    | 11/20 [02:02<01:52, 12.45s/it][I 2020-06-02 10:37:26,433] Finished trial#17 with value: 0.06437802511819857 with parameters: {'num_leaves': 167}. Best is trial#17 with value: 0.06437802511819857.\n",
      "num_leaves, val_score: 0.063236:  60%|######    | 12/20 [02:21<01:54, 14.28s/it][I 2020-06-02 10:37:44,982] Finished trial#18 with value: 0.06577570718413214 with parameters: {'num_leaves': 168}. Best is trial#17 with value: 0.06437802511819857.\n",
      "num_leaves, val_score: 0.063236:  65%|######5   | 13/20 [02:38<01:47, 15.34s/it][I 2020-06-02 10:38:02,773] Finished trial#19 with value: 0.06437803398415314 with parameters: {'num_leaves': 164}. Best is trial#17 with value: 0.06437802511819857.\n",
      "num_leaves, val_score: 0.063236:  70%|#######   | 14/20 [02:45<01:15, 12.54s/it][I 2020-06-02 10:38:08,788] Finished trial#20 with value: 0.06538017664623923 with parameters: {'num_leaves': 10}. Best is trial#17 with value: 0.06437802511819857.\n",
      "num_leaves, val_score: 0.063236:  75%|#######5  | 15/20 [03:00<01:07, 13.53s/it][I 2020-06-02 10:38:24,610] Finished trial#21 with value: 0.06577565539265641 with parameters: {'num_leaves': 187}. Best is trial#17 with value: 0.06437802511819857.\n",
      "num_leaves, val_score: 0.063236:  80%|########  | 16/20 [03:15<00:55, 13.87s/it][I 2020-06-02 10:38:39,287] Finished trial#22 with value: 0.06577693202122901 with parameters: {'num_leaves': 211}. Best is trial#17 with value: 0.06437802511819857.\n",
      "num_leaves, val_score: 0.063236:  85%|########5 | 17/20 [03:27<00:39, 13.16s/it][I 2020-06-02 10:38:50,793] Finished trial#23 with value: 0.06507894943318512 with parameters: {'num_leaves': 132}. Best is trial#17 with value: 0.06437802511819857.\n",
      "num_leaves, val_score: 0.063236:  90%|######### | 18/20 [03:43<00:28, 14.22s/it][I 2020-06-02 10:39:07,495] Finished trial#24 with value: 0.0657756994177101 with parameters: {'num_leaves': 219}. Best is trial#17 with value: 0.06437802511819857.\n",
      "num_leaves, val_score: 0.063236:  95%|#########5| 19/20 [03:58<00:14, 14.33s/it][I 2020-06-02 10:39:22,067] Finished trial#25 with value: 0.06511377847398048 with parameters: {'num_leaves': 131}. Best is trial#17 with value: 0.06437802511819857.\n",
      "num_leaves, val_score: 0.063236: 100%|##########| 20/20 [04:14<00:00, 14.95s/it][I 2020-06-02 10:39:38,485] Finished trial#26 with value: 0.06437806763537214 with parameters: {'num_leaves': 144}. Best is trial#17 with value: 0.06437802511819857.\n",
      "num_leaves, val_score: 0.063236: 100%|##########| 20/20 [04:14<00:00, 12.74s/it]\n",
      "bagging, val_score: 0.061925:  10%|#         | 1/10 [00:08<01:20,  8.96s/it][I 2020-06-02 10:39:47,538] Finished trial#27 with value: 0.06192468054859304 with parameters: {'bagging_fraction': 0.5687112242554548, 'bagging_freq': 2}. Best is trial#27 with value: 0.06192468054859304.\n",
      "bagging, val_score: 0.061925:  20%|##        | 2/10 [00:15<01:05,  8.19s/it][I 2020-06-02 10:39:53,912] Finished trial#28 with value: 0.06704712774900609 with parameters: {'bagging_fraction': 0.8986942322134599, 'bagging_freq': 5}. Best is trial#27 with value: 0.06192468054859304.\n",
      "bagging, val_score: 0.061925:  30%|###       | 3/10 [00:22<00:54,  7.79s/it][I 2020-06-02 10:40:00,780] Finished trial#29 with value: 0.06631442389455056 with parameters: {'bagging_fraction': 0.7360628718761622, 'bagging_freq': 7}. Best is trial#27 with value: 0.06192468054859304.\n",
      "bagging, val_score: 0.061925:  40%|####      | 4/10 [00:29<00:45,  7.50s/it][I 2020-06-02 10:40:07,621] Finished trial#30 with value: 0.0686661575859666 with parameters: {'bagging_fraction': 0.9065077362441584, 'bagging_freq': 1}. Best is trial#27 with value: 0.06192468054859304.\n",
      "bagging, val_score: 0.061925:  50%|#####     | 5/10 [00:36<00:36,  7.35s/it][I 2020-06-02 10:40:14,620] Finished trial#31 with value: 0.06526346619774664 with parameters: {'bagging_fraction': 0.7150030014566222, 'bagging_freq': 7}. Best is trial#27 with value: 0.06192468054859304.\n",
      "bagging, val_score: 0.061925:  60%|######    | 6/10 [00:43<00:29,  7.32s/it][I 2020-06-02 10:40:21,857] Finished trial#32 with value: 0.06851813234743093 with parameters: {'bagging_fraction': 0.7669011968545343, 'bagging_freq': 4}. Best is trial#27 with value: 0.06192468054859304.\n",
      "bagging, val_score: 0.061925:  70%|#######   | 7/10 [00:52<00:24,  8.02s/it][I 2020-06-02 10:40:31,499] Finished trial#33 with value: 0.06693621594215572 with parameters: {'bagging_fraction': 0.6247506388993045, 'bagging_freq': 3}. Best is trial#27 with value: 0.06192468054859304.\n",
      "bagging, val_score: 0.061925:  80%|########  | 8/10 [00:59<00:15,  7.63s/it][I 2020-06-02 10:40:38,214] Finished trial#34 with value: 0.0689441190748268 with parameters: {'bagging_fraction': 0.8909038042492748, 'bagging_freq': 2}. Best is trial#27 with value: 0.06192468054859304.\n",
      "bagging, val_score: 0.061925:  90%|######### | 9/10 [01:07<00:07,  7.64s/it][I 2020-06-02 10:40:45,870] Finished trial#35 with value: 0.06209822148117181 with parameters: {'bagging_fraction': 0.6369944433409382, 'bagging_freq': 1}. Best is trial#27 with value: 0.06192468054859304.\n",
      "bagging, val_score: 0.061925: 100%|##########| 10/10 [01:14<00:00,  7.47s/it][I 2020-06-02 10:40:52,964] Finished trial#36 with value: 0.06779700269941231 with parameters: {'bagging_fraction': 0.9425097264715594, 'bagging_freq': 4}. Best is trial#27 with value: 0.06192468054859304.\n",
      "bagging, val_score: 0.061925: 100%|##########| 10/10 [01:14<00:00,  7.45s/it]\n",
      "feature_fraction_stage2, val_score: 0.061925:  17%|#6        | 1/6 [00:07<00:38,  7.69s/it][I 2020-06-02 10:41:00,744] Finished trial#37 with value: 0.06327716249209549 with parameters: {'feature_fraction': 0.7200000000000001}. Best is trial#37 with value: 0.06327716249209549.\n",
      "feature_fraction_stage2, val_score: 0.061925:  33%|###3      | 2/6 [00:16<00:31,  7.98s/it][I 2020-06-02 10:41:09,394] Finished trial#38 with value: 0.06889426996731778 with parameters: {'feature_fraction': 0.88}. Best is trial#37 with value: 0.06327716249209549.\n",
      "feature_fraction_stage2, val_score: 0.056313:  50%|#####     | 3/6 [00:24<00:24,  8.06s/it][I 2020-06-02 10:41:17,646] Finished trial#39 with value: 0.05631310866650079 with parameters: {'feature_fraction': 0.7520000000000001}. Best is trial#39 with value: 0.05631310866650079.\n",
      "feature_fraction_stage2, val_score: 0.056313:  67%|######6   | 4/6 [00:34<00:17,  8.61s/it][I 2020-06-02 10:41:27,555] Finished trial#40 with value: 0.06339604796796151 with parameters: {'feature_fraction': 0.8160000000000001}. Best is trial#39 with value: 0.05631310866650079.\n",
      "feature_fraction_stage2, val_score: 0.056313:  83%|########3 | 5/6 [00:44<00:09,  9.01s/it][I 2020-06-02 10:41:37,484] Finished trial#41 with value: 0.06269142648474561 with parameters: {'feature_fraction': 0.8480000000000001}. Best is trial#39 with value: 0.05631310866650079.\n",
      "feature_fraction_stage2, val_score: 0.056313: 100%|##########| 6/6 [00:54<00:00,  9.38s/it][I 2020-06-02 10:41:47,732] Finished trial#42 with value: 0.06689732118455223 with parameters: {'feature_fraction': 0.784}. Best is trial#39 with value: 0.05631310866650079.\n",
      "feature_fraction_stage2, val_score: 0.056313: 100%|##########| 6/6 [00:54<00:00,  9.13s/it]\n",
      "regularization_factors, val_score: 0.054762:   5%|5         | 1/20 [00:06<01:55,  6.06s/it][I 2020-06-02 10:41:53,893] Finished trial#43 with value: 0.05476200422276082 with parameters: {'lambda_l1': 0.018813963342676703, 'lambda_l2': 1.2092959835648854e-07}. Best is trial#43 with value: 0.05476200422276082.\n",
      "regularization_factors, val_score: 0.045322:  10%|#         | 2/20 [00:19<02:29,  8.29s/it][I 2020-06-02 10:42:07,385] Finished trial#44 with value: 0.045322201339868445 with parameters: {'lambda_l1': 2.5576044256028643e-08, 'lambda_l2': 6.506515608578578}. Best is trial#44 with value: 0.045322201339868445.\n",
      "regularization_factors, val_score: 0.045322:  15%|#5        | 3/20 [00:29<02:27,  8.67s/it][I 2020-06-02 10:42:16,928] Finished trial#45 with value: 0.05647138732263466 with parameters: {'lambda_l1': 4.3564310255610115e-05, 'lambda_l2': 0.061762378681843096}. Best is trial#44 with value: 0.045322201339868445.\n",
      "regularization_factors, val_score: 0.044789:  20%|##        | 4/20 [00:33<02:00,  7.52s/it][I 2020-06-02 10:42:21,770] Finished trial#46 with value: 0.04478941712495517 with parameters: {'lambda_l1': 0.6318452248273262, 'lambda_l2': 1.679782421406563e-05}. Best is trial#46 with value: 0.04478941712495517.\n",
      "regularization_factors, val_score: 0.044789:  25%|##5       | 5/20 [00:46<02:16,  9.11s/it][I 2020-06-02 10:42:34,580] Finished trial#47 with value: 0.05150931233920085 with parameters: {'lambda_l1': 0.0013070226056563813, 'lambda_l2': 1.191745401525194}. Best is trial#46 with value: 0.04478941712495517.\n",
      "regularization_factors, val_score: 0.044789:  30%|###       | 6/20 [00:52<01:55,  8.24s/it][I 2020-06-02 10:42:40,789] Finished trial#48 with value: 0.05037858054771478 with parameters: {'lambda_l1': 0.07613782049397921, 'lambda_l2': 2.580923119929592e-06}. Best is trial#46 with value: 0.04478941712495517.\n",
      "regularization_factors, val_score: 0.044789:  35%|###5      | 7/20 [01:08<02:14, 10.33s/it][I 2020-06-02 10:42:56,002] Finished trial#49 with value: 0.04760013398609153 with parameters: {'lambda_l1': 3.163178541166345e-07, 'lambda_l2': 3.2521545961342264}. Best is trial#46 with value: 0.04478941712495517.\n",
      "regularization_factors, val_score: 0.044789:  40%|####      | 8/20 [01:15<01:53,  9.48s/it][I 2020-06-02 10:43:03,495] Finished trial#50 with value: 0.061249363818694946 with parameters: {'lambda_l1': 0.0005505790584401423, 'lambda_l2': 5.924907443806376e-05}. Best is trial#46 with value: 0.04478941712495517.\n",
      "regularization_factors, val_score: 0.044789:  45%|####5     | 9/20 [01:22<01:35,  8.69s/it][I 2020-06-02 10:43:10,351] Finished trial#51 with value: 0.06162284815959743 with parameters: {'lambda_l1': 4.012703643789296e-05, 'lambda_l2': 0.0003289041435159023}. Best is trial#46 with value: 0.04478941712495517.\n",
      "regularization_factors, val_score: 0.044789:  50%|#####     | 10/20 [01:33<01:33,  9.40s/it][I 2020-06-02 10:43:21,409] Finished trial#52 with value: 0.060964726522893135 with parameters: {'lambda_l1': 0.0004022252643699743, 'lambda_l2': 0.017249665986520724}. Best is trial#46 with value: 0.04478941712495517.\n",
      "regularization_factors, val_score: 0.037243:  55%|#####5    | 11/20 [01:39<01:14,  8.24s/it][I 2020-06-02 10:43:26,943] Finished trial#53 with value: 0.03724299939537861 with parameters: {'lambda_l1': 3.3394502977578635, 'lambda_l2': 2.8628304497514838e-08}. Best is trial#53 with value: 0.03724299939537861.\n",
      "regularization_factors, val_score: 0.037243:  60%|######    | 12/20 [01:44<00:58,  7.28s/it][I 2020-06-02 10:43:31,968] Finished trial#54 with value: 0.0379910862266463 with parameters: {'lambda_l1': 5.95213897186546, 'lambda_l2': 3.155908669221135e-08}. Best is trial#53 with value: 0.03724299939537861.\n",
      "regularization_factors, val_score: 0.035037:  65%|######5   | 13/20 [01:50<00:49,  7.01s/it][I 2020-06-02 10:43:38,337] Finished trial#55 with value: 0.035036540871351905 with parameters: {'lambda_l1': 4.244068385857982, 'lambda_l2': 1.863308242015143e-08}. Best is trial#55 with value: 0.035036540871351905.\n",
      "regularization_factors, val_score: 0.035037:  70%|#######   | 14/20 [01:55<00:38,  6.34s/it][I 2020-06-02 10:43:43,113] Finished trial#56 with value: 0.03806141827721982 with parameters: {'lambda_l1': 7.795444665354442, 'lambda_l2': 1.1809558355113037e-08}. Best is trial#55 with value: 0.035036540871351905.\n",
      "regularization_factors, val_score: 0.035037:  75%|#######5  | 15/20 [01:59<00:29,  5.83s/it][I 2020-06-02 10:43:47,740] Finished trial#57 with value: 0.04029376071287987 with parameters: {'lambda_l1': 8.485502751205534, 'lambda_l2': 5.759468084510952e-07}. Best is trial#55 with value: 0.035036540871351905.\n",
      "regularization_factors, val_score: 0.035037:  80%|########  | 16/20 [02:05<00:22,  5.74s/it][I 2020-06-02 10:43:53,298] Finished trial#58 with value: 0.04223544360188668 with parameters: {'lambda_l1': 0.5184851178455596, 'lambda_l2': 1.2587853543466516e-08}. Best is trial#55 with value: 0.035036540871351905.\n",
      "regularization_factors, val_score: 0.035037:  85%|########5 | 17/20 [02:13<00:19,  6.34s/it][I 2020-06-02 10:44:01,017] Finished trial#59 with value: 0.057597679950112585 with parameters: {'lambda_l1': 0.011272612157587287, 'lambda_l2': 3.382776785809973e-07}. Best is trial#55 with value: 0.035036540871351905.\n",
      "regularization_factors, val_score: 0.035037:  90%|######### | 18/20 [02:18<00:12,  6.15s/it][I 2020-06-02 10:44:06,716] Finished trial#60 with value: 0.044779287328044204 with parameters: {'lambda_l1': 0.3305267106214237, 'lambda_l2': 3.072639900662832e-06}. Best is trial#55 with value: 0.035036540871351905.\n",
      "regularization_factors, val_score: 0.035037:  95%|#########5| 19/20 [02:25<00:06,  6.14s/it][I 2020-06-02 10:44:12,857] Finished trial#61 with value: 0.03876569839862111 with parameters: {'lambda_l1': 8.021998019671276, 'lambda_l2': 0.001235859748372536}. Best is trial#55 with value: 0.035036540871351905.\n",
      "regularization_factors, val_score: 0.035037: 100%|##########| 20/20 [02:31<00:00,  6.11s/it][I 2020-06-02 10:44:18,883] Finished trial#62 with value: 0.04290314052390535 with parameters: {'lambda_l1': 0.8999455648543393, 'lambda_l2': 6.498841359249403e-08}. Best is trial#55 with value: 0.035036540871351905.\n",
      "regularization_factors, val_score: 0.035037: 100%|##########| 20/20 [02:31<00:00,  7.56s/it]\n",
      "min_data_in_leaf, val_score: 0.035037:  20%|##        | 1/5 [00:05<00:22,  5.51s/it][I 2020-06-02 10:44:24,490] Finished trial#63 with value: 0.0408473352391455 with parameters: {'min_child_samples': 5}. Best is trial#63 with value: 0.0408473352391455.\n",
      "min_data_in_leaf, val_score: 0.035037:  40%|####      | 2/5 [00:09<00:15,  5.20s/it][I 2020-06-02 10:44:28,965] Finished trial#64 with value: 0.03634735545327652 with parameters: {'min_child_samples': 50}. Best is trial#64 with value: 0.03634735545327652.\n",
      "min_data_in_leaf, val_score: 0.035037:  60%|######    | 3/5 [00:15<00:10,  5.20s/it][I 2020-06-02 10:44:34,165] Finished trial#65 with value: 0.0358971914284921 with parameters: {'min_child_samples': 25}. Best is trial#65 with value: 0.0358971914284921.\n",
      "min_data_in_leaf, val_score: 0.033530:  80%|########  | 4/5 [00:21<00:05,  5.46s/it][I 2020-06-02 10:44:40,222] Finished trial#66 with value: 0.033529782828549674 with parameters: {'min_child_samples': 100}. Best is trial#66 with value: 0.033529782828549674.\n",
      "min_data_in_leaf, val_score: 0.033530: 100%|##########| 5/5 [00:27<00:00,  5.78s/it][I 2020-06-02 10:44:46,736] Finished trial#67 with value: 0.0396128974434985 with parameters: {'min_child_samples': 10}. Best is trial#66 with value: 0.033529782828549674.\n",
      "min_data_in_leaf, val_score: 0.033530: 100%|##########| 5/5 [00:27<00:00,  5.57s/it]\n"
     ]
    },
    {
     "name": "stdout",
     "output_type": "stream",
     "text": [
      "CPU times: user 1h 44min 29s, sys: 2min 29s, total: 1h 46min 59s\n",
      "Wall time: 9min 54s\n"
     ]
    }
   ],
   "source": [
    "%%time\n",
    "best_params, tuning_history = dict(), list()\n",
    "booster = lgb.train(params, dtrain,\n",
    "                    valid_sets=dvalid,\n",
    "                    verbose_eval=-1,\n",
    "                    best_params=best_params,\n",
    "                    tuning_history=tuning_history)"
   ]
  },
  {
   "cell_type": "code",
   "execution_count": 15,
   "metadata": {},
   "outputs": [
    {
     "data": {
      "text/plain": [
       "{'lambda_l1': 4.244068385857982,\n",
       " 'lambda_l2': 1.863308242015143e-08,\n",
       " 'num_leaves': 31,\n",
       " 'feature_fraction': 0.7520000000000001,\n",
       " 'bagging_fraction': 0.5687112242554548,\n",
       " 'bagging_freq': 2,\n",
       " 'min_child_samples': 100,\n",
       " 'objective': 'binary',\n",
       " 'metric': 'binary_logloss',\n",
       " 'boosting': 'gbdt'}"
      ]
     },
     "execution_count": 15,
     "metadata": {},
     "output_type": "execute_result"
    }
   ],
   "source": [
    "best_params"
   ]
  },
  {
   "cell_type": "markdown",
   "metadata": {},
   "source": [
    "## CVバージョン"
   ]
  },
  {
   "cell_type": "code",
   "execution_count": 27,
   "metadata": {},
   "outputs": [
    {
     "name": "stderr",
     "output_type": "stream",
     "text": [
      "/Users/takapy/.pyenv/versions/3.7.2/lib/python3.7/site-packages/optuna/_experimental.py:83: ExperimentalWarning:\n",
      "\n",
      "LightGBMTunerCV is experimental (supported from v1.5.0). The interface can change in the future.\n",
      "\n"
     ]
    }
   ],
   "source": [
    "# LightGBM のデータセット表現にする\n",
    "lgb_train = lgb.Dataset(X_train, y_train)\n",
    "\n",
    "# データセットの分割方法\n",
    "folds = StratifiedKFold(n_splits=5, shuffle=True, random_state=42)\n",
    "\n",
    "# 最適化するときの条件\n",
    "params = {\n",
    "    'objective': 'binary',\n",
    "    'metric': 'binary_logloss',\n",
    "    'verbosity': -1,\n",
    "    'boosting': 'gbdt'\n",
    "}\n",
    "\n",
    "# 基本的には cv() 関数のオプションがそのまま渡せる\n",
    "tuner_cv = lgb.LightGBMTunerCV(\n",
    "    params, lgb_train,\n",
    "    num_boost_round=1000,\n",
    "    early_stopping_rounds=100,\n",
    "    verbose_eval=20,\n",
    "    folds=folds,\n",
    ")"
   ]
  },
  {
   "cell_type": "code",
   "execution_count": 28,
   "metadata": {
    "scrolled": true
   },
   "outputs": [
    {
     "name": "stderr",
     "output_type": "stream",
     "text": [
      "\n",
      "\n",
      "  0%|          | 0/7 [00:00<?, ?it/s]\n",
      "\n",
      "feature_fraction, val_score: inf:   0%|          | 0/7 [00:00<?, ?it/s]"
     ]
    },
    {
     "name": "stdout",
     "output_type": "stream",
     "text": [
      "[20]\tcv_agg's binary_logloss: 0.0460938 + 0.00706644\n",
      "[40]\tcv_agg's binary_logloss: 0.0441253 + 0.00992888\n",
      "[60]\tcv_agg's binary_logloss: 0.0488134 + 0.0137758\n",
      "[80]\tcv_agg's binary_logloss: 0.0553338 + 0.0173657\n",
      "[100]\tcv_agg's binary_logloss: 0.0633738 + 0.020199\n",
      "[120]\tcv_agg's binary_logloss: 0.0689102 + 0.0220824\n"
     ]
    },
    {
     "name": "stderr",
     "output_type": "stream",
     "text": [
      "\n",
      "\n",
      "feature_fraction, val_score: 0.042893:   0%|          | 0/7 [00:12<?, ?it/s]\n",
      "\n",
      "feature_fraction, val_score: 0.042893:  14%|#4        | 1/7 [00:12<01:17, 12.96s/it][I 2020-06-01 23:41:03,800] Finished trial#0 with value: 0.04289337850798018 with parameters: {'feature_fraction': 0.7}. Best is trial#0 with value: 0.04289337850798018.\n",
      "\n",
      "\n",
      "feature_fraction, val_score: 0.042893:  14%|#4        | 1/7 [00:13<01:17, 12.96s/it]"
     ]
    },
    {
     "name": "stdout",
     "output_type": "stream",
     "text": [
      "[20]\tcv_agg's binary_logloss: 0.0447874 + 0.00783866\n",
      "[40]\tcv_agg's binary_logloss: 0.0438758 + 0.011457\n",
      "[60]\tcv_agg's binary_logloss: 0.0484738 + 0.0155016\n",
      "[80]\tcv_agg's binary_logloss: 0.0558221 + 0.0187449\n",
      "[100]\tcv_agg's binary_logloss: 0.0636209 + 0.022324\n",
      "[120]\tcv_agg's binary_logloss: 0.0683658 + 0.0237225\n"
     ]
    },
    {
     "name": "stderr",
     "output_type": "stream",
     "text": [
      "\n",
      "\n",
      "feature_fraction, val_score: 0.042374:  14%|#4        | 1/7 [00:24<01:17, 12.96s/it]\n",
      "\n",
      "feature_fraction, val_score: 0.042374:  29%|##8       | 2/7 [00:24<01:02, 12.54s/it][I 2020-06-01 23:41:15,345] Finished trial#1 with value: 0.04237355379374536 with parameters: {'feature_fraction': 0.6}. Best is trial#1 with value: 0.04237355379374536.\n",
      "\n",
      "\n",
      "feature_fraction, val_score: 0.042374:  29%|##8       | 2/7 [00:24<01:02, 12.54s/it]"
     ]
    },
    {
     "name": "stdout",
     "output_type": "stream",
     "text": [
      "[20]\tcv_agg's binary_logloss: 0.0483211 + 0.00647919\n",
      "[40]\tcv_agg's binary_logloss: 0.0458193 + 0.0105804\n",
      "[60]\tcv_agg's binary_logloss: 0.0514499 + 0.0142206\n",
      "[80]\tcv_agg's binary_logloss: 0.059042 + 0.017201\n",
      "[100]\tcv_agg's binary_logloss: 0.066258 + 0.0191564\n",
      "[120]\tcv_agg's binary_logloss: 0.0709877 + 0.0216335\n"
     ]
    },
    {
     "name": "stderr",
     "output_type": "stream",
     "text": [
      "\n",
      "\n",
      "feature_fraction, val_score: 0.042374:  29%|##8       | 2/7 [00:43<01:02, 12.54s/it]\n",
      "\n",
      "feature_fraction, val_score: 0.042374:  43%|####2     | 3/7 [00:43<00:58, 14.62s/it][I 2020-06-01 23:41:34,833] Finished trial#2 with value: 0.04524609468266062 with parameters: {'feature_fraction': 1.0}. Best is trial#1 with value: 0.04237355379374536.\n",
      "\n",
      "\n",
      "feature_fraction, val_score: 0.042374:  43%|####2     | 3/7 [00:44<00:58, 14.62s/it]"
     ]
    },
    {
     "name": "stdout",
     "output_type": "stream",
     "text": [
      "[20]\tcv_agg's binary_logloss: 0.0449013 + 0.00744585\n",
      "[40]\tcv_agg's binary_logloss: 0.0442859 + 0.0113104\n",
      "[60]\tcv_agg's binary_logloss: 0.0491487 + 0.0152493\n",
      "[80]\tcv_agg's binary_logloss: 0.0561926 + 0.0181699\n",
      "[100]\tcv_agg's binary_logloss: 0.0631161 + 0.021924\n",
      "[120]\tcv_agg's binary_logloss: 0.0694865 + 0.0242743\n"
     ]
    },
    {
     "name": "stderr",
     "output_type": "stream",
     "text": [
      "\n",
      "\n",
      "feature_fraction, val_score: 0.042374:  43%|####2     | 3/7 [00:56<00:58, 14.62s/it]\n",
      "\n",
      "feature_fraction, val_score: 0.042374:  57%|#####7    | 4/7 [00:56<00:42, 14.11s/it][I 2020-06-01 23:41:47,735] Finished trial#3 with value: 0.04240953986406692 with parameters: {'feature_fraction': 0.5}. Best is trial#1 with value: 0.04237355379374536.\n",
      "\n",
      "\n",
      "feature_fraction, val_score: 0.042374:  57%|#####7    | 4/7 [00:56<00:42, 14.11s/it]"
     ]
    },
    {
     "name": "stdout",
     "output_type": "stream",
     "text": [
      "[20]\tcv_agg's binary_logloss: 0.0465042 + 0.00727269\n",
      "[40]\tcv_agg's binary_logloss: 0.0448795 + 0.0119062\n",
      "[60]\tcv_agg's binary_logloss: 0.0492173 + 0.0156025\n",
      "[80]\tcv_agg's binary_logloss: 0.0566475 + 0.0185386\n",
      "[100]\tcv_agg's binary_logloss: 0.0631003 + 0.0218326\n",
      "[120]\tcv_agg's binary_logloss: 0.0683195 + 0.0239605\n"
     ]
    },
    {
     "name": "stderr",
     "output_type": "stream",
     "text": [
      "\n",
      "\n",
      "feature_fraction, val_score: 0.042374:  57%|#####7    | 4/7 [01:13<00:42, 14.11s/it]\n",
      "\n",
      "feature_fraction, val_score: 0.042374:  71%|#######1  | 5/7 [01:13<00:29, 14.72s/it][I 2020-06-01 23:42:03,869] Finished trial#4 with value: 0.04417268371506315 with parameters: {'feature_fraction': 0.8}. Best is trial#1 with value: 0.04237355379374536.\n",
      "\n",
      "\n",
      "feature_fraction, val_score: 0.042374:  71%|#######1  | 5/7 [01:13<00:29, 14.72s/it]"
     ]
    },
    {
     "name": "stdout",
     "output_type": "stream",
     "text": [
      "[20]\tcv_agg's binary_logloss: 0.0432214 + 0.0071863\n",
      "[40]\tcv_agg's binary_logloss: 0.0421308 + 0.0105647\n",
      "[60]\tcv_agg's binary_logloss: 0.0474142 + 0.0135457\n",
      "[80]\tcv_agg's binary_logloss: 0.0548875 + 0.0168547\n",
      "[100]\tcv_agg's binary_logloss: 0.0614471 + 0.0200732\n",
      "[120]\tcv_agg's binary_logloss: 0.0666818 + 0.022645\n"
     ]
    },
    {
     "name": "stderr",
     "output_type": "stream",
     "text": [
      "\n",
      "\n",
      "feature_fraction, val_score: 0.040778:  71%|#######1  | 5/7 [01:22<00:29, 14.72s/it]\n",
      "\n",
      "feature_fraction, val_score: 0.040778:  86%|########5 | 6/7 [01:22<00:13, 13.26s/it][I 2020-06-01 23:42:13,728] Finished trial#5 with value: 0.040778304386583766 with parameters: {'feature_fraction': 0.4}. Best is trial#5 with value: 0.040778304386583766.\n",
      "\n",
      "\n",
      "feature_fraction, val_score: 0.040778:  86%|########5 | 6/7 [01:22<00:13, 13.26s/it]"
     ]
    },
    {
     "name": "stdout",
     "output_type": "stream",
     "text": [
      "[20]\tcv_agg's binary_logloss: 0.0469219 + 0.00799273\n",
      "[40]\tcv_agg's binary_logloss: 0.0455685 + 0.0116191\n",
      "[60]\tcv_agg's binary_logloss: 0.050181 + 0.0141281\n",
      "[80]\tcv_agg's binary_logloss: 0.0576217 + 0.01685\n",
      "[100]\tcv_agg's binary_logloss: 0.0654103 + 0.020432\n",
      "[120]\tcv_agg's binary_logloss: 0.0704357 + 0.0227664\n"
     ]
    },
    {
     "name": "stderr",
     "output_type": "stream",
     "text": [
      "\n",
      "\n",
      "feature_fraction, val_score: 0.040778:  86%|########5 | 6/7 [01:39<00:13, 13.26s/it]\n",
      "\n",
      "feature_fraction, val_score: 0.040778: 100%|##########| 7/7 [01:39<00:00, 14.36s/it][I 2020-06-01 23:42:30,664] Finished trial#6 with value: 0.04436046747873364 with parameters: {'feature_fraction': 0.8999999999999999}. Best is trial#5 with value: 0.040778304386583766.\n",
      "feature_fraction, val_score: 0.040778: 100%|##########| 7/7 [01:39<00:00, 14.27s/it]\n",
      "\n",
      "\n",
      "  0%|          | 0/20 [00:00<?, ?it/s]\n",
      "\n",
      "num_leaves, val_score: 0.040778:   0%|          | 0/20 [00:00<?, ?it/s]"
     ]
    },
    {
     "name": "stdout",
     "output_type": "stream",
     "text": [
      "[20]\tcv_agg's binary_logloss: 0.0430295 + 0.00708485\n",
      "[40]\tcv_agg's binary_logloss: 0.0412691 + 0.0100102\n",
      "[60]\tcv_agg's binary_logloss: 0.0461463 + 0.0126379\n",
      "[80]\tcv_agg's binary_logloss: 0.0533694 + 0.0158214\n",
      "[100]\tcv_agg's binary_logloss: 0.0603875 + 0.0190165\n",
      "[120]\tcv_agg's binary_logloss: 0.0658349 + 0.0211395\n"
     ]
    },
    {
     "name": "stderr",
     "output_type": "stream",
     "text": [
      "\n",
      "\n",
      "num_leaves, val_score: 0.040305:   0%|          | 0/20 [00:20<?, ?it/s]\n",
      "\n",
      "num_leaves, val_score: 0.040305:   5%|5         | 1/20 [00:20<06:36, 20.88s/it][I 2020-06-01 23:42:51,619] Finished trial#7 with value: 0.04030474607787095 with parameters: {'num_leaves': 102}. Best is trial#7 with value: 0.04030474607787095.\n",
      "\n",
      "\n",
      "num_leaves, val_score: 0.040305:   5%|5         | 1/20 [00:20<06:36, 20.88s/it]"
     ]
    },
    {
     "name": "stdout",
     "output_type": "stream",
     "text": [
      "[20]\tcv_agg's binary_logloss: 0.0430529 + 0.00704936\n",
      "[40]\tcv_agg's binary_logloss: 0.0416157 + 0.0100816\n",
      "[60]\tcv_agg's binary_logloss: 0.0465407 + 0.0130517\n",
      "[80]\tcv_agg's binary_logloss: 0.0538557 + 0.0159323\n",
      "[100]\tcv_agg's binary_logloss: 0.0608244 + 0.0190862\n",
      "[120]\tcv_agg's binary_logloss: 0.0668073 + 0.0219604\n"
     ]
    },
    {
     "name": "stderr",
     "output_type": "stream",
     "text": [
      "\n",
      "\n",
      "num_leaves, val_score: 0.040305:   5%|5         | 1/20 [00:48<06:36, 20.88s/it]\n",
      "\n",
      "num_leaves, val_score: 0.040305:  10%|#         | 2/20 [00:48<06:51, 22.83s/it][I 2020-06-01 23:43:19,025] Finished trial#8 with value: 0.040558612926008396 with parameters: {'num_leaves': 82}. Best is trial#7 with value: 0.04030474607787095.\n",
      "\n",
      "\n",
      "num_leaves, val_score: 0.040305:  10%|#         | 2/20 [00:48<06:51, 22.83s/it]"
     ]
    },
    {
     "name": "stdout",
     "output_type": "stream",
     "text": [
      "[20]\tcv_agg's binary_logloss: 0.043064 + 0.00711701\n",
      "[40]\tcv_agg's binary_logloss: 0.0417101 + 0.00966249\n",
      "[60]\tcv_agg's binary_logloss: 0.0464233 + 0.0122567\n",
      "[80]\tcv_agg's binary_logloss: 0.0545876 + 0.0150524\n",
      "[100]\tcv_agg's binary_logloss: 0.0614912 + 0.0182829\n",
      "[120]\tcv_agg's binary_logloss: 0.0669211 + 0.0204443\n"
     ]
    },
    {
     "name": "stderr",
     "output_type": "stream",
     "text": [
      "\n",
      "\n",
      "num_leaves, val_score: 0.040305:  10%|#         | 2/20 [01:15<06:51, 22.83s/it]\n",
      "\n",
      "num_leaves, val_score: 0.040305:  15%|#5        | 3/20 [01:15<06:48, 24.02s/it][I 2020-06-01 23:43:45,813] Finished trial#9 with value: 0.04051631448964257 with parameters: {'num_leaves': 68}. Best is trial#7 with value: 0.04030474607787095.\n",
      "\n",
      "\n",
      "num_leaves, val_score: 0.040305:  15%|#5        | 3/20 [01:15<06:48, 24.02s/it]"
     ]
    },
    {
     "name": "stdout",
     "output_type": "stream",
     "text": [
      "[20]\tcv_agg's binary_logloss: 0.0430331 + 0.00708333\n",
      "[40]\tcv_agg's binary_logloss: 0.0412819 + 0.0100034\n",
      "[60]\tcv_agg's binary_logloss: 0.046165 + 0.012644\n",
      "[80]\tcv_agg's binary_logloss: 0.0533878 + 0.015827\n",
      "[100]\tcv_agg's binary_logloss: 0.0604048 + 0.0190238\n",
      "[120]\tcv_agg's binary_logloss: 0.0658167 + 0.0207266\n"
     ]
    },
    {
     "name": "stderr",
     "output_type": "stream",
     "text": [
      "\n",
      "\n",
      "num_leaves, val_score: 0.040305:  15%|#5        | 3/20 [01:41<06:48, 24.02s/it]\n",
      "\n",
      "num_leaves, val_score: 0.040305:  20%|##        | 4/20 [01:41<06:37, 24.82s/it][I 2020-06-01 23:44:12,492] Finished trial#10 with value: 0.040309098508881425 with parameters: {'num_leaves': 109}. Best is trial#7 with value: 0.04030474607787095.\n",
      "\n",
      "\n",
      "num_leaves, val_score: 0.040305:  20%|##        | 4/20 [01:41<06:37, 24.82s/it]"
     ]
    },
    {
     "name": "stdout",
     "output_type": "stream",
     "text": [
      "[20]\tcv_agg's binary_logloss: 0.0432879 + 0.00733863\n",
      "[40]\tcv_agg's binary_logloss: 0.0370497 + 0.00944866\n",
      "[60]\tcv_agg's binary_logloss: 0.0380039 + 0.0113825\n",
      "[80]\tcv_agg's binary_logloss: 0.0410692 + 0.0134873\n",
      "[100]\tcv_agg's binary_logloss: 0.0450736 + 0.0156776\n",
      "[120]\tcv_agg's binary_logloss: 0.048832 + 0.0176312\n",
      "[140]\tcv_agg's binary_logloss: 0.05364 + 0.0200056\n"
     ]
    },
    {
     "name": "stderr",
     "output_type": "stream",
     "text": [
      "\n",
      "\n",
      "num_leaves, val_score: 0.036578:  20%|##        | 4/20 [01:48<06:37, 24.82s/it]\n",
      "\n",
      "num_leaves, val_score: 0.036578:  25%|##5       | 5/20 [01:48<04:52, 19.53s/it][I 2020-06-01 23:44:19,675] Finished trial#11 with value: 0.03657815307180469 with parameters: {'num_leaves': 13}. Best is trial#11 with value: 0.03657815307180469.\n",
      "\n",
      "\n",
      "num_leaves, val_score: 0.036578:  25%|##5       | 5/20 [01:49<04:52, 19.53s/it]"
     ]
    },
    {
     "name": "stdout",
     "output_type": "stream",
     "text": [
      "[20]\tcv_agg's binary_logloss: 0.0431292 + 0.00704518\n",
      "[40]\tcv_agg's binary_logloss: 0.0415039 + 0.00989467\n",
      "[60]\tcv_agg's binary_logloss: 0.0462932 + 0.0125817\n",
      "[80]\tcv_agg's binary_logloss: 0.0537376 + 0.0156743\n",
      "[100]\tcv_agg's binary_logloss: 0.0610477 + 0.0188073\n",
      "[120]\tcv_agg's binary_logloss: 0.0659858 + 0.0212199\n"
     ]
    },
    {
     "name": "stderr",
     "output_type": "stream",
     "text": [
      "\n",
      "\n",
      "num_leaves, val_score: 0.036578:  25%|##5       | 5/20 [02:31<04:52, 19.53s/it]\n",
      "\n",
      "num_leaves, val_score: 0.036578:  30%|###       | 6/20 [02:31<06:09, 26.41s/it][I 2020-06-01 23:45:02,134] Finished trial#12 with value: 0.040450919549020914 with parameters: {'num_leaves': 207}. Best is trial#11 with value: 0.03657815307180469.\n",
      "\n",
      "\n",
      "num_leaves, val_score: 0.036578:  30%|###       | 6/20 [02:31<06:09, 26.41s/it]"
     ]
    },
    {
     "name": "stdout",
     "output_type": "stream",
     "text": [
      "[20]\tcv_agg's binary_logloss: 0.0430337 + 0.00705718\n",
      "[40]\tcv_agg's binary_logloss: 0.0415962 + 0.01009\n",
      "[60]\tcv_agg's binary_logloss: 0.0465269 + 0.0130664\n",
      "[80]\tcv_agg's binary_logloss: 0.0538454 + 0.0159476\n",
      "[100]\tcv_agg's binary_logloss: 0.0607334 + 0.0191316\n",
      "[120]\tcv_agg's binary_logloss: 0.0667008 + 0.0219206\n"
     ]
    },
    {
     "name": "stderr",
     "output_type": "stream",
     "text": [
      "\n",
      "\n",
      "num_leaves, val_score: 0.036578:  30%|###       | 6/20 [02:53<06:09, 26.41s/it]\n",
      "\n",
      "num_leaves, val_score: 0.036578:  35%|###5      | 7/20 [02:53<05:26, 25.14s/it][I 2020-06-01 23:45:24,300] Finished trial#13 with value: 0.04053968390670752 with parameters: {'num_leaves': 89}. Best is trial#11 with value: 0.03657815307180469.\n",
      "\n",
      "\n",
      "num_leaves, val_score: 0.036578:  35%|###5      | 7/20 [02:53<05:26, 25.14s/it]"
     ]
    },
    {
     "name": "stdout",
     "output_type": "stream",
     "text": [
      "[20]\tcv_agg's binary_logloss: 0.0470295 + 0.00762676\n",
      "[40]\tcv_agg's binary_logloss: 0.0380059 + 0.00976352\n",
      "[60]\tcv_agg's binary_logloss: 0.0367082 + 0.00992897\n",
      "[80]\tcv_agg's binary_logloss: 0.0370588 + 0.0108456\n",
      "[100]\tcv_agg's binary_logloss: 0.038014 + 0.0122675\n",
      "[120]\tcv_agg's binary_logloss: 0.0396351 + 0.0134026\n",
      "[140]\tcv_agg's binary_logloss: 0.0415387 + 0.0148754\n",
      "[160]\tcv_agg's binary_logloss: 0.0435476 + 0.0166666\n"
     ]
    },
    {
     "name": "stderr",
     "output_type": "stream",
     "text": [
      "\n",
      "\n",
      "num_leaves, val_score: 0.036550:  35%|###5      | 7/20 [02:57<05:26, 25.14s/it]\n",
      "\n",
      "num_leaves, val_score: 0.036550:  40%|####      | 8/20 [02:57<03:46, 18.90s/it][I 2020-06-01 23:45:28,661] Finished trial#14 with value: 0.036549675102611076 with parameters: {'num_leaves': 7}. Best is trial#14 with value: 0.036549675102611076.\n",
      "\n",
      "\n",
      "num_leaves, val_score: 0.036550:  40%|####      | 8/20 [02:57<03:46, 18.90s/it]"
     ]
    },
    {
     "name": "stdout",
     "output_type": "stream",
     "text": [
      "[20]\tcv_agg's binary_logloss: 0.0431251 + 0.00704374\n",
      "[40]\tcv_agg's binary_logloss: 0.041498 + 0.00989612\n",
      "[60]\tcv_agg's binary_logloss: 0.0462865 + 0.0125836\n",
      "[80]\tcv_agg's binary_logloss: 0.0537311 + 0.0156764\n",
      "[100]\tcv_agg's binary_logloss: 0.0609608 + 0.0188349\n",
      "[120]\tcv_agg's binary_logloss: 0.0658524 + 0.0203444\n"
     ]
    },
    {
     "name": "stderr",
     "output_type": "stream",
     "text": [
      "\n",
      "\n",
      "num_leaves, val_score: 0.036550:  40%|####      | 8/20 [03:27<03:46, 18.90s/it]\n",
      "\n",
      "num_leaves, val_score: 0.036550:  45%|####5     | 9/20 [03:27<04:02, 22.02s/it][I 2020-06-01 23:45:57,959] Finished trial#15 with value: 0.040445287489650344 with parameters: {'num_leaves': 142}. Best is trial#14 with value: 0.036549675102611076.\n",
      "\n",
      "\n",
      "num_leaves, val_score: 0.036550:  45%|####5     | 9/20 [03:27<04:02, 22.02s/it]"
     ]
    },
    {
     "name": "stdout",
     "output_type": "stream",
     "text": [
      "[20]\tcv_agg's binary_logloss: 0.0431285 + 0.00704606\n",
      "[40]\tcv_agg's binary_logloss: 0.0415025 + 0.0098962\n",
      "[60]\tcv_agg's binary_logloss: 0.0462922 + 0.0125828\n",
      "[80]\tcv_agg's binary_logloss: 0.053711 + 0.0156845\n",
      "[100]\tcv_agg's binary_logloss: 0.0610215 + 0.0188161\n",
      "[120]\tcv_agg's binary_logloss: 0.0659641 + 0.0212287\n"
     ]
    },
    {
     "name": "stderr",
     "output_type": "stream",
     "text": [
      "\n",
      "\n",
      "num_leaves, val_score: 0.036550:  45%|####5     | 9/20 [04:11<04:02, 22.02s/it]\n",
      "\n",
      "num_leaves, val_score: 0.036550:  50%|#####     | 10/20 [04:11<04:46, 28.65s/it][I 2020-06-01 23:46:42,074] Finished trial#16 with value: 0.040449438992327835 with parameters: {'num_leaves': 188}. Best is trial#14 with value: 0.036549675102611076.\n",
      "\n",
      "\n",
      "num_leaves, val_score: 0.036550:  50%|#####     | 10/20 [04:11<04:46, 28.65s/it]"
     ]
    },
    {
     "name": "stdout",
     "output_type": "stream",
     "text": [
      "[20]\tcv_agg's binary_logloss: 0.0706179 + 0.00530818\n",
      "[40]\tcv_agg's binary_logloss: 0.0546608 + 0.00644774\n",
      "[60]\tcv_agg's binary_logloss: 0.0472289 + 0.00692447\n",
      "[80]\tcv_agg's binary_logloss: 0.042528 + 0.00739882\n",
      "[100]\tcv_agg's binary_logloss: 0.039806 + 0.00760681\n",
      "[120]\tcv_agg's binary_logloss: 0.0379492 + 0.00767824\n",
      "[140]\tcv_agg's binary_logloss: 0.0366567 + 0.00769764\n",
      "[160]\tcv_agg's binary_logloss: 0.035518 + 0.0077231\n",
      "[180]\tcv_agg's binary_logloss: 0.0347232 + 0.00779896\n",
      "[200]\tcv_agg's binary_logloss: 0.0343005 + 0.00798036\n",
      "[220]\tcv_agg's binary_logloss: 0.0338442 + 0.00798504\n",
      "[240]\tcv_agg's binary_logloss: 0.0335302 + 0.00803289\n",
      "[260]\tcv_agg's binary_logloss: 0.0333848 + 0.00836422\n",
      "[280]\tcv_agg's binary_logloss: 0.0332246 + 0.0086243\n",
      "[300]\tcv_agg's binary_logloss: 0.0332936 + 0.00858624\n",
      "[320]\tcv_agg's binary_logloss: 0.0333397 + 0.00870796\n",
      "[340]\tcv_agg's binary_logloss: 0.0333747 + 0.00885151\n",
      "[360]\tcv_agg's binary_logloss: 0.0336056 + 0.00890585\n",
      "[380]\tcv_agg's binary_logloss: 0.0335364 + 0.00920449\n"
     ]
    },
    {
     "name": "stderr",
     "output_type": "stream",
     "text": [
      "\n",
      "\n",
      "num_leaves, val_score: 0.033183:  50%|#####     | 10/20 [04:14<04:46, 28.65s/it]\n",
      "\n",
      "num_leaves, val_score: 0.033183:  55%|#####5    | 11/20 [04:14<03:10, 21.15s/it][I 2020-06-01 23:46:45,759] Finished trial#17 with value: 0.03318345860127926 with parameters: {'num_leaves': 2}. Best is trial#17 with value: 0.03318345860127926.\n",
      "\n",
      "\n",
      "num_leaves, val_score: 0.033183:  55%|#####5    | 11/20 [04:15<03:10, 21.15s/it]"
     ]
    },
    {
     "name": "stdout",
     "output_type": "stream",
     "text": [
      "[20]\tcv_agg's binary_logloss: 0.0432879 + 0.00733863\n",
      "[40]\tcv_agg's binary_logloss: 0.0370497 + 0.00944866\n",
      "[60]\tcv_agg's binary_logloss: 0.0380039 + 0.0113825\n",
      "[80]\tcv_agg's binary_logloss: 0.0410692 + 0.0134873\n",
      "[100]\tcv_agg's binary_logloss: 0.0450736 + 0.0156776\n",
      "[120]\tcv_agg's binary_logloss: 0.048832 + 0.0176312\n",
      "[140]\tcv_agg's binary_logloss: 0.05364 + 0.0200056\n"
     ]
    },
    {
     "name": "stderr",
     "output_type": "stream",
     "text": [
      "\n",
      "\n",
      "num_leaves, val_score: 0.033183:  55%|#####5    | 11/20 [04:25<03:10, 21.15s/it]\n",
      "\n",
      "num_leaves, val_score: 0.033183:  60%|######    | 12/20 [04:25<02:24, 18.08s/it][I 2020-06-01 23:46:56,672] Finished trial#18 with value: 0.03657815307180469 with parameters: {'num_leaves': 13}. Best is trial#17 with value: 0.03318345860127926.\n",
      "\n",
      "\n",
      "num_leaves, val_score: 0.033183:  60%|######    | 12/20 [04:26<02:24, 18.08s/it]"
     ]
    },
    {
     "name": "stdout",
     "output_type": "stream",
     "text": [
      "[20]\tcv_agg's binary_logloss: 0.0479506 + 0.00558495\n",
      "[40]\tcv_agg's binary_logloss: 0.038414 + 0.00687299\n",
      "[60]\tcv_agg's binary_logloss: 0.0367073 + 0.00820474\n",
      "[80]\tcv_agg's binary_logloss: 0.0363188 + 0.00962953\n",
      "[100]\tcv_agg's binary_logloss: 0.0372059 + 0.0105464\n",
      "[120]\tcv_agg's binary_logloss: 0.0381446 + 0.0111789\n",
      "[140]\tcv_agg's binary_logloss: 0.0397254 + 0.0119933\n",
      "[160]\tcv_agg's binary_logloss: 0.0413449 + 0.0134408\n"
     ]
    },
    {
     "name": "stderr",
     "output_type": "stream",
     "text": [
      "\n",
      "\n",
      "num_leaves, val_score: 0.033183:  60%|######    | 12/20 [04:32<02:24, 18.08s/it]\n",
      "\n",
      "num_leaves, val_score: 0.033183:  65%|######5   | 13/20 [04:32<01:42, 14.66s/it][I 2020-06-01 23:47:03,330] Finished trial#19 with value: 0.03598629095283963 with parameters: {'num_leaves': 6}. Best is trial#17 with value: 0.03318345860127926.\n",
      "\n",
      "\n",
      "num_leaves, val_score: 0.033183:  65%|######5   | 13/20 [04:32<01:42, 14.66s/it]"
     ]
    },
    {
     "name": "stdout",
     "output_type": "stream",
     "text": [
      "[20]\tcv_agg's binary_logloss: 0.0425866 + 0.00723997\n",
      "[40]\tcv_agg's binary_logloss: 0.0407451 + 0.0104077\n",
      "[60]\tcv_agg's binary_logloss: 0.0472727 + 0.0136785\n",
      "[80]\tcv_agg's binary_logloss: 0.0548217 + 0.0169385\n",
      "[100]\tcv_agg's binary_logloss: 0.0619927 + 0.0201793\n",
      "[120]\tcv_agg's binary_logloss: 0.0672034 + 0.0222978\n"
     ]
    },
    {
     "name": "stderr",
     "output_type": "stream",
     "text": [
      "\n",
      "\n",
      "num_leaves, val_score: 0.033183:  65%|######5   | 13/20 [04:46<01:42, 14.66s/it]\n",
      "\n",
      "num_leaves, val_score: 0.033183:  70%|#######   | 14/20 [04:46<01:26, 14.38s/it][I 2020-06-01 23:47:17,049] Finished trial#20 with value: 0.0397885866430029 with parameters: {'num_leaves': 45}. Best is trial#17 with value: 0.03318345860127926.\n",
      "\n",
      "\n",
      "num_leaves, val_score: 0.033183:  70%|#######   | 14/20 [04:46<01:26, 14.38s/it]"
     ]
    },
    {
     "name": "stdout",
     "output_type": "stream",
     "text": [
      "[20]\tcv_agg's binary_logloss: 0.0426997 + 0.0072447\n",
      "[40]\tcv_agg's binary_logloss: 0.0413052 + 0.010155\n",
      "[60]\tcv_agg's binary_logloss: 0.0465118 + 0.0142124\n",
      "[80]\tcv_agg's binary_logloss: 0.0539407 + 0.0172988\n",
      "[100]\tcv_agg's binary_logloss: 0.0612855 + 0.020276\n",
      "[120]\tcv_agg's binary_logloss: 0.0664027 + 0.0226368\n"
     ]
    },
    {
     "name": "stderr",
     "output_type": "stream",
     "text": [
      "\n",
      "\n",
      "num_leaves, val_score: 0.033183:  70%|#######   | 14/20 [04:59<01:26, 14.38s/it]\n",
      "\n",
      "num_leaves, val_score: 0.033183:  75%|#######5  | 15/20 [04:59<01:10, 14.03s/it][I 2020-06-01 23:47:30,265] Finished trial#21 with value: 0.04010806001482078 with parameters: {'num_leaves': 44}. Best is trial#17 with value: 0.03318345860127926.\n",
      "\n",
      "\n",
      "num_leaves, val_score: 0.033183:  75%|#######5  | 15/20 [04:59<01:10, 14.03s/it]"
     ]
    },
    {
     "name": "stdout",
     "output_type": "stream",
     "text": [
      "[20]\tcv_agg's binary_logloss: 0.043126 + 0.00704637\n",
      "[40]\tcv_agg's binary_logloss: 0.0414982 + 0.00989727\n",
      "[60]\tcv_agg's binary_logloss: 0.0462866 + 0.012584\n",
      "[80]\tcv_agg's binary_logloss: 0.053705 + 0.015686\n",
      "[100]\tcv_agg's binary_logloss: 0.060981 + 0.0188297\n",
      "[120]\tcv_agg's binary_logloss: 0.0656497 + 0.0204229\n"
     ]
    },
    {
     "name": "stderr",
     "output_type": "stream",
     "text": [
      "\n",
      "\n",
      "num_leaves, val_score: 0.033183:  75%|#######5  | 15/20 [05:27<01:10, 14.03s/it]\n",
      "\n",
      "num_leaves, val_score: 0.033183:  80%|########  | 16/20 [05:27<01:13, 18.29s/it][I 2020-06-01 23:47:58,485] Finished trial#22 with value: 0.04044585667156934 with parameters: {'num_leaves': 149}. Best is trial#17 with value: 0.03318345860127926.\n",
      "\n",
      "\n",
      "num_leaves, val_score: 0.033183:  80%|########  | 16/20 [05:27<01:13, 18.29s/it]"
     ]
    },
    {
     "name": "stdout",
     "output_type": "stream",
     "text": [
      "[20]\tcv_agg's binary_logloss: 0.0431297 + 0.00704502\n",
      "[40]\tcv_agg's binary_logloss: 0.0415042 + 0.00989457\n",
      "[60]\tcv_agg's binary_logloss: 0.0462932 + 0.0125818\n",
      "[80]\tcv_agg's binary_logloss: 0.0537119 + 0.0156835\n",
      "[100]\tcv_agg's binary_logloss: 0.0609879 + 0.0188276\n",
      "[120]\tcv_agg's binary_logloss: 0.0654984 + 0.0213965\n"
     ]
    },
    {
     "name": "stderr",
     "output_type": "stream",
     "text": [
      "\n",
      "\n",
      "num_leaves, val_score: 0.033183:  80%|########  | 16/20 [06:02<01:13, 18.29s/it]\n",
      "\n",
      "num_leaves, val_score: 0.033183:  85%|########5 | 17/20 [06:02<01:09, 23.16s/it][I 2020-06-01 23:48:33,012] Finished trial#23 with value: 0.04045116902744759 with parameters: {'num_leaves': 244}. Best is trial#17 with value: 0.03318345860127926.\n",
      "\n",
      "\n",
      "num_leaves, val_score: 0.033183:  85%|########5 | 17/20 [06:02<01:09, 23.16s/it]"
     ]
    },
    {
     "name": "stdout",
     "output_type": "stream",
     "text": [
      "[20]\tcv_agg's binary_logloss: 0.042612 + 0.00732125\n",
      "[40]\tcv_agg's binary_logloss: 0.0411327 + 0.010128\n",
      "[60]\tcv_agg's binary_logloss: 0.0472195 + 0.0133406\n",
      "[80]\tcv_agg's binary_logloss: 0.0538785 + 0.0159871\n",
      "[100]\tcv_agg's binary_logloss: 0.0609489 + 0.019413\n",
      "[120]\tcv_agg's binary_logloss: 0.0661029 + 0.0216345\n"
     ]
    },
    {
     "name": "stderr",
     "output_type": "stream",
     "text": [
      "\n",
      "\n",
      "num_leaves, val_score: 0.033183:  85%|########5 | 17/20 [06:12<01:09, 23.16s/it]\n",
      "\n",
      "num_leaves, val_score: 0.033183:  90%|######### | 18/20 [06:12<00:38, 19.30s/it][I 2020-06-01 23:48:43,312] Finished trial#24 with value: 0.03975266711040706 with parameters: {'num_leaves': 41}. Best is trial#17 with value: 0.03318345860127926.\n",
      "\n",
      "\n",
      "num_leaves, val_score: 0.033183:  90%|######### | 18/20 [06:12<00:38, 19.30s/it]"
     ]
    },
    {
     "name": "stdout",
     "output_type": "stream",
     "text": [
      "[20]\tcv_agg's binary_logloss: 0.0470295 + 0.00762676\n",
      "[40]\tcv_agg's binary_logloss: 0.0380059 + 0.00976352\n",
      "[60]\tcv_agg's binary_logloss: 0.0367082 + 0.00992897\n",
      "[80]\tcv_agg's binary_logloss: 0.0370588 + 0.0108456\n",
      "[100]\tcv_agg's binary_logloss: 0.038014 + 0.0122675\n",
      "[120]\tcv_agg's binary_logloss: 0.0396351 + 0.0134026\n",
      "[140]\tcv_agg's binary_logloss: 0.0415387 + 0.0148754\n",
      "[160]\tcv_agg's binary_logloss: 0.0435476 + 0.0166666\n"
     ]
    },
    {
     "name": "stderr",
     "output_type": "stream",
     "text": [
      "\n",
      "\n",
      "num_leaves, val_score: 0.033183:  90%|######### | 18/20 [06:16<00:38, 19.30s/it]\n",
      "\n",
      "num_leaves, val_score: 0.033183:  95%|#########5| 19/20 [06:16<00:14, 14.83s/it][I 2020-06-01 23:48:47,708] Finished trial#25 with value: 0.036549675102611076 with parameters: {'num_leaves': 7}. Best is trial#17 with value: 0.03318345860127926.\n",
      "\n",
      "\n",
      "num_leaves, val_score: 0.033183:  95%|#########5| 19/20 [06:17<00:14, 14.83s/it]"
     ]
    },
    {
     "name": "stdout",
     "output_type": "stream",
     "text": [
      "[20]\tcv_agg's binary_logloss: 0.0430336 + 0.0073097\n",
      "[40]\tcv_agg's binary_logloss: 0.0416763 + 0.010516\n",
      "[60]\tcv_agg's binary_logloss: 0.0469835 + 0.0135013\n",
      "[80]\tcv_agg's binary_logloss: 0.0548341 + 0.0161652\n",
      "[100]\tcv_agg's binary_logloss: 0.0618159 + 0.0192319\n",
      "[120]\tcv_agg's binary_logloss: 0.0669865 + 0.0218394\n"
     ]
    },
    {
     "name": "stderr",
     "output_type": "stream",
     "text": [
      "\n",
      "\n",
      "num_leaves, val_score: 0.033183:  95%|#########5| 19/20 [06:33<00:14, 14.83s/it]\n",
      "\n",
      "num_leaves, val_score: 0.033183: 100%|##########| 20/20 [06:33<00:00, 15.42s/it][I 2020-06-01 23:49:04,526] Finished trial#26 with value: 0.04060156644478548 with parameters: {'num_leaves': 57}. Best is trial#17 with value: 0.03318345860127926.\n",
      "num_leaves, val_score: 0.033183: 100%|##########| 20/20 [06:33<00:00, 19.69s/it]\n",
      "\n",
      "\n",
      "  0%|          | 0/10 [00:00<?, ?it/s]\n",
      "\n",
      "bagging, val_score: 0.033183:   0%|          | 0/10 [00:00<?, ?it/s]"
     ]
    },
    {
     "name": "stdout",
     "output_type": "stream",
     "text": [
      "[20]\tcv_agg's binary_logloss: 0.0716674 + 0.00585918\n",
      "[40]\tcv_agg's binary_logloss: 0.0559547 + 0.00665555\n",
      "[60]\tcv_agg's binary_logloss: 0.0478165 + 0.00692966\n",
      "[80]\tcv_agg's binary_logloss: 0.0435534 + 0.00743424\n",
      "[100]\tcv_agg's binary_logloss: 0.0403081 + 0.00699992\n",
      "[120]\tcv_agg's binary_logloss: 0.0388058 + 0.00759583\n",
      "[140]\tcv_agg's binary_logloss: 0.0372687 + 0.00833735\n",
      "[160]\tcv_agg's binary_logloss: 0.0367025 + 0.00834662\n",
      "[180]\tcv_agg's binary_logloss: 0.0358267 + 0.0086195\n",
      "[200]\tcv_agg's binary_logloss: 0.0355196 + 0.0091186\n",
      "[220]\tcv_agg's binary_logloss: 0.0348677 + 0.00917855\n",
      "[240]\tcv_agg's binary_logloss: 0.0346559 + 0.00931514\n",
      "[260]\tcv_agg's binary_logloss: 0.0345478 + 0.00942655\n",
      "[280]\tcv_agg's binary_logloss: 0.0343462 + 0.00926902\n",
      "[300]\tcv_agg's binary_logloss: 0.034593 + 0.00991488\n",
      "[320]\tcv_agg's binary_logloss: 0.0343961 + 0.00972659\n",
      "[340]\tcv_agg's binary_logloss: 0.0346061 + 0.0104369\n",
      "[360]\tcv_agg's binary_logloss: 0.0345121 + 0.0105715\n",
      "[380]\tcv_agg's binary_logloss: 0.034992 + 0.0113577\n",
      "[400]\tcv_agg's binary_logloss: 0.0353717 + 0.0121062\n"
     ]
    },
    {
     "name": "stderr",
     "output_type": "stream",
     "text": [
      "\n",
      "\n",
      "bagging, val_score: 0.033183:   0%|          | 0/10 [00:03<?, ?it/s]\n",
      "\n",
      "bagging, val_score: 0.033183:  10%|#         | 1/10 [00:03<00:31,  3.48s/it][I 2020-06-01 23:49:08,109] Finished trial#27 with value: 0.03418170521720292 with parameters: {'bagging_fraction': 0.6367912302992439, 'bagging_freq': 4}. Best is trial#27 with value: 0.03418170521720292.\n",
      "\n",
      "\n",
      "bagging, val_score: 0.033183:  10%|#         | 1/10 [00:03<00:31,  3.48s/it]"
     ]
    },
    {
     "name": "stdout",
     "output_type": "stream",
     "text": [
      "[20]\tcv_agg's binary_logloss: 0.0716453 + 0.00525257\n",
      "[40]\tcv_agg's binary_logloss: 0.0551793 + 0.00593233\n",
      "[60]\tcv_agg's binary_logloss: 0.0473105 + 0.00644189\n",
      "[80]\tcv_agg's binary_logloss: 0.0431311 + 0.00712897\n",
      "[100]\tcv_agg's binary_logloss: 0.0403755 + 0.00690473\n",
      "[120]\tcv_agg's binary_logloss: 0.0379562 + 0.00734191\n",
      "[140]\tcv_agg's binary_logloss: 0.0366044 + 0.0076206\n",
      "[160]\tcv_agg's binary_logloss: 0.0359201 + 0.00808192\n",
      "[180]\tcv_agg's binary_logloss: 0.0350652 + 0.00817287\n",
      "[200]\tcv_agg's binary_logloss: 0.0350584 + 0.00873348\n",
      "[220]\tcv_agg's binary_logloss: 0.0342754 + 0.00879383\n",
      "[240]\tcv_agg's binary_logloss: 0.0338959 + 0.0089671\n",
      "[260]\tcv_agg's binary_logloss: 0.0336712 + 0.00913833\n",
      "[280]\tcv_agg's binary_logloss: 0.0336394 + 0.00921946\n",
      "[300]\tcv_agg's binary_logloss: 0.0335796 + 0.00959975\n",
      "[320]\tcv_agg's binary_logloss: 0.0335092 + 0.0101927\n",
      "[340]\tcv_agg's binary_logloss: 0.0337008 + 0.0104132\n",
      "[360]\tcv_agg's binary_logloss: 0.0336621 + 0.0106329\n",
      "[380]\tcv_agg's binary_logloss: 0.0336937 + 0.010888\n",
      "[400]\tcv_agg's binary_logloss: 0.0339207 + 0.0113201\n",
      "[420]\tcv_agg's binary_logloss: 0.0343613 + 0.0112831\n"
     ]
    },
    {
     "name": "stderr",
     "output_type": "stream",
     "text": [
      "\n",
      "\n",
      "bagging, val_score: 0.033183:  10%|#         | 1/10 [00:07<00:31,  3.48s/it]\n",
      "\n",
      "bagging, val_score: 0.033183:  20%|##        | 2/10 [00:07<00:28,  3.54s/it][I 2020-06-01 23:49:11,797] Finished trial#28 with value: 0.033387167676858655 with parameters: {'bagging_fraction': 0.8220351749766301, 'bagging_freq': 4}. Best is trial#28 with value: 0.033387167676858655.\n",
      "\n",
      "\n",
      "bagging, val_score: 0.033183:  20%|##        | 2/10 [00:07<00:28,  3.54s/it]"
     ]
    },
    {
     "name": "stdout",
     "output_type": "stream",
     "text": [
      "[20]\tcv_agg's binary_logloss: 0.0710599 + 0.00575829\n",
      "[40]\tcv_agg's binary_logloss: 0.0547893 + 0.00624505\n",
      "[60]\tcv_agg's binary_logloss: 0.0465929 + 0.00669894\n",
      "[80]\tcv_agg's binary_logloss: 0.0425128 + 0.00765975\n",
      "[100]\tcv_agg's binary_logloss: 0.039809 + 0.00765045\n",
      "[120]\tcv_agg's binary_logloss: 0.0377156 + 0.00781624\n",
      "[140]\tcv_agg's binary_logloss: 0.0364409 + 0.00832155\n",
      "[160]\tcv_agg's binary_logloss: 0.0356521 + 0.00832903\n",
      "[180]\tcv_agg's binary_logloss: 0.0349659 + 0.00841174\n",
      "[200]\tcv_agg's binary_logloss: 0.034698 + 0.00881643\n",
      "[220]\tcv_agg's binary_logloss: 0.0339747 + 0.00874361\n",
      "[240]\tcv_agg's binary_logloss: 0.033413 + 0.00897054\n",
      "[260]\tcv_agg's binary_logloss: 0.0330945 + 0.00925509\n",
      "[280]\tcv_agg's binary_logloss: 0.0331859 + 0.00970063\n",
      "[300]\tcv_agg's binary_logloss: 0.0331872 + 0.00996835\n",
      "[320]\tcv_agg's binary_logloss: 0.0331134 + 0.0100348\n",
      "[340]\tcv_agg's binary_logloss: 0.032989 + 0.010168\n",
      "[360]\tcv_agg's binary_logloss: 0.0332537 + 0.0103136\n",
      "[380]\tcv_agg's binary_logloss: 0.0332415 + 0.0105914\n",
      "[400]\tcv_agg's binary_logloss: 0.0333561 + 0.0105904\n",
      "[420]\tcv_agg's binary_logloss: 0.0335644 + 0.0109888\n"
     ]
    },
    {
     "name": "stderr",
     "output_type": "stream",
     "text": [
      "\n",
      "\n",
      "bagging, val_score: 0.032921:  20%|##        | 2/10 [00:10<00:28,  3.54s/it]\n",
      "\n",
      "bagging, val_score: 0.032921:  30%|###       | 3/10 [00:10<00:25,  3.61s/it][I 2020-06-01 23:49:15,570] Finished trial#29 with value: 0.032921493567673835 with parameters: {'bagging_fraction': 0.8780768335818601, 'bagging_freq': 4}. Best is trial#29 with value: 0.032921493567673835.\n",
      "\n",
      "\n",
      "bagging, val_score: 0.032921:  30%|###       | 3/10 [00:11<00:25,  3.61s/it]"
     ]
    },
    {
     "name": "stdout",
     "output_type": "stream",
     "text": [
      "[20]\tcv_agg's binary_logloss: 0.0715324 + 0.00595488\n",
      "[40]\tcv_agg's binary_logloss: 0.055334 + 0.00670034\n",
      "[60]\tcv_agg's binary_logloss: 0.0477031 + 0.00676481\n",
      "[80]\tcv_agg's binary_logloss: 0.0432482 + 0.00735196\n",
      "[100]\tcv_agg's binary_logloss: 0.0403164 + 0.0075849\n",
      "[120]\tcv_agg's binary_logloss: 0.0381784 + 0.00748943\n",
      "[140]\tcv_agg's binary_logloss: 0.0369485 + 0.00747975\n",
      "[160]\tcv_agg's binary_logloss: 0.0358809 + 0.0075166\n",
      "[180]\tcv_agg's binary_logloss: 0.035147 + 0.00762048\n",
      "[200]\tcv_agg's binary_logloss: 0.0347938 + 0.00788569\n",
      "[220]\tcv_agg's binary_logloss: 0.0344377 + 0.00798212\n",
      "[240]\tcv_agg's binary_logloss: 0.0342016 + 0.00814701\n",
      "[260]\tcv_agg's binary_logloss: 0.0341808 + 0.00817697\n",
      "[280]\tcv_agg's binary_logloss: 0.0337066 + 0.00834259\n",
      "[300]\tcv_agg's binary_logloss: 0.0337929 + 0.00876181\n",
      "[320]\tcv_agg's binary_logloss: 0.0339691 + 0.00922651\n",
      "[340]\tcv_agg's binary_logloss: 0.0338475 + 0.0090935\n",
      "[360]\tcv_agg's binary_logloss: 0.0339985 + 0.00932375\n",
      "[380]\tcv_agg's binary_logloss: 0.0341411 + 0.0093091\n"
     ]
    },
    {
     "name": "stderr",
     "output_type": "stream",
     "text": [
      "\n",
      "\n",
      "bagging, val_score: 0.032921:  30%|###       | 3/10 [00:14<00:25,  3.61s/it]\n",
      "\n",
      "bagging, val_score: 0.032921:  40%|####      | 4/10 [00:14<00:21,  3.56s/it][I 2020-06-01 23:49:19,001] Finished trial#30 with value: 0.03360772554152879 with parameters: {'bagging_fraction': 0.9841468933635223, 'bagging_freq': 7}. Best is trial#29 with value: 0.032921493567673835.\n",
      "\n",
      "\n",
      "bagging, val_score: 0.032921:  40%|####      | 4/10 [00:14<00:21,  3.56s/it]"
     ]
    },
    {
     "name": "stdout",
     "output_type": "stream",
     "text": [
      "[20]\tcv_agg's binary_logloss: 0.0720112 + 0.00554621\n",
      "[40]\tcv_agg's binary_logloss: 0.0559388 + 0.0061841\n",
      "[60]\tcv_agg's binary_logloss: 0.0484078 + 0.00688993\n",
      "[80]\tcv_agg's binary_logloss: 0.044098 + 0.00678159\n",
      "[100]\tcv_agg's binary_logloss: 0.0416415 + 0.00778096\n",
      "[120]\tcv_agg's binary_logloss: 0.0393177 + 0.00787746\n",
      "[140]\tcv_agg's binary_logloss: 0.038067 + 0.00762504\n",
      "[160]\tcv_agg's binary_logloss: 0.037361 + 0.00745571\n",
      "[180]\tcv_agg's binary_logloss: 0.0363597 + 0.00783782\n",
      "[200]\tcv_agg's binary_logloss: 0.0358906 + 0.00822594\n",
      "[220]\tcv_agg's binary_logloss: 0.0355872 + 0.00814954\n",
      "[240]\tcv_agg's binary_logloss: 0.0351698 + 0.00808162\n",
      "[260]\tcv_agg's binary_logloss: 0.0348821 + 0.00807892\n",
      "[280]\tcv_agg's binary_logloss: 0.0350906 + 0.00815735\n",
      "[300]\tcv_agg's binary_logloss: 0.0349608 + 0.00829421\n",
      "[320]\tcv_agg's binary_logloss: 0.0349705 + 0.00855484\n",
      "[340]\tcv_agg's binary_logloss: 0.0350655 + 0.00893619\n",
      "[360]\tcv_agg's binary_logloss: 0.0351479 + 0.00890673\n",
      "[380]\tcv_agg's binary_logloss: 0.0350131 + 0.00893578\n"
     ]
    },
    {
     "name": "stderr",
     "output_type": "stream",
     "text": [
      "\n",
      "\n",
      "bagging, val_score: 0.032921:  40%|####      | 4/10 [00:17<00:21,  3.56s/it]\n",
      "\n",
      "bagging, val_score: 0.032921:  50%|#####     | 5/10 [00:17<00:17,  3.41s/it][I 2020-06-01 23:49:22,066] Finished trial#31 with value: 0.034846292885148886 with parameters: {'bagging_fraction': 0.6983909752260127, 'bagging_freq': 7}. Best is trial#29 with value: 0.032921493567673835.\n",
      "\n",
      "\n",
      "bagging, val_score: 0.032921:  50%|#####     | 5/10 [00:17<00:17,  3.41s/it]"
     ]
    },
    {
     "name": "stdout",
     "output_type": "stream",
     "text": [
      "[20]\tcv_agg's binary_logloss: 0.0711857 + 0.00526383\n",
      "[40]\tcv_agg's binary_logloss: 0.0549068 + 0.00604958\n",
      "[60]\tcv_agg's binary_logloss: 0.0468907 + 0.00644462\n",
      "[80]\tcv_agg's binary_logloss: 0.0426513 + 0.00699274\n",
      "[100]\tcv_agg's binary_logloss: 0.0399262 + 0.00720077\n",
      "[120]\tcv_agg's binary_logloss: 0.0381888 + 0.00756479\n",
      "[140]\tcv_agg's binary_logloss: 0.0367163 + 0.00761718\n",
      "[160]\tcv_agg's binary_logloss: 0.0359353 + 0.00744944\n",
      "[180]\tcv_agg's binary_logloss: 0.0348539 + 0.00736441\n",
      "[200]\tcv_agg's binary_logloss: 0.0345638 + 0.00757854\n",
      "[220]\tcv_agg's binary_logloss: 0.0340224 + 0.00782052\n",
      "[240]\tcv_agg's binary_logloss: 0.0336808 + 0.00792684\n",
      "[260]\tcv_agg's binary_logloss: 0.0332751 + 0.00818792\n",
      "[280]\tcv_agg's binary_logloss: 0.0331375 + 0.0082619\n",
      "[300]\tcv_agg's binary_logloss: 0.0331224 + 0.00823754\n",
      "[320]\tcv_agg's binary_logloss: 0.0331765 + 0.00884257\n",
      "[340]\tcv_agg's binary_logloss: 0.0332148 + 0.00894377\n",
      "[360]\tcv_agg's binary_logloss: 0.0333344 + 0.00923262\n",
      "[380]\tcv_agg's binary_logloss: 0.0335332 + 0.00970376\n"
     ]
    },
    {
     "name": "stderr",
     "output_type": "stream",
     "text": [
      "\n",
      "\n",
      "bagging, val_score: 0.032921:  50%|#####     | 5/10 [00:21<00:17,  3.41s/it]\n",
      "\n",
      "bagging, val_score: 0.032921:  60%|######    | 6/10 [00:21<00:13,  3.48s/it][I 2020-06-01 23:49:25,707] Finished trial#32 with value: 0.03304168363169062 with parameters: {'bagging_fraction': 0.9056227049015239, 'bagging_freq': 4}. Best is trial#29 with value: 0.032921493567673835.\n",
      "\n",
      "\n",
      "bagging, val_score: 0.032921:  60%|######    | 6/10 [00:21<00:13,  3.48s/it]"
     ]
    },
    {
     "name": "stdout",
     "output_type": "stream",
     "text": [
      "[20]\tcv_agg's binary_logloss: 0.0713646 + 0.00567705\n",
      "[40]\tcv_agg's binary_logloss: 0.0551438 + 0.00595656\n",
      "[60]\tcv_agg's binary_logloss: 0.0471736 + 0.00659909\n",
      "[80]\tcv_agg's binary_logloss: 0.0430373 + 0.00703537\n",
      "[100]\tcv_agg's binary_logloss: 0.0403509 + 0.00725013\n",
      "[120]\tcv_agg's binary_logloss: 0.0382039 + 0.00735598\n",
      "[140]\tcv_agg's binary_logloss: 0.0367008 + 0.00754874\n",
      "[160]\tcv_agg's binary_logloss: 0.0357258 + 0.00789419\n",
      "[180]\tcv_agg's binary_logloss: 0.0351507 + 0.00808379\n",
      "[200]\tcv_agg's binary_logloss: 0.0348014 + 0.00823191\n",
      "[220]\tcv_agg's binary_logloss: 0.034219 + 0.00835502\n",
      "[240]\tcv_agg's binary_logloss: 0.0342064 + 0.00888795\n",
      "[260]\tcv_agg's binary_logloss: 0.0335978 + 0.0092871\n",
      "[280]\tcv_agg's binary_logloss: 0.0334183 + 0.00970552\n",
      "[300]\tcv_agg's binary_logloss: 0.0335876 + 0.00993328\n",
      "[320]\tcv_agg's binary_logloss: 0.0338692 + 0.0103107\n",
      "[340]\tcv_agg's binary_logloss: 0.0339658 + 0.0101559\n",
      "[360]\tcv_agg's binary_logloss: 0.0342711 + 0.0106729\n",
      "[380]\tcv_agg's binary_logloss: 0.0345191 + 0.0107516\n"
     ]
    },
    {
     "name": "stderr",
     "output_type": "stream",
     "text": [
      "\n",
      "\n",
      "bagging, val_score: 0.032921:  60%|######    | 6/10 [00:24<00:13,  3.48s/it]\n",
      "\n",
      "bagging, val_score: 0.032921:  70%|#######   | 7/10 [00:24<00:10,  3.44s/it][I 2020-06-01 23:49:29,060] Finished trial#33 with value: 0.033305970034325214 with parameters: {'bagging_fraction': 0.8692807910994966, 'bagging_freq': 5}. Best is trial#29 with value: 0.032921493567673835.\n",
      "\n",
      "\n",
      "bagging, val_score: 0.032921:  70%|#######   | 7/10 [00:24<00:10,  3.44s/it]"
     ]
    },
    {
     "name": "stdout",
     "output_type": "stream",
     "text": [
      "[20]\tcv_agg's binary_logloss: 0.070616 + 0.00576755\n",
      "[40]\tcv_agg's binary_logloss: 0.05452 + 0.00613478\n",
      "[60]\tcv_agg's binary_logloss: 0.0466743 + 0.00633877\n",
      "[80]\tcv_agg's binary_logloss: 0.0422608 + 0.00708253\n",
      "[100]\tcv_agg's binary_logloss: 0.0396473 + 0.00721243\n",
      "[120]\tcv_agg's binary_logloss: 0.0373844 + 0.00733812\n",
      "[140]\tcv_agg's binary_logloss: 0.0358515 + 0.00738318\n",
      "[160]\tcv_agg's binary_logloss: 0.0349814 + 0.00768228\n",
      "[180]\tcv_agg's binary_logloss: 0.0344029 + 0.00792936\n",
      "[200]\tcv_agg's binary_logloss: 0.034243 + 0.0082624\n",
      "[220]\tcv_agg's binary_logloss: 0.0339025 + 0.0087957\n",
      "[240]\tcv_agg's binary_logloss: 0.0335199 + 0.00877417\n",
      "[260]\tcv_agg's binary_logloss: 0.0331737 + 0.00920418\n",
      "[280]\tcv_agg's binary_logloss: 0.0331825 + 0.00981651\n",
      "[300]\tcv_agg's binary_logloss: 0.0333317 + 0.00986401\n",
      "[320]\tcv_agg's binary_logloss: 0.0333681 + 0.00981878\n",
      "[340]\tcv_agg's binary_logloss: 0.0331809 + 0.00971628\n"
     ]
    },
    {
     "name": "stderr",
     "output_type": "stream",
     "text": [
      "\n",
      "\n",
      "bagging, val_score: 0.032921:  70%|#######   | 7/10 [00:28<00:10,  3.44s/it]\n",
      "\n",
      "bagging, val_score: 0.032921:  80%|########  | 8/10 [00:28<00:07,  3.58s/it][I 2020-06-01 23:49:32,947] Finished trial#34 with value: 0.03312886488749786 with parameters: {'bagging_fraction': 0.8796398714852564, 'bagging_freq': 2}. Best is trial#29 with value: 0.032921493567673835.\n",
      "\n",
      "\n",
      "bagging, val_score: 0.032921:  80%|########  | 8/10 [00:28<00:07,  3.58s/it]"
     ]
    },
    {
     "name": "stdout",
     "output_type": "stream",
     "text": [
      "[20]\tcv_agg's binary_logloss: 0.072268 + 0.00621399\n",
      "[40]\tcv_agg's binary_logloss: 0.0556349 + 0.00651293\n",
      "[60]\tcv_agg's binary_logloss: 0.0482761 + 0.00661497\n",
      "[80]\tcv_agg's binary_logloss: 0.0436146 + 0.00646196\n",
      "[100]\tcv_agg's binary_logloss: 0.0419377 + 0.00668023\n",
      "[120]\tcv_agg's binary_logloss: 0.0403774 + 0.00700552\n",
      "[140]\tcv_agg's binary_logloss: 0.0390326 + 0.00764604\n",
      "[160]\tcv_agg's binary_logloss: 0.0384569 + 0.00840389\n",
      "[180]\tcv_agg's binary_logloss: 0.0375657 + 0.00843823\n",
      "[200]\tcv_agg's binary_logloss: 0.0367 + 0.00811452\n",
      "[220]\tcv_agg's binary_logloss: 0.0361632 + 0.00857074\n",
      "[240]\tcv_agg's binary_logloss: 0.0359898 + 0.00918344\n",
      "[260]\tcv_agg's binary_logloss: 0.0366754 + 0.00901987\n",
      "[280]\tcv_agg's binary_logloss: 0.0375688 + 0.0102285\n",
      "[300]\tcv_agg's binary_logloss: 0.0373211 + 0.00982762\n",
      "[320]\tcv_agg's binary_logloss: 0.036597 + 0.0100507\n"
     ]
    },
    {
     "name": "stderr",
     "output_type": "stream",
     "text": [
      "\n",
      "\n",
      "bagging, val_score: 0.032921:  80%|########  | 8/10 [00:30<00:07,  3.58s/it]\n",
      "\n",
      "bagging, val_score: 0.032921:  90%|######### | 9/10 [00:30<00:03,  3.20s/it][I 2020-06-01 23:49:35,282] Finished trial#35 with value: 0.035919812383492546 with parameters: {'bagging_fraction': 0.4547282323430901, 'bagging_freq': 7}. Best is trial#29 with value: 0.032921493567673835.\n",
      "\n",
      "\n",
      "bagging, val_score: 0.032921:  90%|######### | 9/10 [00:30<00:03,  3.20s/it]"
     ]
    },
    {
     "name": "stdout",
     "output_type": "stream",
     "text": [
      "[20]\tcv_agg's binary_logloss: 0.0718169 + 0.00594109\n",
      "[40]\tcv_agg's binary_logloss: 0.0558532 + 0.00617837\n",
      "[60]\tcv_agg's binary_logloss: 0.0481227 + 0.00682296\n",
      "[80]\tcv_agg's binary_logloss: 0.044004 + 0.00714728\n",
      "[100]\tcv_agg's binary_logloss: 0.0415376 + 0.00773209\n",
      "[120]\tcv_agg's binary_logloss: 0.0393767 + 0.00792743\n",
      "[140]\tcv_agg's binary_logloss: 0.0379477 + 0.0077638\n",
      "[160]\tcv_agg's binary_logloss: 0.0370258 + 0.00814851\n",
      "[180]\tcv_agg's binary_logloss: 0.0362794 + 0.00844992\n",
      "[200]\tcv_agg's binary_logloss: 0.0358112 + 0.00886138\n",
      "[220]\tcv_agg's binary_logloss: 0.035515 + 0.00913303\n",
      "[240]\tcv_agg's binary_logloss: 0.0348971 + 0.00942484\n",
      "[260]\tcv_agg's binary_logloss: 0.0343696 + 0.00942858\n",
      "[280]\tcv_agg's binary_logloss: 0.034408 + 0.0095235\n",
      "[300]\tcv_agg's binary_logloss: 0.0344903 + 0.0093852\n",
      "[320]\tcv_agg's binary_logloss: 0.0346369 + 0.0102919\n",
      "[340]\tcv_agg's binary_logloss: 0.0345371 + 0.0102926\n",
      "[360]\tcv_agg's binary_logloss: 0.0347112 + 0.0105518\n"
     ]
    },
    {
     "name": "stderr",
     "output_type": "stream",
     "text": [
      "\n",
      "\n",
      "bagging, val_score: 0.032921:  90%|######### | 9/10 [00:33<00:03,  3.20s/it]\n",
      "\n",
      "bagging, val_score: 0.032921: 100%|##########| 10/10 [00:33<00:00,  3.09s/it][I 2020-06-01 23:49:38,103] Finished trial#36 with value: 0.03420057688290483 with parameters: {'bagging_fraction': 0.8045638391978709, 'bagging_freq': 7}. Best is trial#29 with value: 0.032921493567673835.\n",
      "bagging, val_score: 0.032921: 100%|##########| 10/10 [00:33<00:00,  3.36s/it]\n",
      "\n",
      "\n",
      "  0%|          | 0/3 [00:00<?, ?it/s]\n",
      "\n",
      "feature_fraction_stage2, val_score: 0.032921:   0%|          | 0/3 [00:00<?, ?it/s]"
     ]
    },
    {
     "name": "stdout",
     "output_type": "stream",
     "text": [
      "[20]\tcv_agg's binary_logloss: 0.0709946 + 0.00580053\n",
      "[40]\tcv_agg's binary_logloss: 0.0547745 + 0.00625514\n",
      "[60]\tcv_agg's binary_logloss: 0.0466856 + 0.0066843\n",
      "[80]\tcv_agg's binary_logloss: 0.0424911 + 0.00740686\n",
      "[100]\tcv_agg's binary_logloss: 0.039958 + 0.00724691\n",
      "[120]\tcv_agg's binary_logloss: 0.0378634 + 0.00782338\n",
      "[140]\tcv_agg's binary_logloss: 0.0366184 + 0.00821356\n",
      "[160]\tcv_agg's binary_logloss: 0.0358025 + 0.00802238\n",
      "[180]\tcv_agg's binary_logloss: 0.0349748 + 0.0083298\n",
      "[200]\tcv_agg's binary_logloss: 0.0344856 + 0.00860882\n",
      "[220]\tcv_agg's binary_logloss: 0.0339248 + 0.0085765\n",
      "[240]\tcv_agg's binary_logloss: 0.0333281 + 0.00893269\n",
      "[260]\tcv_agg's binary_logloss: 0.0330215 + 0.0092941\n",
      "[280]\tcv_agg's binary_logloss: 0.0329452 + 0.00942915\n",
      "[300]\tcv_agg's binary_logloss: 0.0329425 + 0.00955324\n",
      "[320]\tcv_agg's binary_logloss: 0.03304 + 0.00980991\n",
      "[340]\tcv_agg's binary_logloss: 0.0329421 + 0.00979753\n",
      "[360]\tcv_agg's binary_logloss: 0.0330641 + 0.0101878\n",
      "[380]\tcv_agg's binary_logloss: 0.0331097 + 0.0104727\n"
     ]
    },
    {
     "name": "stderr",
     "output_type": "stream",
     "text": [
      "\n",
      "\n",
      "feature_fraction_stage2, val_score: 0.032900:   0%|          | 0/3 [00:03<?, ?it/s]\n",
      "\n",
      "feature_fraction_stage2, val_score: 0.032900:  33%|###3      | 1/3 [00:03<00:06,  3.24s/it][I 2020-06-01 23:49:41,434] Finished trial#37 with value: 0.032899527514940005 with parameters: {'feature_fraction': 0.41600000000000004}. Best is trial#37 with value: 0.032899527514940005.\n",
      "\n",
      "\n",
      "feature_fraction_stage2, val_score: 0.032900:  33%|###3      | 1/3 [00:03<00:06,  3.24s/it]"
     ]
    },
    {
     "name": "stdout",
     "output_type": "stream",
     "text": [
      "[20]\tcv_agg's binary_logloss: 0.0709537 + 0.00561786\n",
      "[40]\tcv_agg's binary_logloss: 0.0548095 + 0.00607811\n",
      "[60]\tcv_agg's binary_logloss: 0.0466635 + 0.00637759\n",
      "[80]\tcv_agg's binary_logloss: 0.0421428 + 0.00690373\n",
      "[100]\tcv_agg's binary_logloss: 0.0396601 + 0.0068276\n",
      "[120]\tcv_agg's binary_logloss: 0.0375691 + 0.00731124\n",
      "[140]\tcv_agg's binary_logloss: 0.0364258 + 0.00776621\n",
      "[160]\tcv_agg's binary_logloss: 0.0356979 + 0.00768987\n",
      "[180]\tcv_agg's binary_logloss: 0.0348446 + 0.00774145\n",
      "[200]\tcv_agg's binary_logloss: 0.0345979 + 0.00839831\n",
      "[220]\tcv_agg's binary_logloss: 0.0338586 + 0.00843754\n",
      "[240]\tcv_agg's binary_logloss: 0.0332715 + 0.0087455\n",
      "[260]\tcv_agg's binary_logloss: 0.033039 + 0.00908197\n",
      "[280]\tcv_agg's binary_logloss: 0.0330518 + 0.00941413\n",
      "[300]\tcv_agg's binary_logloss: 0.0327221 + 0.00954589\n",
      "[320]\tcv_agg's binary_logloss: 0.0329166 + 0.00975574\n",
      "[340]\tcv_agg's binary_logloss: 0.0328771 + 0.00988046\n",
      "[360]\tcv_agg's binary_logloss: 0.033075 + 0.0102539\n",
      "[380]\tcv_agg's binary_logloss: 0.0331846 + 0.0106472\n",
      "[400]\tcv_agg's binary_logloss: 0.0332304 + 0.0107302\n"
     ]
    },
    {
     "name": "stderr",
     "output_type": "stream",
     "text": [
      "\n",
      "\n",
      "feature_fraction_stage2, val_score: 0.032722:  33%|###3      | 1/3 [00:06<00:06,  3.24s/it]\n",
      "\n",
      "feature_fraction_stage2, val_score: 0.032722:  67%|######6   | 2/3 [00:06<00:03,  3.26s/it][I 2020-06-01 23:49:44,733] Finished trial#38 with value: 0.032722071833464386 with parameters: {'feature_fraction': 0.44800000000000006}. Best is trial#38 with value: 0.032722071833464386.\n",
      "\n",
      "\n",
      "feature_fraction_stage2, val_score: 0.032722:  67%|######6   | 2/3 [00:06<00:03,  3.26s/it]"
     ]
    },
    {
     "name": "stdout",
     "output_type": "stream",
     "text": [
      "[20]\tcv_agg's binary_logloss: 0.0710044 + 0.00569844\n",
      "[40]\tcv_agg's binary_logloss: 0.0547383 + 0.00651269\n",
      "[60]\tcv_agg's binary_logloss: 0.0466383 + 0.00673704\n",
      "[80]\tcv_agg's binary_logloss: 0.0425813 + 0.00761549\n",
      "[100]\tcv_agg's binary_logloss: 0.039757 + 0.00758509\n",
      "[120]\tcv_agg's binary_logloss: 0.0376992 + 0.0077943\n",
      "[140]\tcv_agg's binary_logloss: 0.0364743 + 0.0082752\n",
      "[160]\tcv_agg's binary_logloss: 0.0358294 + 0.0081721\n",
      "[180]\tcv_agg's binary_logloss: 0.0352463 + 0.00833148\n",
      "[200]\tcv_agg's binary_logloss: 0.0349924 + 0.00865079\n",
      "[220]\tcv_agg's binary_logloss: 0.0342543 + 0.0085946\n",
      "[240]\tcv_agg's binary_logloss: 0.0337627 + 0.00911974\n",
      "[260]\tcv_agg's binary_logloss: 0.033632 + 0.00947171\n",
      "[280]\tcv_agg's binary_logloss: 0.033559 + 0.00983293\n",
      "[300]\tcv_agg's binary_logloss: 0.0334854 + 0.0101613\n",
      "[320]\tcv_agg's binary_logloss: 0.0335268 + 0.0104756\n",
      "[340]\tcv_agg's binary_logloss: 0.0333109 + 0.0104471\n",
      "[360]\tcv_agg's binary_logloss: 0.0335295 + 0.0109629\n",
      "[380]\tcv_agg's binary_logloss: 0.033626 + 0.0112573\n",
      "[400]\tcv_agg's binary_logloss: 0.0335372 + 0.0112001\n",
      "[420]\tcv_agg's binary_logloss: 0.0337443 + 0.011701\n"
     ]
    },
    {
     "name": "stderr",
     "output_type": "stream",
     "text": [
      "\n",
      "\n",
      "feature_fraction_stage2, val_score: 0.032722:  67%|######6   | 2/3 [00:10<00:03,  3.26s/it]\n",
      "\n",
      "feature_fraction_stage2, val_score: 0.032722: 100%|##########| 3/3 [00:10<00:00,  3.34s/it][I 2020-06-01 23:49:48,276] Finished trial#39 with value: 0.03327642306279979 with parameters: {'feature_fraction': 0.48000000000000004}. Best is trial#38 with value: 0.032722071833464386.\n",
      "feature_fraction_stage2, val_score: 0.032722: 100%|##########| 3/3 [00:10<00:00,  3.39s/it]\n",
      "\n",
      "\n",
      "  0%|          | 0/20 [00:00<?, ?it/s]\n",
      "\n",
      "regularization_factors, val_score: 0.032722:   0%|          | 0/20 [00:00<?, ?it/s]"
     ]
    },
    {
     "name": "stdout",
     "output_type": "stream",
     "text": [
      "[20]\tcv_agg's binary_logloss: 0.070994 + 0.00561137\n",
      "[40]\tcv_agg's binary_logloss: 0.0549225 + 0.00602376\n",
      "[60]\tcv_agg's binary_logloss: 0.0466949 + 0.00638702\n",
      "[80]\tcv_agg's binary_logloss: 0.0423354 + 0.00693801\n",
      "[100]\tcv_agg's binary_logloss: 0.0394604 + 0.00695371\n",
      "[120]\tcv_agg's binary_logloss: 0.037449 + 0.00724674\n",
      "[140]\tcv_agg's binary_logloss: 0.036225 + 0.0076333\n",
      "[160]\tcv_agg's binary_logloss: 0.0356297 + 0.00748554\n",
      "[180]\tcv_agg's binary_logloss: 0.0348475 + 0.00742524\n",
      "[200]\tcv_agg's binary_logloss: 0.0344224 + 0.00811545\n",
      "[220]\tcv_agg's binary_logloss: 0.0336535 + 0.00828445\n",
      "[240]\tcv_agg's binary_logloss: 0.0331039 + 0.00862237\n",
      "[260]\tcv_agg's binary_logloss: 0.0329861 + 0.00884013\n",
      "[280]\tcv_agg's binary_logloss: 0.0330402 + 0.00900916\n",
      "[300]\tcv_agg's binary_logloss: 0.0330428 + 0.00910426\n",
      "[320]\tcv_agg's binary_logloss: 0.033004 + 0.00923478\n",
      "[340]\tcv_agg's binary_logloss: 0.0328272 + 0.00962447\n",
      "[360]\tcv_agg's binary_logloss: 0.0330716 + 0.0101441\n",
      "[380]\tcv_agg's binary_logloss: 0.0332074 + 0.0106305\n",
      "[400]\tcv_agg's binary_logloss: 0.0331872 + 0.0107693\n",
      "[420]\tcv_agg's binary_logloss: 0.0333828 + 0.0108409\n",
      "[440]\tcv_agg's binary_logloss: 0.033546 + 0.0110519\n"
     ]
    },
    {
     "name": "stderr",
     "output_type": "stream",
     "text": [
      "\n",
      "\n",
      "regularization_factors, val_score: 0.032722:   0%|          | 0/20 [00:03<?, ?it/s]\n",
      "\n",
      "regularization_factors, val_score: 0.032722:   5%|5         | 1/20 [00:03<01:06,  3.48s/it][I 2020-06-01 23:49:51,851] Finished trial#40 with value: 0.03282721029299934 with parameters: {'lambda_l1': 0.11817333193688236, 'lambda_l2': 2.358969531370364e-05}. Best is trial#40 with value: 0.03282721029299934.\n",
      "\n",
      "\n",
      "regularization_factors, val_score: 0.032722:   5%|5         | 1/20 [00:03<01:06,  3.48s/it]"
     ]
    },
    {
     "name": "stdout",
     "output_type": "stream",
     "text": [
      "[20]\tcv_agg's binary_logloss: 0.0709537 + 0.00561786\n",
      "[40]\tcv_agg's binary_logloss: 0.0548095 + 0.00607811\n",
      "[60]\tcv_agg's binary_logloss: 0.0466635 + 0.00637759\n",
      "[80]\tcv_agg's binary_logloss: 0.0421428 + 0.00690373\n",
      "[100]\tcv_agg's binary_logloss: 0.0396601 + 0.0068276\n",
      "[120]\tcv_agg's binary_logloss: 0.0375691 + 0.00731124\n",
      "[140]\tcv_agg's binary_logloss: 0.0364258 + 0.00776621\n",
      "[160]\tcv_agg's binary_logloss: 0.0356979 + 0.00768987\n",
      "[180]\tcv_agg's binary_logloss: 0.0348446 + 0.00774144\n",
      "[200]\tcv_agg's binary_logloss: 0.0345979 + 0.00839831\n",
      "[220]\tcv_agg's binary_logloss: 0.0338586 + 0.00843754\n",
      "[240]\tcv_agg's binary_logloss: 0.0332715 + 0.0087455\n",
      "[260]\tcv_agg's binary_logloss: 0.033039 + 0.00908197\n",
      "[280]\tcv_agg's binary_logloss: 0.0330518 + 0.00941413\n",
      "[300]\tcv_agg's binary_logloss: 0.0327221 + 0.00954589\n",
      "[320]\tcv_agg's binary_logloss: 0.0329166 + 0.00975573\n",
      "[340]\tcv_agg's binary_logloss: 0.0328771 + 0.00988046\n",
      "[360]\tcv_agg's binary_logloss: 0.033075 + 0.0102539\n",
      "[380]\tcv_agg's binary_logloss: 0.0331846 + 0.0106472\n",
      "[400]\tcv_agg's binary_logloss: 0.0332304 + 0.0107302\n"
     ]
    },
    {
     "name": "stderr",
     "output_type": "stream",
     "text": [
      "\n",
      "\n",
      "regularization_factors, val_score: 0.032722:   5%|5         | 1/20 [00:07<01:06,  3.48s/it]\n",
      "\n",
      "regularization_factors, val_score: 0.032722:  10%|#         | 2/20 [00:07<01:03,  3.50s/it][I 2020-06-01 23:49:55,394] Finished trial#41 with value: 0.03272207089847213 with parameters: {'lambda_l1': 1.5283491578504362e-07, 'lambda_l2': 2.2948600343664557e-07}. Best is trial#41 with value: 0.03272207089847213.\n",
      "\n",
      "\n",
      "regularization_factors, val_score: 0.032722:  10%|#         | 2/20 [00:07<01:03,  3.50s/it]"
     ]
    },
    {
     "name": "stdout",
     "output_type": "stream",
     "text": [
      "[20]\tcv_agg's binary_logloss: 0.0711075 + 0.00556944\n",
      "[40]\tcv_agg's binary_logloss: 0.0551019 + 0.00632003\n",
      "[60]\tcv_agg's binary_logloss: 0.0470022 + 0.00671664\n",
      "[80]\tcv_agg's binary_logloss: 0.0427 + 0.00755911\n",
      "[100]\tcv_agg's binary_logloss: 0.0397919 + 0.00754245\n",
      "[120]\tcv_agg's binary_logloss: 0.0377656 + 0.00763086\n",
      "[140]\tcv_agg's binary_logloss: 0.0366987 + 0.00789269\n",
      "[160]\tcv_agg's binary_logloss: 0.0359213 + 0.00760073\n",
      "[180]\tcv_agg's binary_logloss: 0.0350487 + 0.00772222\n",
      "[200]\tcv_agg's binary_logloss: 0.0348209 + 0.00835185\n",
      "[220]\tcv_agg's binary_logloss: 0.0341842 + 0.0085049\n",
      "[240]\tcv_agg's binary_logloss: 0.0335805 + 0.00875862\n",
      "[260]\tcv_agg's binary_logloss: 0.0333116 + 0.00897977\n",
      "[280]\tcv_agg's binary_logloss: 0.033273 + 0.00931557\n",
      "[300]\tcv_agg's binary_logloss: 0.0330232 + 0.00939684\n",
      "[320]\tcv_agg's binary_logloss: 0.0331077 + 0.00962035\n",
      "[340]\tcv_agg's binary_logloss: 0.0330039 + 0.00987044\n",
      "[360]\tcv_agg's binary_logloss: 0.0331741 + 0.0103122\n",
      "[380]\tcv_agg's binary_logloss: 0.0332752 + 0.0106441\n",
      "[400]\tcv_agg's binary_logloss: 0.0332027 + 0.0104344\n",
      "[420]\tcv_agg's binary_logloss: 0.0334023 + 0.0109008\n"
     ]
    },
    {
     "name": "stderr",
     "output_type": "stream",
     "text": [
      "\n",
      "\n",
      "regularization_factors, val_score: 0.032722:  10%|#         | 2/20 [00:10<01:03,  3.50s/it]\n",
      "\n",
      "regularization_factors, val_score: 0.032722:  15%|#5        | 3/20 [00:10<01:00,  3.54s/it][I 2020-06-01 23:49:59,023] Finished trial#42 with value: 0.032943916400988885 with parameters: {'lambda_l1': 0.36228590200245936, 'lambda_l2': 1.9538185746913628e-06}. Best is trial#41 with value: 0.03272207089847213.\n",
      "\n",
      "\n",
      "regularization_factors, val_score: 0.032722:  15%|#5        | 3/20 [00:10<01:00,  3.54s/it]"
     ]
    },
    {
     "name": "stdout",
     "output_type": "stream",
     "text": [
      "[20]\tcv_agg's binary_logloss: 0.0709541 + 0.00561591\n",
      "[40]\tcv_agg's binary_logloss: 0.0548105 + 0.00607683\n",
      "[60]\tcv_agg's binary_logloss: 0.0466653 + 0.00637634\n",
      "[80]\tcv_agg's binary_logloss: 0.0421822 + 0.0068832\n",
      "[100]\tcv_agg's binary_logloss: 0.0395072 + 0.00689916\n",
      "[120]\tcv_agg's binary_logloss: 0.0374436 + 0.00727379\n",
      "[140]\tcv_agg's binary_logloss: 0.0363469 + 0.00776203\n",
      "[160]\tcv_agg's binary_logloss: 0.035801 + 0.00760775\n",
      "[180]\tcv_agg's binary_logloss: 0.0348191 + 0.0076818\n",
      "[200]\tcv_agg's binary_logloss: 0.0344838 + 0.00826171\n",
      "[220]\tcv_agg's binary_logloss: 0.0337599 + 0.00836168\n",
      "[240]\tcv_agg's binary_logloss: 0.0332034 + 0.00881903\n",
      "[260]\tcv_agg's binary_logloss: 0.0329559 + 0.00893268\n",
      "[280]\tcv_agg's binary_logloss: 0.0330606 + 0.0093483\n",
      "[300]\tcv_agg's binary_logloss: 0.0330277 + 0.00963217\n",
      "[320]\tcv_agg's binary_logloss: 0.0331542 + 0.00986145\n",
      "[340]\tcv_agg's binary_logloss: 0.0331775 + 0.0100108\n",
      "[360]\tcv_agg's binary_logloss: 0.0333109 + 0.0104964\n"
     ]
    },
    {
     "name": "stderr",
     "output_type": "stream",
     "text": [
      "\n",
      "\n",
      "regularization_factors, val_score: 0.032722:  15%|#5        | 3/20 [00:13<01:00,  3.54s/it]\n",
      "\n",
      "regularization_factors, val_score: 0.032722:  20%|##        | 4/20 [00:13<00:53,  3.34s/it][I 2020-06-01 23:50:01,900] Finished trial#43 with value: 0.03288427568485892 with parameters: {'lambda_l1': 2.686911541707515e-07, 'lambda_l2': 0.00589022351036898}. Best is trial#41 with value: 0.03272207089847213.\n",
      "\n",
      "\n",
      "regularization_factors, val_score: 0.032722:  20%|##        | 4/20 [00:13<00:53,  3.34s/it]"
     ]
    },
    {
     "name": "stdout",
     "output_type": "stream",
     "text": [
      "[20]\tcv_agg's binary_logloss: 0.0709537 + 0.00561785\n",
      "[40]\tcv_agg's binary_logloss: 0.0548095 + 0.0060781\n",
      "[60]\tcv_agg's binary_logloss: 0.0466635 + 0.00637759\n",
      "[80]\tcv_agg's binary_logloss: 0.0421428 + 0.00690372\n",
      "[100]\tcv_agg's binary_logloss: 0.0396601 + 0.00682762\n",
      "[120]\tcv_agg's binary_logloss: 0.037569 + 0.00731124\n",
      "[140]\tcv_agg's binary_logloss: 0.0364257 + 0.00776611\n",
      "[160]\tcv_agg's binary_logloss: 0.0356978 + 0.00768977\n",
      "[180]\tcv_agg's binary_logloss: 0.0348445 + 0.00774134\n",
      "[200]\tcv_agg's binary_logloss: 0.0345978 + 0.00839819\n",
      "[220]\tcv_agg's binary_logloss: 0.0338585 + 0.00843743\n",
      "[240]\tcv_agg's binary_logloss: 0.0332714 + 0.00874538\n",
      "[260]\tcv_agg's binary_logloss: 0.0330388 + 0.00908184\n",
      "[280]\tcv_agg's binary_logloss: 0.0330517 + 0.00941401\n",
      "[300]\tcv_agg's binary_logloss: 0.032722 + 0.00954577\n",
      "[320]\tcv_agg's binary_logloss: 0.0329165 + 0.0097556\n",
      "[340]\tcv_agg's binary_logloss: 0.032877 + 0.00988033\n",
      "[360]\tcv_agg's binary_logloss: 0.0330748 + 0.0102537\n",
      "[380]\tcv_agg's binary_logloss: 0.0331844 + 0.0106471\n",
      "[400]\tcv_agg's binary_logloss: 0.0332303 + 0.01073\n"
     ]
    },
    {
     "name": "stderr",
     "output_type": "stream",
     "text": [
      "\n",
      "\n",
      "regularization_factors, val_score: 0.032722:  20%|##        | 4/20 [00:16<00:53,  3.34s/it]\n",
      "\n",
      "regularization_factors, val_score: 0.032722:  25%|##5       | 5/20 [00:16<00:49,  3.32s/it][I 2020-06-01 23:50:05,171] Finished trial#44 with value: 0.03272196092764813 with parameters: {'lambda_l1': 5.104470584359978e-06, 'lambda_l2': 2.8080859580151865e-05}. Best is trial#44 with value: 0.03272196092764813.\n",
      "\n",
      "\n",
      "regularization_factors, val_score: 0.032722:  25%|##5       | 5/20 [00:16<00:49,  3.32s/it]"
     ]
    },
    {
     "name": "stdout",
     "output_type": "stream",
     "text": [
      "[20]\tcv_agg's binary_logloss: 0.0709537 + 0.00561786\n",
      "[40]\tcv_agg's binary_logloss: 0.0548095 + 0.00607811\n",
      "[60]\tcv_agg's binary_logloss: 0.0466635 + 0.00637759\n",
      "[80]\tcv_agg's binary_logloss: 0.0421428 + 0.00690373\n",
      "[100]\tcv_agg's binary_logloss: 0.0396601 + 0.0068276\n",
      "[120]\tcv_agg's binary_logloss: 0.0375691 + 0.00731124\n",
      "[140]\tcv_agg's binary_logloss: 0.0364258 + 0.00776621\n",
      "[160]\tcv_agg's binary_logloss: 0.0356979 + 0.00768987\n",
      "[180]\tcv_agg's binary_logloss: 0.0348446 + 0.00774144\n",
      "[200]\tcv_agg's binary_logloss: 0.0345979 + 0.00839831\n",
      "[220]\tcv_agg's binary_logloss: 0.0338586 + 0.00843754\n",
      "[240]\tcv_agg's binary_logloss: 0.0332715 + 0.0087455\n",
      "[260]\tcv_agg's binary_logloss: 0.033039 + 0.00908197\n",
      "[280]\tcv_agg's binary_logloss: 0.0330518 + 0.00941413\n",
      "[300]\tcv_agg's binary_logloss: 0.0327221 + 0.00954589\n",
      "[320]\tcv_agg's binary_logloss: 0.0329166 + 0.00975573\n",
      "[340]\tcv_agg's binary_logloss: 0.0328771 + 0.00988046\n",
      "[360]\tcv_agg's binary_logloss: 0.033075 + 0.0102539\n",
      "[380]\tcv_agg's binary_logloss: 0.0331846 + 0.0106472\n",
      "[400]\tcv_agg's binary_logloss: 0.0332304 + 0.0107302\n"
     ]
    },
    {
     "name": "stderr",
     "output_type": "stream",
     "text": [
      "\n",
      "\n",
      "regularization_factors, val_score: 0.032722:  25%|##5       | 5/20 [00:19<00:49,  3.32s/it]\n",
      "\n",
      "regularization_factors, val_score: 0.032722:  30%|###       | 6/20 [00:19<00:45,  3.27s/it][I 2020-06-01 23:50:08,321] Finished trial#45 with value: 0.03272207103303286 with parameters: {'lambda_l1': 1.4467022756157099e-06, 'lambda_l2': 9.653273081802421e-08}. Best is trial#44 with value: 0.03272196092764813.\n",
      "\n",
      "\n",
      "regularization_factors, val_score: 0.032722:  30%|###       | 6/20 [00:20<00:45,  3.27s/it]"
     ]
    },
    {
     "name": "stdout",
     "output_type": "stream",
     "text": [
      "[20]\tcv_agg's binary_logloss: 0.0718261 + 0.00511988\n",
      "[40]\tcv_agg's binary_logloss: 0.0556058 + 0.00616649\n",
      "[60]\tcv_agg's binary_logloss: 0.0478111 + 0.00676094\n",
      "[80]\tcv_agg's binary_logloss: 0.043641 + 0.00772719\n",
      "[100]\tcv_agg's binary_logloss: 0.0407625 + 0.00779111\n",
      "[120]\tcv_agg's binary_logloss: 0.0387348 + 0.00820332\n",
      "[140]\tcv_agg's binary_logloss: 0.037628 + 0.00870265\n",
      "[160]\tcv_agg's binary_logloss: 0.0368076 + 0.0086703\n",
      "[180]\tcv_agg's binary_logloss: 0.03584 + 0.008812\n",
      "[200]\tcv_agg's binary_logloss: 0.0355557 + 0.00930984\n",
      "[220]\tcv_agg's binary_logloss: 0.0349877 + 0.00928451\n",
      "[240]\tcv_agg's binary_logloss: 0.0344175 + 0.00942452\n",
      "[260]\tcv_agg's binary_logloss: 0.0341537 + 0.00976881\n",
      "[280]\tcv_agg's binary_logloss: 0.034166 + 0.0099387\n",
      "[300]\tcv_agg's binary_logloss: 0.0339962 + 0.00995356\n",
      "[320]\tcv_agg's binary_logloss: 0.0339882 + 0.0102205\n",
      "[340]\tcv_agg's binary_logloss: 0.0337508 + 0.0100931\n",
      "[360]\tcv_agg's binary_logloss: 0.033803 + 0.0103224\n",
      "[380]\tcv_agg's binary_logloss: 0.033714 + 0.0104276\n",
      "[400]\tcv_agg's binary_logloss: 0.0335719 + 0.0104064\n",
      "[420]\tcv_agg's binary_logloss: 0.0336004 + 0.0109385\n",
      "[440]\tcv_agg's binary_logloss: 0.0336477 + 0.0112059\n",
      "[460]\tcv_agg's binary_logloss: 0.0341004 + 0.0114871\n",
      "[480]\tcv_agg's binary_logloss: 0.0340229 + 0.0112672\n",
      "[500]\tcv_agg's binary_logloss: 0.0341099 + 0.0115629\n"
     ]
    },
    {
     "name": "stderr",
     "output_type": "stream",
     "text": [
      "\n",
      "\n",
      "regularization_factors, val_score: 0.032722:  30%|###       | 6/20 [00:23<00:45,  3.27s/it]\n",
      "\n",
      "regularization_factors, val_score: 0.032722:  35%|###5      | 7/20 [00:23<00:44,  3.45s/it][I 2020-06-01 23:50:12,187] Finished trial#46 with value: 0.033566657936873925 with parameters: {'lambda_l1': 0.06764295467355984, 'lambda_l2': 2.6089799968865877}. Best is trial#44 with value: 0.03272196092764813.\n",
      "\n",
      "\n",
      "regularization_factors, val_score: 0.032722:  35%|###5      | 7/20 [00:23<00:44,  3.45s/it]"
     ]
    },
    {
     "name": "stdout",
     "output_type": "stream",
     "text": [
      "[20]\tcv_agg's binary_logloss: 0.0709537 + 0.00561784\n",
      "[40]\tcv_agg's binary_logloss: 0.0548095 + 0.0060781\n",
      "[60]\tcv_agg's binary_logloss: 0.0466635 + 0.00637758\n",
      "[80]\tcv_agg's binary_logloss: 0.0421428 + 0.00690372\n",
      "[100]\tcv_agg's binary_logloss: 0.0396601 + 0.00682763\n",
      "[120]\tcv_agg's binary_logloss: 0.037569 + 0.00731125\n",
      "[140]\tcv_agg's binary_logloss: 0.0364256 + 0.00776607\n",
      "[160]\tcv_agg's binary_logloss: 0.0356977 + 0.00768972\n",
      "[180]\tcv_agg's binary_logloss: 0.0348445 + 0.00774129\n",
      "[200]\tcv_agg's binary_logloss: 0.0345978 + 0.00839814\n",
      "[220]\tcv_agg's binary_logloss: 0.0338585 + 0.00843737\n",
      "[240]\tcv_agg's binary_logloss: 0.0332713 + 0.00874532\n",
      "[260]\tcv_agg's binary_logloss: 0.0330388 + 0.00908178\n",
      "[280]\tcv_agg's binary_logloss: 0.0330517 + 0.00941396\n",
      "[300]\tcv_agg's binary_logloss: 0.0327219 + 0.00954572\n",
      "[320]\tcv_agg's binary_logloss: 0.0329165 + 0.00975554\n",
      "[340]\tcv_agg's binary_logloss: 0.0328769 + 0.00988026\n",
      "[360]\tcv_agg's binary_logloss: 0.0330748 + 0.0102537\n",
      "[380]\tcv_agg's binary_logloss: 0.0331844 + 0.010647\n",
      "[400]\tcv_agg's binary_logloss: 0.0332239 + 0.0107325\n"
     ]
    },
    {
     "name": "stderr",
     "output_type": "stream",
     "text": [
      "\n",
      "\n",
      "regularization_factors, val_score: 0.032722:  35%|###5      | 7/20 [00:26<00:44,  3.45s/it]\n",
      "\n",
      "regularization_factors, val_score: 0.032722:  40%|####      | 8/20 [00:26<00:39,  3.33s/it][I 2020-06-01 23:50:15,250] Finished trial#47 with value: 0.032721907013473876 with parameters: {'lambda_l1': 7.225939682686944e-07, 'lambda_l2': 4.223751553027603e-05}. Best is trial#47 with value: 0.032721907013473876.\n",
      "\n",
      "\n",
      "regularization_factors, val_score: 0.032722:  40%|####      | 8/20 [00:26<00:39,  3.33s/it]"
     ]
    },
    {
     "name": "stdout",
     "output_type": "stream",
     "text": [
      "[20]\tcv_agg's binary_logloss: 0.0709537 + 0.00561786\n",
      "[40]\tcv_agg's binary_logloss: 0.0548095 + 0.00607811\n",
      "[60]\tcv_agg's binary_logloss: 0.0466635 + 0.00637759\n",
      "[80]\tcv_agg's binary_logloss: 0.0421428 + 0.00690373\n",
      "[100]\tcv_agg's binary_logloss: 0.0396601 + 0.0068276\n",
      "[120]\tcv_agg's binary_logloss: 0.0375691 + 0.00731124\n",
      "[140]\tcv_agg's binary_logloss: 0.0364258 + 0.00776621\n",
      "[160]\tcv_agg's binary_logloss: 0.0356979 + 0.00768987\n",
      "[180]\tcv_agg's binary_logloss: 0.0348446 + 0.00774144\n",
      "[200]\tcv_agg's binary_logloss: 0.0345979 + 0.00839831\n",
      "[220]\tcv_agg's binary_logloss: 0.0338586 + 0.00843754\n",
      "[240]\tcv_agg's binary_logloss: 0.0332715 + 0.0087455\n",
      "[260]\tcv_agg's binary_logloss: 0.033039 + 0.00908197\n",
      "[280]\tcv_agg's binary_logloss: 0.0330518 + 0.00941413\n",
      "[300]\tcv_agg's binary_logloss: 0.0327221 + 0.00954589\n",
      "[320]\tcv_agg's binary_logloss: 0.0329166 + 0.00975573\n",
      "[340]\tcv_agg's binary_logloss: 0.0328771 + 0.00988046\n",
      "[360]\tcv_agg's binary_logloss: 0.033075 + 0.0102539\n",
      "[380]\tcv_agg's binary_logloss: 0.0331846 + 0.0106472\n",
      "[400]\tcv_agg's binary_logloss: 0.0332304 + 0.0107302\n"
     ]
    },
    {
     "name": "stderr",
     "output_type": "stream",
     "text": [
      "\n",
      "\n",
      "regularization_factors, val_score: 0.032722:  40%|####      | 8/20 [00:30<00:39,  3.33s/it]\n",
      "\n",
      "regularization_factors, val_score: 0.032722:  45%|####5     | 9/20 [00:30<00:36,  3.28s/it][I 2020-06-01 23:50:18,422] Finished trial#48 with value: 0.03272207124650618 with parameters: {'lambda_l1': 1.4105573853532439e-06, 'lambda_l2': 4.62016898296382e-08}. Best is trial#47 with value: 0.032721907013473876.\n",
      "\n",
      "\n",
      "regularization_factors, val_score: 0.032722:  45%|####5     | 9/20 [00:30<00:36,  3.28s/it]"
     ]
    },
    {
     "name": "stdout",
     "output_type": "stream",
     "text": [
      "[20]\tcv_agg's binary_logloss: 0.0709538 + 0.00561744\n",
      "[40]\tcv_agg's binary_logloss: 0.0548097 + 0.00607783\n",
      "[60]\tcv_agg's binary_logloss: 0.0466639 + 0.00637732\n",
      "[80]\tcv_agg's binary_logloss: 0.0421428 + 0.00690362\n",
      "[100]\tcv_agg's binary_logloss: 0.0395805 + 0.00686915\n",
      "[120]\tcv_agg's binary_logloss: 0.0375195 + 0.0073331\n",
      "[140]\tcv_agg's binary_logloss: 0.0363778 + 0.00777748\n",
      "[160]\tcv_agg's binary_logloss: 0.0356733 + 0.00765795\n",
      "[180]\tcv_agg's binary_logloss: 0.0347876 + 0.00762021\n",
      "[200]\tcv_agg's binary_logloss: 0.0344662 + 0.00828893\n",
      "[220]\tcv_agg's binary_logloss: 0.0338363 + 0.00852641\n",
      "[240]\tcv_agg's binary_logloss: 0.0334115 + 0.00896338\n",
      "[260]\tcv_agg's binary_logloss: 0.033279 + 0.00920026\n",
      "[280]\tcv_agg's binary_logloss: 0.0332749 + 0.00950781\n",
      "[300]\tcv_agg's binary_logloss: 0.0331737 + 0.00981364\n",
      "[320]\tcv_agg's binary_logloss: 0.0332092 + 0.00994622\n",
      "[340]\tcv_agg's binary_logloss: 0.0331792 + 0.01002\n",
      "[360]\tcv_agg's binary_logloss: 0.0332958 + 0.0104012\n",
      "[380]\tcv_agg's binary_logloss: 0.0333295 + 0.0106811\n",
      "[400]\tcv_agg's binary_logloss: 0.0332641 + 0.0106825\n",
      "[420]\tcv_agg's binary_logloss: 0.0333429 + 0.0110067\n"
     ]
    },
    {
     "name": "stderr",
     "output_type": "stream",
     "text": [
      "\n",
      "\n",
      "regularization_factors, val_score: 0.032722:  45%|####5     | 9/20 [00:33<00:36,  3.28s/it]\n",
      "\n",
      "regularization_factors, val_score: 0.032722:  50%|#####     | 10/20 [00:33<00:33,  3.30s/it][I 2020-06-01 23:50:21,762] Finished trial#49 with value: 0.0331042142685898 with parameters: {'lambda_l1': 2.9905544598157758e-05, 'lambda_l2': 0.00125887002519277}. Best is trial#47 with value: 0.032721907013473876.\n",
      "\n",
      "\n",
      "regularization_factors, val_score: 0.032722:  50%|#####     | 10/20 [00:33<00:33,  3.30s/it]"
     ]
    },
    {
     "name": "stdout",
     "output_type": "stream",
     "text": [
      "[20]\tcv_agg's binary_logloss: 0.071218 + 0.00568856\n",
      "[40]\tcv_agg's binary_logloss: 0.054921 + 0.00607297\n",
      "[60]\tcv_agg's binary_logloss: 0.0470147 + 0.00632533\n",
      "[80]\tcv_agg's binary_logloss: 0.0426043 + 0.00662517\n",
      "[100]\tcv_agg's binary_logloss: 0.0394715 + 0.00674057\n",
      "[120]\tcv_agg's binary_logloss: 0.0376443 + 0.00700759\n",
      "[140]\tcv_agg's binary_logloss: 0.03637 + 0.00714805\n",
      "[160]\tcv_agg's binary_logloss: 0.0356916 + 0.00723573\n",
      "[180]\tcv_agg's binary_logloss: 0.0347924 + 0.00726581\n",
      "[200]\tcv_agg's binary_logloss: 0.0343265 + 0.00781106\n",
      "[220]\tcv_agg's binary_logloss: 0.0335313 + 0.00787752\n",
      "[240]\tcv_agg's binary_logloss: 0.0329767 + 0.00829173\n",
      "[260]\tcv_agg's binary_logloss: 0.0329262 + 0.00865498\n",
      "[280]\tcv_agg's binary_logloss: 0.0330809 + 0.00914961\n",
      "[300]\tcv_agg's binary_logloss: 0.0329946 + 0.00924561\n",
      "[320]\tcv_agg's binary_logloss: 0.0329763 + 0.00937981\n",
      "[340]\tcv_agg's binary_logloss: 0.0328144 + 0.00946594\n",
      "[360]\tcv_agg's binary_logloss: 0.0331049 + 0.00993855\n",
      "[380]\tcv_agg's binary_logloss: 0.0330255 + 0.0100576\n",
      "[400]\tcv_agg's binary_logloss: 0.0330262 + 0.0102102\n",
      "[420]\tcv_agg's binary_logloss: 0.0331397 + 0.0103883\n"
     ]
    },
    {
     "name": "stderr",
     "output_type": "stream",
     "text": [
      "\n",
      "\n",
      "regularization_factors, val_score: 0.032722:  50%|#####     | 10/20 [00:36<00:33,  3.30s/it]\n",
      "\n",
      "regularization_factors, val_score: 0.032722:  55%|#####5    | 11/20 [00:36<00:30,  3.35s/it][I 2020-06-01 23:50:25,242] Finished trial#50 with value: 0.03274471540139469 with parameters: {'lambda_l1': 0.0009625959580372899, 'lambda_l2': 0.12086247309065964}. Best is trial#47 with value: 0.032721907013473876.\n",
      "\n",
      "\n",
      "regularization_factors, val_score: 0.032722:  55%|#####5    | 11/20 [00:36<00:30,  3.35s/it]"
     ]
    },
    {
     "name": "stdout",
     "output_type": "stream",
     "text": [
      "[20]\tcv_agg's binary_logloss: 0.0709538 + 0.00561784\n",
      "[40]\tcv_agg's binary_logloss: 0.0548095 + 0.00607809\n",
      "[60]\tcv_agg's binary_logloss: 0.0466636 + 0.00637758\n",
      "[80]\tcv_agg's binary_logloss: 0.0421428 + 0.00690371\n",
      "[100]\tcv_agg's binary_logloss: 0.0396601 + 0.00682762\n",
      "[120]\tcv_agg's binary_logloss: 0.037569 + 0.00731123\n",
      "[140]\tcv_agg's binary_logloss: 0.0364257 + 0.00776603\n",
      "[160]\tcv_agg's binary_logloss: 0.0356977 + 0.00768968\n",
      "[180]\tcv_agg's binary_logloss: 0.0348445 + 0.00774124\n",
      "[200]\tcv_agg's binary_logloss: 0.0345978 + 0.00839808\n",
      "[220]\tcv_agg's binary_logloss: 0.0338585 + 0.00843732\n",
      "[240]\tcv_agg's binary_logloss: 0.0332713 + 0.00874526\n",
      "[260]\tcv_agg's binary_logloss: 0.0330388 + 0.00908171\n",
      "[280]\tcv_agg's binary_logloss: 0.0330516 + 0.00941389\n",
      "[300]\tcv_agg's binary_logloss: 0.0327219 + 0.00954564\n",
      "[320]\tcv_agg's binary_logloss: 0.0329164 + 0.00975547\n",
      "[340]\tcv_agg's binary_logloss: 0.0328769 + 0.00988018\n",
      "[360]\tcv_agg's binary_logloss: 0.0330747 + 0.0102536\n",
      "[380]\tcv_agg's binary_logloss: 0.0331843 + 0.0106469\n",
      "[400]\tcv_agg's binary_logloss: 0.0332239 + 0.0107324\n"
     ]
    },
    {
     "name": "stderr",
     "output_type": "stream",
     "text": [
      "\n",
      "\n",
      "regularization_factors, val_score: 0.032722:  55%|#####5    | 11/20 [00:40<00:30,  3.35s/it]\n",
      "\n",
      "regularization_factors, val_score: 0.032722:  60%|######    | 12/20 [00:40<00:26,  3.32s/it][I 2020-06-01 23:50:28,479] Finished trial#51 with value: 0.03272188062719988 with parameters: {'lambda_l1': 9.304320369132658e-05, 'lambda_l2': 4.2231385185949986e-05}. Best is trial#51 with value: 0.03272188062719988.\n",
      "\n",
      "\n",
      "regularization_factors, val_score: 0.032722:  60%|######    | 12/20 [00:40<00:26,  3.32s/it]"
     ]
    },
    {
     "name": "stdout",
     "output_type": "stream",
     "text": [
      "[20]\tcv_agg's binary_logloss: 0.0709539 + 0.0056178\n",
      "[40]\tcv_agg's binary_logloss: 0.0548097 + 0.00607806\n",
      "[60]\tcv_agg's binary_logloss: 0.0466638 + 0.00637754\n",
      "[80]\tcv_agg's binary_logloss: 0.0421431 + 0.00690367\n",
      "[100]\tcv_agg's binary_logloss: 0.0395824 + 0.00686852\n",
      "[120]\tcv_agg's binary_logloss: 0.0375219 + 0.00733287\n",
      "[140]\tcv_agg's binary_logloss: 0.0363819 + 0.0077811\n",
      "[160]\tcv_agg's binary_logloss: 0.0356921 + 0.00769073\n",
      "[180]\tcv_agg's binary_logloss: 0.0348228 + 0.00774542\n",
      "[200]\tcv_agg's binary_logloss: 0.0345523 + 0.00840925\n",
      "[220]\tcv_agg's binary_logloss: 0.0338626 + 0.008436\n",
      "[240]\tcv_agg's binary_logloss: 0.033318 + 0.0087356\n",
      "[260]\tcv_agg's binary_logloss: 0.0330335 + 0.00908962\n",
      "[280]\tcv_agg's binary_logloss: 0.0330409 + 0.00941739\n",
      "[300]\tcv_agg's binary_logloss: 0.0327896 + 0.00952934\n",
      "[320]\tcv_agg's binary_logloss: 0.0330299 + 0.00975197\n",
      "[340]\tcv_agg's binary_logloss: 0.0329942 + 0.00981673\n",
      "[360]\tcv_agg's binary_logloss: 0.0331511 + 0.0102193\n",
      "[380]\tcv_agg's binary_logloss: 0.0332833 + 0.0105422\n",
      "[400]\tcv_agg's binary_logloss: 0.0332506 + 0.0106309\n"
     ]
    },
    {
     "name": "stderr",
     "output_type": "stream",
     "text": [
      "\n",
      "\n",
      "regularization_factors, val_score: 0.032722:  60%|######    | 12/20 [00:43<00:26,  3.32s/it]\n",
      "\n",
      "regularization_factors, val_score: 0.032722:  65%|######5   | 13/20 [00:43<00:23,  3.32s/it][I 2020-06-01 23:50:31,818] Finished trial#52 with value: 0.03278961252950423 with parameters: {'lambda_l1': 0.000573941442252688, 'lambda_l2': 7.331102350620767e-05}. Best is trial#51 with value: 0.03272188062719988.\n",
      "\n",
      "\n",
      "regularization_factors, val_score: 0.032722:  65%|######5   | 13/20 [00:43<00:23,  3.32s/it]"
     ]
    },
    {
     "name": "stdout",
     "output_type": "stream",
     "text": [
      "[20]\tcv_agg's binary_logloss: 0.0709537 + 0.00561785\n",
      "[40]\tcv_agg's binary_logloss: 0.0548095 + 0.00607811\n",
      "[60]\tcv_agg's binary_logloss: 0.0466635 + 0.00637759\n",
      "[80]\tcv_agg's binary_logloss: 0.0421428 + 0.00690373\n",
      "[100]\tcv_agg's binary_logloss: 0.0396601 + 0.0068276\n",
      "[120]\tcv_agg's binary_logloss: 0.0375691 + 0.00731124\n",
      "[140]\tcv_agg's binary_logloss: 0.0364258 + 0.0077662\n",
      "[160]\tcv_agg's binary_logloss: 0.0356978 + 0.00768986\n",
      "[180]\tcv_agg's binary_logloss: 0.0348446 + 0.00774143\n",
      "[200]\tcv_agg's binary_logloss: 0.0345979 + 0.0083983\n",
      "[220]\tcv_agg's binary_logloss: 0.0338586 + 0.00843753\n",
      "[240]\tcv_agg's binary_logloss: 0.0332715 + 0.00874548\n",
      "[260]\tcv_agg's binary_logloss: 0.0330389 + 0.00908195\n",
      "[280]\tcv_agg's binary_logloss: 0.0330518 + 0.00941412\n",
      "[300]\tcv_agg's binary_logloss: 0.0327221 + 0.00954588\n",
      "[320]\tcv_agg's binary_logloss: 0.0329166 + 0.00975572\n",
      "[340]\tcv_agg's binary_logloss: 0.0328771 + 0.00988045\n",
      "[360]\tcv_agg's binary_logloss: 0.0330749 + 0.0102538\n",
      "[380]\tcv_agg's binary_logloss: 0.0331845 + 0.0106472\n",
      "[400]\tcv_agg's binary_logloss: 0.0332304 + 0.0107302\n"
     ]
    },
    {
     "name": "stderr",
     "output_type": "stream",
     "text": [
      "\n",
      "\n",
      "regularization_factors, val_score: 0.032722:  65%|######5   | 13/20 [00:46<00:23,  3.32s/it]\n",
      "\n",
      "regularization_factors, val_score: 0.032722:  70%|#######   | 14/20 [00:46<00:19,  3.33s/it][I 2020-06-01 23:50:35,170] Finished trial#53 with value: 0.03272205965156965 with parameters: {'lambda_l1': 1.1422703378176794e-08, 'lambda_l2': 3.1258289181597075e-06}. Best is trial#51 with value: 0.03272188062719988.\n",
      "\n",
      "\n",
      "regularization_factors, val_score: 0.032722:  70%|#######   | 14/20 [00:46<00:19,  3.33s/it]"
     ]
    },
    {
     "name": "stdout",
     "output_type": "stream",
     "text": [
      "[20]\tcv_agg's binary_logloss: 0.0709542 + 0.00561565\n",
      "[40]\tcv_agg's binary_logloss: 0.0548106 + 0.00607666\n",
      "[60]\tcv_agg's binary_logloss: 0.0466655 + 0.00637617\n",
      "[80]\tcv_agg's binary_logloss: 0.042203 + 0.00686935\n",
      "[100]\tcv_agg's binary_logloss: 0.0394558 + 0.00693069\n",
      "[120]\tcv_agg's binary_logloss: 0.0374452 + 0.00719511\n",
      "[140]\tcv_agg's binary_logloss: 0.0362255 + 0.00761281\n",
      "[160]\tcv_agg's binary_logloss: 0.0356454 + 0.00742214\n",
      "[180]\tcv_agg's binary_logloss: 0.0346678 + 0.00726846\n",
      "[200]\tcv_agg's binary_logloss: 0.0344268 + 0.0079973\n",
      "[220]\tcv_agg's binary_logloss: 0.0337007 + 0.0081156\n",
      "[240]\tcv_agg's binary_logloss: 0.0330783 + 0.00842605\n",
      "[260]\tcv_agg's binary_logloss: 0.0329845 + 0.00880871\n",
      "[280]\tcv_agg's binary_logloss: 0.0329461 + 0.00912697\n",
      "[300]\tcv_agg's binary_logloss: 0.0329043 + 0.00938263\n",
      "[320]\tcv_agg's binary_logloss: 0.0329867 + 0.0097171\n",
      "[340]\tcv_agg's binary_logloss: 0.0328588 + 0.00975986\n",
      "[360]\tcv_agg's binary_logloss: 0.0331197 + 0.0101942\n",
      "[380]\tcv_agg's binary_logloss: 0.0332172 + 0.0105187\n"
     ]
    },
    {
     "name": "stderr",
     "output_type": "stream",
     "text": [
      "\n",
      "\n",
      "regularization_factors, val_score: 0.032722:  70%|#######   | 14/20 [00:50<00:19,  3.33s/it]\n",
      "\n",
      "regularization_factors, val_score: 0.032722:  75%|#######5  | 15/20 [00:50<00:16,  3.37s/it][I 2020-06-01 23:50:38,616] Finished trial#54 with value: 0.032845418111716054 with parameters: {'lambda_l1': 6.752421113676195e-05, 'lambda_l2': 0.006661353657229207}. Best is trial#51 with value: 0.03272188062719988.\n",
      "\n",
      "\n",
      "regularization_factors, val_score: 0.032722:  75%|#######5  | 15/20 [00:50<00:16,  3.37s/it]"
     ]
    },
    {
     "name": "stdout",
     "output_type": "stream",
     "text": [
      "[20]\tcv_agg's binary_logloss: 0.0709577 + 0.00561711\n",
      "[40]\tcv_agg's binary_logloss: 0.0548145 + 0.00607733\n",
      "[60]\tcv_agg's binary_logloss: 0.0466694 + 0.00637671\n",
      "[80]\tcv_agg's binary_logloss: 0.0421879 + 0.00688252\n",
      "[100]\tcv_agg's binary_logloss: 0.0396548 + 0.00683167\n",
      "[120]\tcv_agg's binary_logloss: 0.0375217 + 0.00733403\n",
      "[140]\tcv_agg's binary_logloss: 0.0363976 + 0.00777591\n",
      "[160]\tcv_agg's binary_logloss: 0.0356737 + 0.00771823\n",
      "[180]\tcv_agg's binary_logloss: 0.03483 + 0.00770227\n",
      "[200]\tcv_agg's binary_logloss: 0.0345191 + 0.00829538\n",
      "[220]\tcv_agg's binary_logloss: 0.033784 + 0.00830462\n",
      "[240]\tcv_agg's binary_logloss: 0.0332905 + 0.00877325\n",
      "[260]\tcv_agg's binary_logloss: 0.0331578 + 0.00891963\n",
      "[280]\tcv_agg's binary_logloss: 0.0331417 + 0.00912746\n",
      "[300]\tcv_agg's binary_logloss: 0.0331158 + 0.00954392\n",
      "[320]\tcv_agg's binary_logloss: 0.0331258 + 0.00970561\n",
      "[340]\tcv_agg's binary_logloss: 0.0330121 + 0.00982885\n",
      "[360]\tcv_agg's binary_logloss: 0.033226 + 0.0104607\n",
      "[380]\tcv_agg's binary_logloss: 0.0334886 + 0.0109218\n",
      "[400]\tcv_agg's binary_logloss: 0.0334018 + 0.0107373\n",
      "[420]\tcv_agg's binary_logloss: 0.0335646 + 0.0109957\n"
     ]
    },
    {
     "name": "stderr",
     "output_type": "stream",
     "text": [
      "\n",
      "\n",
      "regularization_factors, val_score: 0.032722:  75%|#######5  | 15/20 [00:54<00:16,  3.37s/it]\n",
      "\n",
      "regularization_factors, val_score: 0.032722:  80%|########  | 16/20 [00:54<00:14,  3.51s/it][I 2020-06-01 23:50:42,466] Finished trial#55 with value: 0.03298925100086945 with parameters: {'lambda_l1': 0.011441982880585273, 'lambda_l2': 0.00034285137643446934}. Best is trial#51 with value: 0.03272188062719988.\n",
      "\n",
      "\n",
      "regularization_factors, val_score: 0.032722:  80%|########  | 16/20 [00:54<00:14,  3.51s/it]"
     ]
    },
    {
     "name": "stdout",
     "output_type": "stream",
     "text": [
      "[20]\tcv_agg's binary_logloss: 0.0709537 + 0.00561785\n",
      "[40]\tcv_agg's binary_logloss: 0.0548095 + 0.00607811\n",
      "[60]\tcv_agg's binary_logloss: 0.0466635 + 0.00637759\n",
      "[80]\tcv_agg's binary_logloss: 0.0421428 + 0.00690373\n",
      "[100]\tcv_agg's binary_logloss: 0.0396601 + 0.0068276\n",
      "[120]\tcv_agg's binary_logloss: 0.0375691 + 0.00731124\n",
      "[140]\tcv_agg's binary_logloss: 0.0364258 + 0.0077662\n",
      "[160]\tcv_agg's binary_logloss: 0.0356978 + 0.00768986\n",
      "[180]\tcv_agg's binary_logloss: 0.0348446 + 0.00774144\n",
      "[200]\tcv_agg's binary_logloss: 0.0345979 + 0.0083983\n",
      "[220]\tcv_agg's binary_logloss: 0.0338586 + 0.00843753\n",
      "[240]\tcv_agg's binary_logloss: 0.0332715 + 0.00874549\n",
      "[260]\tcv_agg's binary_logloss: 0.0330389 + 0.00908196\n",
      "[280]\tcv_agg's binary_logloss: 0.0330518 + 0.00941412\n",
      "[300]\tcv_agg's binary_logloss: 0.0327221 + 0.00954588\n",
      "[320]\tcv_agg's binary_logloss: 0.0329166 + 0.00975572\n",
      "[340]\tcv_agg's binary_logloss: 0.0328771 + 0.00988045\n",
      "[360]\tcv_agg's binary_logloss: 0.0330749 + 0.0102538\n",
      "[380]\tcv_agg's binary_logloss: 0.0331845 + 0.0106472\n",
      "[400]\tcv_agg's binary_logloss: 0.0332304 + 0.0107302\n"
     ]
    },
    {
     "name": "stderr",
     "output_type": "stream",
     "text": [
      "\n",
      "\n",
      "regularization_factors, val_score: 0.032722:  80%|########  | 16/20 [00:57<00:14,  3.51s/it]\n",
      "\n",
      "regularization_factors, val_score: 0.032722:  85%|########5 | 17/20 [00:57<00:10,  3.53s/it][I 2020-06-01 23:50:46,033] Finished trial#56 with value: 0.03272206143844987 with parameters: {'lambda_l1': 1.3953673054950566e-08, 'lambda_l2': 2.6702244027018177e-06}. Best is trial#51 with value: 0.03272188062719988.\n",
      "\n",
      "\n",
      "regularization_factors, val_score: 0.032722:  85%|########5 | 17/20 [00:57<00:10,  3.53s/it]"
     ]
    },
    {
     "name": "stdout",
     "output_type": "stream",
     "text": [
      "[20]\tcv_agg's binary_logloss: 0.0709554 + 0.00561432\n",
      "[40]\tcv_agg's binary_logloss: 0.0548737 + 0.00602859\n",
      "[60]\tcv_agg's binary_logloss: 0.0466278 + 0.00639949\n",
      "[80]\tcv_agg's binary_logloss: 0.042172 + 0.0068855\n",
      "[100]\tcv_agg's binary_logloss: 0.0394449 + 0.00693219\n",
      "[120]\tcv_agg's binary_logloss: 0.0374379 + 0.0072767\n",
      "[140]\tcv_agg's binary_logloss: 0.0361526 + 0.00788141\n",
      "[160]\tcv_agg's binary_logloss: 0.0354543 + 0.00777194\n",
      "[180]\tcv_agg's binary_logloss: 0.0345296 + 0.00789283\n",
      "[200]\tcv_agg's binary_logloss: 0.0341812 + 0.00832788\n",
      "[220]\tcv_agg's binary_logloss: 0.0334875 + 0.00840186\n",
      "[240]\tcv_agg's binary_logloss: 0.032914 + 0.00870546\n",
      "[260]\tcv_agg's binary_logloss: 0.0327697 + 0.00884173\n",
      "[280]\tcv_agg's binary_logloss: 0.0327547 + 0.00936005\n",
      "[300]\tcv_agg's binary_logloss: 0.0327273 + 0.00946535\n",
      "[320]\tcv_agg's binary_logloss: 0.0327669 + 0.00959019\n",
      "[340]\tcv_agg's binary_logloss: 0.0326329 + 0.00968827\n",
      "[360]\tcv_agg's binary_logloss: 0.0327542 + 0.0101572\n",
      "[380]\tcv_agg's binary_logloss: 0.0328162 + 0.0104328\n",
      "[400]\tcv_agg's binary_logloss: 0.0328925 + 0.0104515\n",
      "[420]\tcv_agg's binary_logloss: 0.0330437 + 0.0108991\n"
     ]
    },
    {
     "name": "stderr",
     "output_type": "stream",
     "text": [
      "\n",
      "\n",
      "regularization_factors, val_score: 0.032595:  85%|########5 | 17/20 [01:01<00:10,  3.53s/it]\n",
      "\n",
      "regularization_factors, val_score: 0.032595:  90%|######### | 18/20 [01:01<00:07,  3.62s/it][I 2020-06-01 23:50:49,875] Finished trial#57 with value: 0.032594780651707046 with parameters: {'lambda_l1': 0.0029365252139988236, 'lambda_l2': 0.010246689463847606}. Best is trial#57 with value: 0.032594780651707046.\n",
      "\n",
      "\n",
      "regularization_factors, val_score: 0.032595:  90%|######### | 18/20 [01:01<00:07,  3.62s/it]"
     ]
    },
    {
     "name": "stdout",
     "output_type": "stream",
     "text": [
      "[20]\tcv_agg's binary_logloss: 0.0733683 + 0.00517611\n",
      "[40]\tcv_agg's binary_logloss: 0.0576985 + 0.00588581\n",
      "[60]\tcv_agg's binary_logloss: 0.0501219 + 0.0062989\n",
      "[80]\tcv_agg's binary_logloss: 0.0461441 + 0.00700253\n",
      "[100]\tcv_agg's binary_logloss: 0.0434035 + 0.00709164\n",
      "[120]\tcv_agg's binary_logloss: 0.0413195 + 0.00733936\n",
      "[140]\tcv_agg's binary_logloss: 0.0400413 + 0.00754959\n",
      "[160]\tcv_agg's binary_logloss: 0.0392184 + 0.0075998\n",
      "[180]\tcv_agg's binary_logloss: 0.038493 + 0.00762527\n",
      "[200]\tcv_agg's binary_logloss: 0.0379322 + 0.00790117\n",
      "[220]\tcv_agg's binary_logloss: 0.0373586 + 0.00812262\n",
      "[240]\tcv_agg's binary_logloss: 0.0369497 + 0.00825439\n",
      "[260]\tcv_agg's binary_logloss: 0.0365883 + 0.0083222\n",
      "[280]\tcv_agg's binary_logloss: 0.0363414 + 0.00852883\n",
      "[300]\tcv_agg's binary_logloss: 0.0361267 + 0.00846353\n",
      "[320]\tcv_agg's binary_logloss: 0.0360061 + 0.00866216\n",
      "[340]\tcv_agg's binary_logloss: 0.0357027 + 0.00855635\n",
      "[360]\tcv_agg's binary_logloss: 0.0354953 + 0.00865936\n",
      "[380]\tcv_agg's binary_logloss: 0.0353373 + 0.00882337\n",
      "[400]\tcv_agg's binary_logloss: 0.0351916 + 0.00875269\n",
      "[420]\tcv_agg's binary_logloss: 0.0350774 + 0.00887124\n",
      "[440]\tcv_agg's binary_logloss: 0.0350007 + 0.00898909\n",
      "[460]\tcv_agg's binary_logloss: 0.0349623 + 0.00907561\n",
      "[480]\tcv_agg's binary_logloss: 0.0348979 + 0.00909068\n",
      "[500]\tcv_agg's binary_logloss: 0.0348687 + 0.00908754\n",
      "[520]\tcv_agg's binary_logloss: 0.0347994 + 0.00909135\n",
      "[540]\tcv_agg's binary_logloss: 0.0347258 + 0.00905161\n",
      "[560]\tcv_agg's binary_logloss: 0.0347044 + 0.00914388\n",
      "[580]\tcv_agg's binary_logloss: 0.0346825 + 0.0091521\n",
      "[600]\tcv_agg's binary_logloss: 0.0346438 + 0.00917562\n",
      "[620]\tcv_agg's binary_logloss: 0.0344947 + 0.00913521\n",
      "[640]\tcv_agg's binary_logloss: 0.0344292 + 0.00924012\n",
      "[660]\tcv_agg's binary_logloss: 0.0343791 + 0.00927039\n",
      "[680]\tcv_agg's binary_logloss: 0.0342935 + 0.0093368\n",
      "[700]\tcv_agg's binary_logloss: 0.0343017 + 0.00934035\n",
      "[720]\tcv_agg's binary_logloss: 0.0343153 + 0.00930188\n",
      "[740]\tcv_agg's binary_logloss: 0.0342921 + 0.00936168\n",
      "[760]\tcv_agg's binary_logloss: 0.0342446 + 0.00933745\n",
      "[780]\tcv_agg's binary_logloss: 0.0342274 + 0.00937673\n",
      "[800]\tcv_agg's binary_logloss: 0.0341859 + 0.00939935\n",
      "[820]\tcv_agg's binary_logloss: 0.0341665 + 0.00936305\n",
      "[840]\tcv_agg's binary_logloss: 0.0341782 + 0.00937459\n",
      "[860]\tcv_agg's binary_logloss: 0.0341472 + 0.00938851\n",
      "[880]\tcv_agg's binary_logloss: 0.0341561 + 0.009393\n",
      "[900]\tcv_agg's binary_logloss: 0.0341297 + 0.00940649\n",
      "[920]\tcv_agg's binary_logloss: 0.0341505 + 0.00947861\n",
      "[940]\tcv_agg's binary_logloss: 0.0341302 + 0.00946347\n",
      "[960]\tcv_agg's binary_logloss: 0.0341288 + 0.00948867\n",
      "[980]\tcv_agg's binary_logloss: 0.0341694 + 0.00956563\n"
     ]
    },
    {
     "name": "stderr",
     "output_type": "stream",
     "text": [
      "\n",
      "\n",
      "regularization_factors, val_score: 0.032595:  90%|######### | 18/20 [01:10<00:07,  3.62s/it]\n",
      "\n",
      "regularization_factors, val_score: 0.032595:  95%|#########5| 19/20 [01:10<00:05,  5.21s/it][I 2020-06-01 23:50:58,805] Finished trial#58 with value: 0.03412124299165387 with parameters: {'lambda_l1': 6.549588573192467, 'lambda_l2': 0.1901038268180315}. Best is trial#57 with value: 0.032594780651707046.\n",
      "\n",
      "\n",
      "regularization_factors, val_score: 0.032595:  95%|#########5| 19/20 [01:10<00:05,  5.21s/it]"
     ]
    },
    {
     "name": "stdout",
     "output_type": "stream",
     "text": [
      "[20]\tcv_agg's binary_logloss: 0.0709888 + 0.00557899\n",
      "[40]\tcv_agg's binary_logloss: 0.0548147 + 0.00607399\n",
      "[60]\tcv_agg's binary_logloss: 0.0466769 + 0.0063748\n",
      "[80]\tcv_agg's binary_logloss: 0.0422352 + 0.0068465\n",
      "[100]\tcv_agg's binary_logloss: 0.0392982 + 0.00683937\n",
      "[120]\tcv_agg's binary_logloss: 0.0374417 + 0.00696724\n",
      "[140]\tcv_agg's binary_logloss: 0.0360454 + 0.00711032\n",
      "[160]\tcv_agg's binary_logloss: 0.0353781 + 0.00705263\n",
      "[180]\tcv_agg's binary_logloss: 0.0345833 + 0.00717741\n",
      "[200]\tcv_agg's binary_logloss: 0.0344172 + 0.00793977\n",
      "[220]\tcv_agg's binary_logloss: 0.0336098 + 0.00794067\n",
      "[240]\tcv_agg's binary_logloss: 0.0330745 + 0.00820407\n",
      "[260]\tcv_agg's binary_logloss: 0.0329094 + 0.0085619\n",
      "[280]\tcv_agg's binary_logloss: 0.0330152 + 0.00886749\n",
      "[300]\tcv_agg's binary_logloss: 0.0329375 + 0.0089585\n",
      "[320]\tcv_agg's binary_logloss: 0.0329683 + 0.00918749\n",
      "[340]\tcv_agg's binary_logloss: 0.0328553 + 0.00937527\n",
      "[360]\tcv_agg's binary_logloss: 0.0330727 + 0.00978342\n",
      "[380]\tcv_agg's binary_logloss: 0.0330629 + 0.00995662\n",
      "[400]\tcv_agg's binary_logloss: 0.0330761 + 0.0100581\n",
      "[420]\tcv_agg's binary_logloss: 0.0332125 + 0.0102476\n"
     ]
    },
    {
     "name": "stderr",
     "output_type": "stream",
     "text": [
      "\n",
      "\n",
      "regularization_factors, val_score: 0.032595:  95%|#########5| 19/20 [01:14<00:05,  5.21s/it]\n",
      "\n",
      "regularization_factors, val_score: 0.032595: 100%|##########| 20/20 [01:14<00:00,  4.82s/it][I 2020-06-01 23:51:02,714] Finished trial#59 with value: 0.032809673147289026 with parameters: {'lambda_l1': 0.00789797067662849, 'lambda_l2': 0.029285179353921022}. Best is trial#57 with value: 0.032594780651707046.\n",
      "regularization_factors, val_score: 0.032595: 100%|##########| 20/20 [01:14<00:00,  3.72s/it]\n",
      "\n",
      "\n",
      "  0%|          | 0/5 [00:00<?, ?it/s]\n",
      "\n",
      "min_data_in_leaf, val_score: 0.032595:   0%|          | 0/5 [00:00<?, ?it/s]"
     ]
    },
    {
     "name": "stdout",
     "output_type": "stream",
     "text": [
      "[20]\tcv_agg's binary_logloss: 0.0709554 + 0.00561432\n",
      "[40]\tcv_agg's binary_logloss: 0.0548737 + 0.00602859\n",
      "[60]\tcv_agg's binary_logloss: 0.0466278 + 0.00639949\n",
      "[80]\tcv_agg's binary_logloss: 0.0421041 + 0.00691767\n",
      "[100]\tcv_agg's binary_logloss: 0.0392336 + 0.00695587\n",
      "[120]\tcv_agg's binary_logloss: 0.0372526 + 0.00720947\n",
      "[140]\tcv_agg's binary_logloss: 0.0360038 + 0.00741405\n",
      "[160]\tcv_agg's binary_logloss: 0.0352212 + 0.00745024\n",
      "[180]\tcv_agg's binary_logloss: 0.03443 + 0.00735085\n",
      "[200]\tcv_agg's binary_logloss: 0.0343439 + 0.00817031\n",
      "[220]\tcv_agg's binary_logloss: 0.0336769 + 0.00806604\n",
      "[240]\tcv_agg's binary_logloss: 0.0329904 + 0.00856926\n",
      "[260]\tcv_agg's binary_logloss: 0.0327474 + 0.008877\n",
      "[280]\tcv_agg's binary_logloss: 0.0326981 + 0.00908204\n",
      "[300]\tcv_agg's binary_logloss: 0.0326935 + 0.00923761\n",
      "[320]\tcv_agg's binary_logloss: 0.0327769 + 0.00952268\n",
      "[340]\tcv_agg's binary_logloss: 0.0327208 + 0.00968879\n",
      "[360]\tcv_agg's binary_logloss: 0.0328782 + 0.0100197\n"
     ]
    },
    {
     "name": "stderr",
     "output_type": "stream",
     "text": [
      "\n",
      "\n",
      "min_data_in_leaf, val_score: 0.032564:   0%|          | 0/5 [00:03<?, ?it/s]\n",
      "\n",
      "min_data_in_leaf, val_score: 0.032564:  20%|##        | 1/5 [00:03<00:13,  3.42s/it][I 2020-06-01 23:51:06,234] Finished trial#60 with value: 0.03256426247337006 with parameters: {'min_child_samples': 100}. Best is trial#60 with value: 0.03256426247337006.\n",
      "\n",
      "\n",
      "min_data_in_leaf, val_score: 0.032564:  20%|##        | 1/5 [00:03<00:13,  3.42s/it]"
     ]
    },
    {
     "name": "stdout",
     "output_type": "stream",
     "text": [
      "[20]\tcv_agg's binary_logloss: 0.0709554 + 0.00561432\n",
      "[40]\tcv_agg's binary_logloss: 0.0548737 + 0.00602859\n",
      "[60]\tcv_agg's binary_logloss: 0.0466278 + 0.00639949\n",
      "[80]\tcv_agg's binary_logloss: 0.0421356 + 0.00689703\n",
      "[100]\tcv_agg's binary_logloss: 0.0394414 + 0.00693901\n",
      "[120]\tcv_agg's binary_logloss: 0.0374525 + 0.0072645\n",
      "[140]\tcv_agg's binary_logloss: 0.0362059 + 0.00758346\n",
      "[160]\tcv_agg's binary_logloss: 0.0355995 + 0.00752132\n",
      "[180]\tcv_agg's binary_logloss: 0.0347854 + 0.00761506\n",
      "[200]\tcv_agg's binary_logloss: 0.0344287 + 0.00831712\n",
      "[220]\tcv_agg's binary_logloss: 0.0336662 + 0.00822278\n",
      "[240]\tcv_agg's binary_logloss: 0.033157 + 0.00867469\n",
      "[260]\tcv_agg's binary_logloss: 0.0331287 + 0.00885403\n",
      "[280]\tcv_agg's binary_logloss: 0.0330608 + 0.00907742\n",
      "[300]\tcv_agg's binary_logloss: 0.0330931 + 0.00923876\n",
      "[320]\tcv_agg's binary_logloss: 0.0331303 + 0.00922805\n",
      "[340]\tcv_agg's binary_logloss: 0.0330827 + 0.0093819\n",
      "[360]\tcv_agg's binary_logloss: 0.0333025 + 0.00990278\n",
      "[380]\tcv_agg's binary_logloss: 0.0334814 + 0.0100959\n",
      "[400]\tcv_agg's binary_logloss: 0.0335971 + 0.0102476\n"
     ]
    },
    {
     "name": "stderr",
     "output_type": "stream",
     "text": [
      "\n",
      "\n",
      "min_data_in_leaf, val_score: 0.032564:  20%|##        | 1/5 [00:07<00:13,  3.42s/it]\n",
      "\n",
      "min_data_in_leaf, val_score: 0.032564:  40%|####      | 2/5 [00:07<00:10,  3.49s/it][I 2020-06-01 23:51:09,892] Finished trial#61 with value: 0.03300523933287025 with parameters: {'min_child_samples': 50}. Best is trial#60 with value: 0.03256426247337006.\n",
      "\n",
      "\n",
      "min_data_in_leaf, val_score: 0.032564:  40%|####      | 2/5 [00:07<00:10,  3.49s/it]"
     ]
    },
    {
     "name": "stdout",
     "output_type": "stream",
     "text": [
      "[20]\tcv_agg's binary_logloss: 0.0709554 + 0.00561432\n",
      "[40]\tcv_agg's binary_logloss: 0.0548737 + 0.00602859\n",
      "[60]\tcv_agg's binary_logloss: 0.0466278 + 0.00639949\n",
      "[80]\tcv_agg's binary_logloss: 0.042172 + 0.0068855\n",
      "[100]\tcv_agg's binary_logloss: 0.039468 + 0.0069202\n",
      "[120]\tcv_agg's binary_logloss: 0.0374321 + 0.00727884\n",
      "[140]\tcv_agg's binary_logloss: 0.03635 + 0.00780275\n",
      "[160]\tcv_agg's binary_logloss: 0.0355607 + 0.00792071\n",
      "[180]\tcv_agg's binary_logloss: 0.0347951 + 0.00797402\n",
      "[200]\tcv_agg's binary_logloss: 0.0344731 + 0.00855053\n",
      "[220]\tcv_agg's binary_logloss: 0.0335661 + 0.00852046\n",
      "[240]\tcv_agg's binary_logloss: 0.0331925 + 0.00907343\n",
      "[260]\tcv_agg's binary_logloss: 0.0330577 + 0.00910955\n",
      "[280]\tcv_agg's binary_logloss: 0.0329471 + 0.00949619\n",
      "[300]\tcv_agg's binary_logloss: 0.0328672 + 0.00954112\n",
      "[320]\tcv_agg's binary_logloss: 0.0329066 + 0.00974057\n",
      "[340]\tcv_agg's binary_logloss: 0.0327454 + 0.00976774\n",
      "[360]\tcv_agg's binary_logloss: 0.0328193 + 0.0102266\n",
      "[380]\tcv_agg's binary_logloss: 0.0330342 + 0.0106204\n",
      "[400]\tcv_agg's binary_logloss: 0.0331274 + 0.0106485\n",
      "[420]\tcv_agg's binary_logloss: 0.033246 + 0.0110813\n"
     ]
    },
    {
     "name": "stderr",
     "output_type": "stream",
     "text": [
      "\n",
      "\n",
      "min_data_in_leaf, val_score: 0.032564:  40%|####      | 2/5 [00:10<00:10,  3.49s/it]\n",
      "\n",
      "min_data_in_leaf, val_score: 0.032564:  60%|######    | 3/5 [00:10<00:07,  3.61s/it][I 2020-06-01 23:51:13,779] Finished trial#62 with value: 0.032743427179974915 with parameters: {'min_child_samples': 5}. Best is trial#60 with value: 0.03256426247337006.\n",
      "\n",
      "\n",
      "min_data_in_leaf, val_score: 0.032564:  60%|######    | 3/5 [00:11<00:07,  3.61s/it]"
     ]
    },
    {
     "name": "stdout",
     "output_type": "stream",
     "text": [
      "[20]\tcv_agg's binary_logloss: 0.0709554 + 0.00561432\n",
      "[40]\tcv_agg's binary_logloss: 0.0548737 + 0.00602859\n",
      "[60]\tcv_agg's binary_logloss: 0.0466278 + 0.00639949\n",
      "[80]\tcv_agg's binary_logloss: 0.042172 + 0.0068855\n",
      "[100]\tcv_agg's binary_logloss: 0.0394449 + 0.00693219\n",
      "[120]\tcv_agg's binary_logloss: 0.0373912 + 0.00729839\n",
      "[140]\tcv_agg's binary_logloss: 0.0360526 + 0.00778163\n",
      "[160]\tcv_agg's binary_logloss: 0.0352939 + 0.00736042\n",
      "[180]\tcv_agg's binary_logloss: 0.0344873 + 0.00756048\n",
      "[200]\tcv_agg's binary_logloss: 0.0341644 + 0.00814483\n",
      "[220]\tcv_agg's binary_logloss: 0.0335711 + 0.00823\n",
      "[240]\tcv_agg's binary_logloss: 0.0330863 + 0.0085412\n",
      "[260]\tcv_agg's binary_logloss: 0.0327068 + 0.00883538\n",
      "[280]\tcv_agg's binary_logloss: 0.03269 + 0.00913497\n",
      "[300]\tcv_agg's binary_logloss: 0.0327093 + 0.00929026\n",
      "[320]\tcv_agg's binary_logloss: 0.0327299 + 0.00950459\n",
      "[340]\tcv_agg's binary_logloss: 0.0327051 + 0.0097572\n",
      "[360]\tcv_agg's binary_logloss: 0.0329307 + 0.010317\n",
      "[380]\tcv_agg's binary_logloss: 0.0328537 + 0.0103661\n",
      "[400]\tcv_agg's binary_logloss: 0.0329905 + 0.0104957\n",
      "[420]\tcv_agg's binary_logloss: 0.0331027 + 0.0105716\n"
     ]
    },
    {
     "name": "stderr",
     "output_type": "stream",
     "text": [
      "\n",
      "\n",
      "min_data_in_leaf, val_score: 0.032564:  60%|######    | 3/5 [00:14<00:07,  3.61s/it]\n",
      "\n",
      "min_data_in_leaf, val_score: 0.032564:  80%|########  | 4/5 [00:14<00:03,  3.62s/it][I 2020-06-01 23:51:17,423] Finished trial#63 with value: 0.03261067898471357 with parameters: {'min_child_samples': 25}. Best is trial#60 with value: 0.03256426247337006.\n",
      "\n",
      "\n",
      "min_data_in_leaf, val_score: 0.032564:  80%|########  | 4/5 [00:14<00:03,  3.62s/it]"
     ]
    },
    {
     "name": "stdout",
     "output_type": "stream",
     "text": [
      "[20]\tcv_agg's binary_logloss: 0.0709554 + 0.00561432\n",
      "[40]\tcv_agg's binary_logloss: 0.0548737 + 0.00602859\n",
      "[60]\tcv_agg's binary_logloss: 0.0466278 + 0.00639949\n",
      "[80]\tcv_agg's binary_logloss: 0.042172 + 0.0068855\n",
      "[100]\tcv_agg's binary_logloss: 0.039468 + 0.0069202\n",
      "[120]\tcv_agg's binary_logloss: 0.0374321 + 0.00727884\n",
      "[140]\tcv_agg's binary_logloss: 0.03635 + 0.00780275\n",
      "[160]\tcv_agg's binary_logloss: 0.0355607 + 0.00792071\n",
      "[180]\tcv_agg's binary_logloss: 0.0347951 + 0.00797402\n",
      "[200]\tcv_agg's binary_logloss: 0.0344731 + 0.00855053\n",
      "[220]\tcv_agg's binary_logloss: 0.0335661 + 0.00852046\n",
      "[240]\tcv_agg's binary_logloss: 0.0331925 + 0.00907343\n",
      "[260]\tcv_agg's binary_logloss: 0.0330577 + 0.00910955\n",
      "[280]\tcv_agg's binary_logloss: 0.0329471 + 0.00949619\n",
      "[300]\tcv_agg's binary_logloss: 0.0328672 + 0.00954112\n",
      "[320]\tcv_agg's binary_logloss: 0.0329066 + 0.00974057\n",
      "[340]\tcv_agg's binary_logloss: 0.0327454 + 0.00976774\n",
      "[360]\tcv_agg's binary_logloss: 0.0328193 + 0.0102266\n",
      "[380]\tcv_agg's binary_logloss: 0.0330342 + 0.0106204\n",
      "[400]\tcv_agg's binary_logloss: 0.0331274 + 0.0106485\n",
      "[420]\tcv_agg's binary_logloss: 0.033246 + 0.0110813\n"
     ]
    },
    {
     "name": "stderr",
     "output_type": "stream",
     "text": [
      "\n",
      "\n",
      "min_data_in_leaf, val_score: 0.032564:  80%|########  | 4/5 [00:18<00:03,  3.62s/it]\n",
      "\n",
      "min_data_in_leaf, val_score: 0.032564: 100%|##########| 5/5 [00:18<00:00,  3.65s/it][I 2020-06-01 23:51:21,147] Finished trial#64 with value: 0.032743427179974915 with parameters: {'min_child_samples': 10}. Best is trial#60 with value: 0.03256426247337006.\n",
      "min_data_in_leaf, val_score: 0.032564: 100%|##########| 5/5 [00:18<00:00,  3.69s/it]\n"
     ]
    },
    {
     "name": "stdout",
     "output_type": "stream",
     "text": [
      "CPU times: user 1h 49min 11s, sys: 2min 54s, total: 1h 52min 6s\n",
      "Wall time: 10min 30s\n"
     ]
    }
   ],
   "source": [
    "%%time\n",
    "# 最適なパラメータを探索する\n",
    "tuner_cv.run()"
   ]
  },
  {
   "cell_type": "code",
   "execution_count": 29,
   "metadata": {},
   "outputs": [
    {
     "name": "stdout",
     "output_type": "stream",
     "text": [
      "{'objective': 'binary', 'metric': 'binary_logloss', 'verbosity': -1, 'boosting': 'gbdt', 'lambda_l1': 0.0029365252139988236, 'lambda_l2': 0.010246689463847606, 'num_leaves': 2, 'feature_fraction': 0.44800000000000006, 'bagging_fraction': 0.8780768335818601, 'bagging_freq': 4, 'min_child_samples': 100}\n"
     ]
    }
   ],
   "source": [
    "print(tuner_cv.best_params)"
   ]
  },
  {
   "cell_type": "code",
   "execution_count": null,
   "metadata": {},
   "outputs": [],
   "source": []
  },
  {
   "cell_type": "code",
   "execution_count": null,
   "metadata": {},
   "outputs": [],
   "source": []
  }
 ],
 "metadata": {
  "kernelspec": {
   "display_name": "Python 3",
   "language": "python",
   "name": "python3"
  },
  "language_info": {
   "codemirror_mode": {
    "name": "ipython",
    "version": 3
   },
   "file_extension": ".py",
   "mimetype": "text/x-python",
   "name": "python",
   "nbconvert_exporter": "python",
   "pygments_lexer": "ipython3",
   "version": "3.7.2"
  }
 },
 "nbformat": 4,
 "nbformat_minor": 4
}
